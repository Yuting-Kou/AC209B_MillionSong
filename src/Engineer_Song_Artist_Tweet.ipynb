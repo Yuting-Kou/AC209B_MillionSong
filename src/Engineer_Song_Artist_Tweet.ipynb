{
 "cells": [
  {
   "cell_type": "code",
   "execution_count": null,
   "metadata": {},
   "outputs": [],
   "source": [
    "import pandas as pd\n",
    "import csv\n",
    "import numpy as np\n",
    "import pickle\n",
    "import re"
   ]
  },
  {
   "cell_type": "markdown",
   "metadata": {},
   "source": [
    "https://zenodo.org/record/2594557#.XMus-pNKjp4"
   ]
  },
  {
   "cell_type": "code",
   "execution_count": null,
   "metadata": {},
   "outputs": [],
   "source": [
    "artist_name = dict()\n",
    "track_name = dict()\n",
    "total = 0\n",
    "badline = 0\n",
    "with open('spotify_dataset.csv','r') as f:\n",
    "    for i in csv.reader(f):\n",
    "        total+=1\n",
    "        if len(i) == 4:\n",
    "            name=i[1].lower()\n",
    "            song = i[2].lower()\n",
    "            if '(' in song:\n",
    "                cut = song.index('(')\n",
    "                song = song[:cut]\n",
    "            if '[' in song:\n",
    "                cut = song.index('[')\n",
    "                song = song[:cut]\n",
    "            if '-' in song:\n",
    "                cut = song.index('-')\n",
    "                song = song[:cut]\n",
    "            song = re.sub(r'[^\\w\\s]','',song)\n",
    "\n",
    "            if name in artist_name:\n",
    "                artist_name[name]+=1\n",
    "            else:\n",
    "                 artist_name[name]=1\n",
    "            if song in track_name:\n",
    "                track_name[song]+=1\n",
    "            else:\n",
    "                track_name[song]=1\n",
    "        else:\n",
    "            badline+=1"
   ]
  },
  {
   "cell_type": "code",
   "execution_count": null,
   "metadata": {},
   "outputs": [],
   "source": [
    "song = set()\n",
    "with open('spotify_dataset.csv','r') as f:\n",
    "    for i in csv.reader(f):\n",
    "        if len(i) == 4:\n",
    "            print(i[2].lower())\n",
    "            song.add(i[2].lower())"
   ]
  },
  {
   "cell_type": "code",
   "execution_count": null,
   "metadata": {},
   "outputs": [],
   "source": [
    "print(total)\n",
    "print(badline)"
   ]
  },
  {
   "cell_type": "code",
   "execution_count": null,
   "metadata": {},
   "outputs": [],
   "source": [
    "coun= 0\n",
    "for key in track_name:\n",
    "    if coun<100:\n",
    "        print(key)\n",
    "        coun+=1"
   ]
  },
  {
   "cell_type": "code",
   "execution_count": null,
   "metadata": {},
   "outputs": [],
   "source": [
    "coun= 0\n",
    "for key in artist_name:\n",
    "    if coun<100:\n",
    "        print(key)\n",
    "        coun+=1"
   ]
  },
  {
   "cell_type": "code",
   "execution_count": null,
   "metadata": {},
   "outputs": [],
   "source": [
    "len(artist_name)"
   ]
  },
  {
   "cell_type": "code",
   "execution_count": null,
   "metadata": {},
   "outputs": [],
   "source": [
    "len(track_name)"
   ]
  },
  {
   "cell_type": "code",
   "execution_count": null,
   "metadata": {},
   "outputs": [],
   "source": [
    "new=pd.read_csv('music_complete_column.csv')"
   ]
  },
  {
   "cell_type": "code",
   "execution_count": null,
   "metadata": {},
   "outputs": [],
   "source": [
    "with open('artist_freq','wb') as file:\n",
    "    pickle.dump(artist_name,file)"
   ]
  },
  {
   "cell_type": "code",
   "execution_count": null,
   "metadata": {},
   "outputs": [],
   "source": [
    "with open('artist_freq','rb') as file:\n",
    "    my_dict = pickle.load(file)"
   ]
  },
  {
   "cell_type": "code",
   "execution_count": null,
   "metadata": {},
   "outputs": [],
   "source": [
    "type(my_dict)"
   ]
  },
  {
   "cell_type": "code",
   "execution_count": null,
   "metadata": {},
   "outputs": [],
   "source": [
    "len(my_dict)"
   ]
  },
  {
   "cell_type": "code",
   "execution_count": null,
   "metadata": {},
   "outputs": [],
   "source": [
    "artist_name = my_dict"
   ]
  },
  {
   "cell_type": "code",
   "execution_count": null,
   "metadata": {},
   "outputs": [],
   "source": [
    "counter = 0\n",
    "freq = []\n",
    "for i in new['artist.name']:\n",
    "    if i.lower() in artist_name:\n",
    "        freq.append(artist_name[i.lower()])\n",
    "        counter+=1\n",
    "    else:\n",
    "        freq.append(0)\n",
    "print(counter)"
   ]
  },
  {
   "cell_type": "code",
   "execution_count": null,
   "metadata": {},
   "outputs": [],
   "source": [
    "new['artist_freq'] = freq"
   ]
  },
  {
   "cell_type": "code",
   "execution_count": null,
   "metadata": {},
   "outputs": [],
   "source": [
    "new.to_csv('music_complete_tweet.csv',index = False)"
   ]
  },
  {
   "cell_type": "code",
   "execution_count": null,
   "metadata": {},
   "outputs": [],
   "source": [
    "song_counter = 0\n",
    "for i in new['title']:\n",
    "    if not isinstance(i,float):\n",
    "        song = i.lower()\n",
    "        if '(' in song:\n",
    "            cut = song.index('(')\n",
    "            song = song[:cut]\n",
    "        if '[' in song:\n",
    "            cut = song.index('[')\n",
    "            song = song[:cut]\n",
    "        if '-' in song:\n",
    "            cut = song.index('-')\n",
    "            song = song[:cut]\n",
    "        song = re.sub(r'[^\\w\\s]','',song)\n",
    "        if song in track_name:\n",
    "            song_counter+=1\n",
    "        \n",
    "print(song_counter)"
   ]
  },
  {
   "cell_type": "code",
   "execution_count": null,
   "metadata": {},
   "outputs": [],
   "source": [
    "new.iloc[1].transpose()"
   ]
  },
  {
   "cell_type": "code",
   "execution_count": null,
   "metadata": {},
   "outputs": [],
   "source": [
    "new['title']"
   ]
  }
 ],
 "metadata": {
  "kernelspec": {
   "display_name": "Python 3",
   "language": "python",
   "name": "python3"
  },
  "language_info": {
   "codemirror_mode": {
    "name": "ipython",
    "version": 3
   },
   "file_extension": ".py",
   "mimetype": "text/x-python",
   "name": "python",
   "nbconvert_exporter": "python",
   "pygments_lexer": "ipython3",
   "version": "3.6.4"
  }
 },
 "nbformat": 4,
 "nbformat_minor": 2
}
