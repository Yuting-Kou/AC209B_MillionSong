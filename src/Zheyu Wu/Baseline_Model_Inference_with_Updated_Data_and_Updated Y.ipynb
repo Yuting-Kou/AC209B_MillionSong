{
 "cells": [
  {
   "cell_type": "code",
   "execution_count": 1,
   "metadata": {},
   "outputs": [],
   "source": [
    "import pandas as pd\n",
    "import numpy as np\n",
    "import matplotlib.pyplot as plt\n",
    "\n",
    "from sklearn.neighbors import KNeighborsRegressor\n",
    "from sklearn.linear_model import LinearRegression\n",
    "from sklearn.linear_model import LogisticRegression\n",
    "from sklearn.tree import DecisionTreeRegressor\n",
    "from sklearn.ensemble import RandomForestRegressor\n",
    "from sklearn.ensemble import AdaBoostRegressor\n",
    "from sklearn.metrics import r2_score\n",
    "from sklearn.preprocessing import MinMaxScaler\n",
    "from sklearn.metrics import mean_squared_error\n",
    "from sklearn.model_selection import train_test_split"
   ]
  },
  {
   "cell_type": "markdown",
   "metadata": {},
   "source": [
    "## Merge all old datasets into a new one"
   ]
  },
  {
   "cell_type": "code",
   "execution_count": 43,
   "metadata": {},
   "outputs": [],
   "source": [
    "df=pd.read_csv(r'../../data/music_clean.csv')\n",
    "# release name and song name\n",
    "sentiment_df = pd.read_csv('../../data/sentiment.csv')\n",
    "SVD_df = pd.read_csv('../../data/feature_extraction.csv', index_col = 0)\n",
    "SVD_df.drop(['log_Y'], axis = 1, inplace = True)\n",
    "# hotness\n",
    "hotness1_df = pd.read_csv('../../data/hotness1.csv', header = None)\n",
    "hotness1_df.columns = ['Youtube_Hotness']\n",
    "hotness1_df['Youtube_Hotness'] = np.log(1e-6 + hotness1_df['Youtube_Hotness'])\n",
    "# song attributes# singer attributesgrammy_df = pd.read_csv('../../data/new_data_with_grammy.csv')\n",
    "grammy_df = grammy_df[['grammy_relevance']]\n",
    "tweet_df = pd.read_csv('../../data/music_complete_tweet.csv')\n",
    "tweet_df = tweet_df[['artist_freq']]\n",
    "# country\n",
    "country = pd.read_csv('../../data/million_song.csv',index_col=0)\n",
    "country = pd.get_dummies(country[['country']])"
   ]
  },
  {
   "cell_type": "code",
   "execution_count": 47,
   "metadata": {},
   "outputs": [],
   "source": [
    "all_data_df=pd.concat([hotness1_df,df,sentiment_df,SVD_df,grammy_df,tweet_df,country],axis=1)"
   ]
  },
  {
   "cell_type": "code",
   "execution_count": 49,
   "metadata": {},
   "outputs": [],
   "source": [
    "all_data_df.to_csv('../../data/all_data.csv')"
   ]
  },
  {
   "cell_type": "markdown",
   "metadata": {},
   "source": [
    "Remove attributes..."
   ]
  },
  {
   "cell_type": "code",
   "execution_count": 48,
   "metadata": {},
   "outputs": [],
   "source": [
    "all_data_df = all_data_df.drop(['artist.id', 'artist.name', 'artist_mbtags', 'latitude',\n",
    "                 'location', 'longitude', 'release.id', 'release.name',\n",
    "                 'similar', 'song.hotttnesss', 'song.id', 'terms',\n",
    "                 'title', 'year', 'mbtags_count', 'mbtag_0', 'mbtag_1', 'mbtag_2', 'similar_hotness'], axis = 1)"
   ]
  },
  {
   "cell_type": "code",
   "execution_count": 22,
   "metadata": {},
   "outputs": [],
   "source": [
    "def char_to_int(char):\n",
    "    try: \n",
    "        return ord(char.lower()) - 96\n",
    "    except: return None"
   ]
  },
  {
   "cell_type": "code",
   "execution_count": 23,
   "metadata": {},
   "outputs": [],
   "source": [
    "all_data_df['artist_firstname'] = all_data_df['artist_firstname'].apply(char_to_int)\n",
    "all_data_df['artist_lastname'] = all_data_df['artist_lastname'].apply(char_to_int)"
   ]
  },
  {
   "cell_type": "code",
   "execution_count": 24,
   "metadata": {},
   "outputs": [],
   "source": [
    "million_song = pd.read_csv('../../data/million_song.csv')\n",
    "all_data_df = all_data_df.join(pd.get_dummies(million_song['country']))"
   ]
  },
  {
   "cell_type": "code",
   "execution_count": 25,
   "metadata": {},
   "outputs": [
    {
     "data": {
      "text/plain": [
       "Index(['artist.hotttnesss', 'artist_mbtags_count', 'bars_confidence',\n",
       "       'bars_start', 'beats_confidence', 'beats_start', 'duration',\n",
       "       'end_of_fade_in', 'familiarity', 'key', 'key_confidence', 'loudness',\n",
       "       'mode', 'mode_confidence', 'start_of_fade_out', 'tatums_confidence',\n",
       "       'tatums_start', 'tempo', 'terms_freq', 'time_signature',\n",
       "       'time_signature_confidence', 'decade', 'artist_firstname',\n",
       "       'artist_lastname', 'term_id', 'grammy_relevance', 'Youtube Hotness',\n",
       "       'title_neg', 'title_neu', 'title_pos', 'title_compound',\n",
       "       'release.name_neg', 'release.name_neu', 'release.name_pos',\n",
       "       'release.name_compound', 'release_svd_1_10', 'release_svd_2_10',\n",
       "       'release_svd_3_10', 'release_svd_4_10', 'release_svd_5_10',\n",
       "       'release_svd_6_10', 'release_svd_7_10', 'release_svd_8_10',\n",
       "       'release_svd_9_10', 'release_svd_10_10', 'title_svd_1_10',\n",
       "       'title_svd_2_10', 'title_svd_3_10', 'title_svd_4_10', 'title_svd_5_10',\n",
       "       'title_svd_6_10', 'title_svd_7_10', 'title_svd_8_10', 'title_svd_9_10',\n",
       "       'title_svd_10_10', 'artist_freq', 'foreign', 'unknown', 'us'],\n",
       "      dtype='object')"
      ]
     },
     "execution_count": 25,
     "metadata": {},
     "output_type": "execute_result"
    }
   ],
   "source": [
    "all_data_df.columns"
   ]
  },
  {
   "cell_type": "code",
   "execution_count": 26,
   "metadata": {},
   "outputs": [],
   "source": []
  },
  {
   "cell_type": "code",
   "execution_count": 25,
   "metadata": {},
   "outputs": [
    {
     "data": {
      "text/plain": [
       "Index(['artist.hotttnesss', 'artist_mbtags_count', 'bars_confidence',\n",
       "       'bars_start', 'beats_confidence', 'beats_start', 'duration',\n",
       "       'end_of_fade_in', 'familiarity', 'key', 'key_confidence', 'loudness',\n",
       "       'mode', 'mode_confidence', 'start_of_fade_out', 'tatums_confidence',\n",
       "       'tatums_start', 'tempo', 'terms_freq', 'time_signature',\n",
       "       'time_signature_confidence', 'decade', 'artist_firstname',\n",
       "       'artist_lastname', 'term_id', 'grammy_relevance', 'Youtube Hotness',\n",
       "       'title_neg', 'title_neu', 'title_pos', 'title_compound',\n",
       "       'release.name_neg', 'release.name_neu', 'release.name_pos',\n",
       "       'release.name_compound', 'release_svd_1_10', 'release_svd_2_10',\n",
       "       'release_svd_3_10', 'release_svd_4_10', 'release_svd_5_10',\n",
       "       'release_svd_6_10', 'release_svd_7_10', 'release_svd_8_10',\n",
       "       'release_svd_9_10', 'release_svd_10_10', 'title_svd_1_10',\n",
       "       'title_svd_2_10', 'title_svd_3_10', 'title_svd_4_10', 'title_svd_5_10',\n",
       "       'title_svd_6_10', 'title_svd_7_10', 'title_svd_8_10', 'title_svd_9_10',\n",
       "       'title_svd_10_10', 'artist_freq'],\n",
       "      dtype='object')"
      ]
     },
     "execution_count": 25,
     "metadata": {},
     "output_type": "execute_result"
    }
   ],
   "source": [
    "all_data_df.columns"
   ]
  },
  {
   "cell_type": "markdown",
   "metadata": {},
   "source": [
    "## Data Preprocessing"
   ]
  },
  {
   "cell_type": "code",
   "execution_count": 26,
   "metadata": {},
   "outputs": [],
   "source": [
    "all_data_df = all_data_df.dropna(axis = 0)"
   ]
  },
  {
   "cell_type": "code",
   "execution_count": 27,
   "metadata": {},
   "outputs": [],
   "source": [
    "X = all_data_df.drop('Youtube Hotness', axis = 1)\n",
    "Y = all_data_df['Youtube Hotness']\n",
    "X_train, X_test, y_train, y_test = train_test_split(X, Y, test_size = 0.3, random_state = 2019)"
   ]
  },
  {
   "cell_type": "code",
   "execution_count": 28,
   "metadata": {},
   "outputs": [
    {
     "name": "stderr",
     "output_type": "stream",
     "text": [
      "/Users/zheyuwu/anaconda3/lib/python3.6/site-packages/sklearn/preprocessing/data.py:323: DataConversionWarning: Data with input dtype int64, float64 were all converted to float64 by MinMaxScaler.\n",
      "  return self.partial_fit(X, y)\n"
     ]
    }
   ],
   "source": [
    "scaler = MinMaxScaler()\n",
    "scaler.fit(X_train)\n",
    "X_train_scaled = scaler.transform(X_train)\n",
    "X_test_scaled = scaler.transform(X_test)"
   ]
  },
  {
   "cell_type": "markdown",
   "metadata": {},
   "source": [
    "## Linear Regression"
   ]
  },
  {
   "cell_type": "code",
   "execution_count": 29,
   "metadata": {},
   "outputs": [],
   "source": [
    "linearModel = LinearRegression()\n",
    "linearModel.fit(X_train_scaled, y_train)\n",
    "y_predict = linearModel.predict(X_test_scaled)"
   ]
  },
  {
   "cell_type": "markdown",
   "metadata": {},
   "source": [
    "**Training Set Performance**"
   ]
  },
  {
   "cell_type": "code",
   "execution_count": 30,
   "metadata": {},
   "outputs": [
    {
     "name": "stdout",
     "output_type": "stream",
     "text": [
      "R-square score of Linear Regression Model is 0.1886745265450559\n"
     ]
    }
   ],
   "source": [
    "print ('R-square score of Linear Regression Model is {}'.format(r2_score(y_train, linearModel.predict(X_train_scaled))))"
   ]
  },
  {
   "cell_type": "code",
   "execution_count": 31,
   "metadata": {},
   "outputs": [
    {
     "name": "stdout",
     "output_type": "stream",
     "text": [
      "MSE of Linear Regression Model is 74.7718299845645\n"
     ]
    }
   ],
   "source": [
    "print ('MSE of Linear Regression Model is {}'.format(mean_squared_error(y_train, linearModel.predict(X_train_scaled))))\n"
   ]
  },
  {
   "cell_type": "markdown",
   "metadata": {},
   "source": [
    "**Test Set Performance**"
   ]
  },
  {
   "cell_type": "code",
   "execution_count": 34,
   "metadata": {},
   "outputs": [
    {
     "name": "stdout",
     "output_type": "stream",
     "text": [
      "R-square score of Linear Regression Model is 0.1497044747687828\n",
      "MSE of Linear Regression Model is 77.95430586067883\n"
     ]
    }
   ],
   "source": [
    "print ('R-square score of Linear Regression Model is {}'.format(r2_score(y_test, y_predict)))\n",
    "print ('MSE of Linear Regression Model is {}'.format(mean_squared_error(y_test, y_predict)))"
   ]
  },
  {
   "cell_type": "markdown",
   "metadata": {},
   "source": [
    "## kNN"
   ]
  },
  {
   "cell_type": "code",
   "execution_count": 35,
   "metadata": {},
   "outputs": [],
   "source": [
    "KNNmodels = {}\n",
    "k_set = [1,10,75,250,500,750,1000]"
   ]
  },
  {
   "cell_type": "code",
   "execution_count": 36,
   "metadata": {},
   "outputs": [],
   "source": [
    "r2_test = []\n",
    "r2_train = []\n",
    "mse_test = []\n",
    "mse_train = []"
   ]
  },
  {
   "cell_type": "code",
   "execution_count": 37,
   "metadata": {},
   "outputs": [],
   "source": [
    "for k in k_set:\n",
    "    knnreg = KNeighborsRegressor(n_neighbors=k)\n",
    "    knnreg.fit(X_train_scaled, y_train)\n",
    "    KNNmodels[k] = knnreg"
   ]
  },
  {
   "cell_type": "code",
   "execution_count": 38,
   "metadata": {},
   "outputs": [],
   "source": [
    "for k, model in KNNmodels.items():\n",
    "    y_predict = model.predict(X_test_scaled)\n",
    "    \n",
    "    r2_test.append(r2_score(y_test, y_predict))\n",
    "    r2_train.append(r2_score(y_train, model.predict(X_train_scaled)))\n",
    "    mse_test.append(mean_squared_error(y_test, y_predict))\n",
    "    mse_train.append(mean_squared_error(y_train, model.predict(X_train_scaled)))"
   ]
  },
  {
   "cell_type": "markdown",
   "metadata": {},
   "source": [
    "**Performance**"
   ]
  },
  {
   "cell_type": "code",
   "execution_count": 39,
   "metadata": {},
   "outputs": [
    {
     "data": {
      "image/png": "[encoded data removed]",
      "text/plain": [
       "<Figure size 720x360 with 2 Axes>"
      ]
     },
     "metadata": {
      "needs_background": "light"
     },
     "output_type": "display_data"
    }
   ],
   "source": [
    "fig, axes = plt.subplots(1,2, figsize = (10, 5))\n",
    "axes[0].plot(k_set, r2_train, marker = 'o', label = 'Train')\n",
    "axes[0].plot(k_set, r2_test, marker = 'o', label = 'Test')\n",
    "axes[0].set_title('R2')\n",
    "axes[0].set_xlabel('k')\n",
    "axes[0].set_ylabel('R2')\n",
    "axes[0].legend()\n",
    "axes[1].plot(k_set, mse_train, marker = 'o', label = 'Train')\n",
    "axes[1].plot(k_set, mse_test, marker = 'o', label = 'Test')\n",
    "axes[1].set_title('MSE')\n",
    "axes[1].set_xlabel('k')\n",
    "axes[1].set_ylabel('MSE')\n",
    "axes[1].legend();"
   ]
  },
  {
   "cell_type": "markdown",
   "metadata": {},
   "source": [
    "## Regression Tree"
   ]
  },
  {
   "cell_type": "code",
   "execution_count": 40,
   "metadata": {},
   "outputs": [],
   "source": [
    "tree_list = []\n",
    "tree_depth = [1,2,5,8,10,15,20]\n",
    "for i in tree_depth:\n",
    "    tree = DecisionTreeRegressor(max_depth = i)\n",
    "    tree.fit(X_train_scaled, y_train)\n",
    "    tree_list.append(tree)"
   ]
  },
  {
   "cell_type": "code",
   "execution_count": 41,
   "metadata": {},
   "outputs": [],
   "source": [
    "r2_test = []\n",
    "r2_train = []\n",
    "mse_test = []\n",
    "mse_train = []"
   ]
  },
  {
   "cell_type": "code",
   "execution_count": 42,
   "metadata": {},
   "outputs": [],
   "source": [
    "for tree in tree_list:\n",
    "    y_predict = tree.predict(X_test_scaled)\n",
    "    \n",
    "    r2_test.append(r2_score(y_test, y_predict))\n",
    "    r2_train.append(r2_score(y_train, tree.predict(X_train_scaled)))\n",
    "    mse_test.append(mean_squared_error(y_test, y_predict))\n",
    "    mse_train.append(mean_squared_error(y_train, tree.predict(X_train_scaled)))"
   ]
  },
  {
   "cell_type": "code",
   "execution_count": 43,
   "metadata": {},
   "outputs": [
    {
     "data": {
      "image/png": "[encoded data removed]",
      "text/plain": [
       "<Figure size 720x360 with 2 Axes>"
      ]
     },
     "metadata": {
      "needs_background": "light"
     },
     "output_type": "display_data"
    }
   ],
   "source": [
    "fig, axes = plt.subplots(1,2, figsize = (10, 5))\n",
    "axes[0].plot(tree_depth, r2_train, marker = 'o', label = 'Train')\n",
    "axes[0].plot(tree_depth, r2_test, marker = 'o', label = 'Test')\n",
    "axes[0].set_title('R2')\n",
    "axes[0].set_xlabel('depth')\n",
    "axes[0].set_ylabel('R2')\n",
    "axes[0].legend()\n",
    "axes[1].plot(tree_depth, mse_train, marker = 'o', label = 'Train')\n",
    "axes[1].plot(tree_depth, mse_test, marker = 'o', label = 'Test')\n",
    "axes[1].set_title('MSE')\n",
    "axes[1].set_xlabel('depth')\n",
    "axes[1].set_ylabel('MSE')\n",
    "axes[1].legend();"
   ]
  },
  {
   "cell_type": "markdown",
   "metadata": {},
   "source": [
    "## Random Forest for Regression"
   ]
  },
  {
   "cell_type": "code",
   "execution_count": 44,
   "metadata": {},
   "outputs": [],
   "source": [
    "forest_list = []\n",
    "forest_depth = [1,2,5,8,10,15,20]\n",
    "for i in tree_depth:\n",
    "    forest = RandomForestRegressor(max_depth = i, n_estimators=10)\n",
    "    forest.fit(X_train_scaled, y_train)\n",
    "    forest_list.append(forest)"
   ]
  },
  {
   "cell_type": "code",
   "execution_count": 45,
   "metadata": {},
   "outputs": [],
   "source": [
    "r2_test = []\n",
    "r2_train = []\n",
    "mse_test = []\n",
    "mse_train = []"
   ]
  },
  {
   "cell_type": "code",
   "execution_count": 46,
   "metadata": {},
   "outputs": [],
   "source": [
    "for forest in forest_list:\n",
    "    y_predict = forest.predict(X_test_scaled)\n",
    "    \n",
    "    r2_test.append(r2_score(y_test, y_predict))\n",
    "    r2_train.append(r2_score(y_train, forest.predict(X_train_scaled)))\n",
    "    mse_test.append(mean_squared_error(y_test, y_predict))\n",
    "    mse_train.append(mean_squared_error(y_train, forest.predict(X_train_scaled)))"
   ]
  },
  {
   "cell_type": "markdown",
   "metadata": {},
   "source": [
    "**Performance**"
   ]
  },
  {
   "cell_type": "code",
   "execution_count": 47,
   "metadata": {},
   "outputs": [
    {
     "data": {
      "image/png": "[encoded data removed]",
      "text/plain": [
       "<Figure size 720x360 with 2 Axes>"
      ]
     },
     "metadata": {
      "needs_background": "light"
     },
     "output_type": "display_data"
    }
   ],
   "source": [
    "fig, axes = plt.subplots(1,2, figsize = (10, 5))\n",
    "axes[0].plot(forest_depth, r2_train, marker = 'o', label = 'Train')\n",
    "axes[0].plot(forest_depth, r2_test, marker = 'o', label = 'Test')\n",
    "axes[0].set_title('R2')\n",
    "axes[0].set_xlabel('depth')\n",
    "axes[0].set_ylabel('R2')\n",
    "axes[0].legend()\n",
    "axes[1].plot(forest_depth, mse_train, marker = 'o', label = 'Train')\n",
    "axes[1].plot(forest_depth, mse_test, marker = 'o', label = 'Test')\n",
    "axes[1].set_title('MSE')\n",
    "axes[1].set_xlabel('depth')\n",
    "axes[1].set_ylabel('MSE')\n",
    "axes[1].legend();"
   ]
  },
  {
   "cell_type": "markdown",
   "metadata": {},
   "source": [
    "## Neural Network"
   ]
  },
  {
   "cell_type": "code",
   "execution_count": 48,
   "metadata": {},
   "outputs": [
    {
     "name": "stderr",
     "output_type": "stream",
     "text": [
      "Using TensorFlow backend.\n"
     ]
    }
   ],
   "source": [
    "import keras \n",
    "from keras.models import Sequential\n",
    "from keras.layers import Dense\n",
    "from keras.layers import Dropout"
   ]
  },
  {
   "cell_type": "code",
   "execution_count": 53,
   "metadata": {},
   "outputs": [],
   "source": [
    "H = 100\n",
    "input_dim = 55\n",
    "drop_out_rate = 0.2\n",
    "batch_size = 128"
   ]
  },
  {
   "cell_type": "code",
   "execution_count": 54,
   "metadata": {},
   "outputs": [],
   "source": [
    "multi_layer_model = Sequential()\n",
    "\n",
    "multi_layer_model.add(Dense(H, input_dim=input_dim,  activation='relu'))\n",
    "multi_layer_model.add(Dropout(drop_out_rate))\n",
    "multi_layer_model.add(Dense(H, activation='relu'))\n",
    "multi_layer_model.add(Dropout(drop_out_rate))\n",
    "multi_layer_model.add(Dense(H, activation='relu'))\n",
    "multi_layer_model.add(Dropout(drop_out_rate))\n",
    "multi_layer_model.add(Dense(1, activation='linear'))  \n",
    "\n",
    "multi_layer_model.compile(loss='mean_squared_error', optimizer='sgd')"
   ]
  },
  {
   "cell_type": "code",
   "execution_count": 55,
   "metadata": {},
   "outputs": [
    {
     "name": "stdout",
     "output_type": "stream",
     "text": [
      "_________________________________________________________________\n",
      "Layer (type)                 Output Shape              Param #   \n",
      "=================================================================\n",
      "dense_5 (Dense)              (None, 100)               5600      \n",
      "_________________________________________________________________\n",
      "dropout_4 (Dropout)          (None, 100)               0         \n",
      "_________________________________________________________________\n",
      "dense_6 (Dense)              (None, 100)               10100     \n",
      "_________________________________________________________________\n",
      "dropout_5 (Dropout)          (None, 100)               0         \n",
      "_________________________________________________________________\n",
      "dense_7 (Dense)              (None, 100)               10100     \n",
      "_________________________________________________________________\n",
      "dropout_6 (Dropout)          (None, 100)               0         \n",
      "_________________________________________________________________\n",
      "dense_8 (Dense)              (None, 1)                 101       \n",
      "=================================================================\n",
      "Total params: 25,901\n",
      "Trainable params: 25,901\n",
      "Non-trainable params: 0\n",
      "_________________________________________________________________\n"
     ]
    }
   ],
   "source": [
    "multi_layer_model.summary()"
   ]
  },
  {
   "cell_type": "code",
   "execution_count": 56,
   "metadata": {},
   "outputs": [
    {
     "name": "stdout",
     "output_type": "stream",
     "text": [
      "Epoch 1/1\n",
      "6995/6995 [==============================] - 0s 43us/step - loss: 94.9988\n"
     ]
    },
    {
     "data": {
      "text/plain": [
       "<keras.callbacks.History at 0x1a265cd278>"
      ]
     },
     "execution_count": 56,
     "metadata": {},
     "output_type": "execute_result"
    }
   ],
   "source": [
    "multi_layer_model.fit(X_train_scaled, y_train, batch_size=batch_size, verbose = 1)"
   ]
  },
  {
   "cell_type": "markdown",
   "metadata": {},
   "source": [
    "**Training Set Performance**"
   ]
  },
  {
   "cell_type": "code",
   "execution_count": 57,
   "metadata": {},
   "outputs": [
    {
     "name": "stdout",
     "output_type": "stream",
     "text": [
      "R-square score of MLP Model is 0.03078769568094375\n",
      "MSE of MLP is 89.32269478596247\n"
     ]
    }
   ],
   "source": [
    "print ('R-square score of MLP Model is {}'.format(r2_score(y_train, multi_layer_model.predict(X_train_scaled))))\n",
    "print ('MSE of MLP is {}'.format(mean_squared_error(y_train, multi_layer_model.predict(X_train_scaled))))"
   ]
  },
  {
   "cell_type": "markdown",
   "metadata": {},
   "source": [
    "**Test Set Performance**"
   ]
  },
  {
   "cell_type": "code",
   "execution_count": 58,
   "metadata": {},
   "outputs": [],
   "source": [
    "y_predict = multi_layer_model.predict(X_test_scaled)"
   ]
  },
  {
   "cell_type": "code",
   "execution_count": 59,
   "metadata": {},
   "outputs": [
    {
     "name": "stdout",
     "output_type": "stream",
     "text": [
      "R-square score of Linear Regression Model is 0.03292857891352985\n",
      "MSE of Linear Regression Model is 88.6602117869505\n"
     ]
    }
   ],
   "source": [
    "print ('R-square score of Linear Regression Model is {}'.format(r2_score(y_test, y_predict)))\n",
    "print ('MSE of Linear Regression Model is {}'.format(mean_squared_error(y_test, y_predict)))"
   ]
  }
 ],
 "metadata": {
  "kernelspec": {
   "display_name": "Python 3",
   "language": "python",
   "name": "python3"
  },
  "language_info": {
   "codemirror_mode": {
    "name": "ipython",
    "version": 3
   },
   "file_extension": ".py",
   "mimetype": "text/x-python",
   "name": "python",
   "nbconvert_exporter": "python",
   "pygments_lexer": "ipython3",
   "version": "3.7.1"
  }
 },
 "nbformat": 4,
 "nbformat_minor": 2
}
