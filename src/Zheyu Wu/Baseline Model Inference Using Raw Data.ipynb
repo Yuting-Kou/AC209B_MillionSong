{
 "cells": [
  {
   "cell_type": "markdown",
   "metadata": {},
   "source": [
    "In this Jupyter Notebook, I am showing the results of fitting models **directly** to the raw data, without any preprocessing. This will give us some baseline performance."
   ]
  },
  {
   "cell_type": "code",
   "execution_count": 1,
   "metadata": {},
   "outputs": [],
   "source": [
    "import pandas as pd\n",
    "import numpy as np\n",
    "import matplotlib.pyplot as plt\n",
    "\n",
    "from sklearn.neighbors import KNeighborsRegressor\n",
    "from sklearn.linear_model import LinearRegression\n",
    "from sklearn.linear_model import LogisticRegression\n",
    "from sklearn.tree import DecisionTreeRegressor\n",
    "from sklearn.ensemble import RandomForestRegressor\n",
    "from sklearn.ensemble import AdaBoostRegressor\n",
    "from sklearn.metrics import r2_score\n",
    "from sklearn.preprocessing import MinMaxScaler\n",
    "from sklearn.metrics import mean_squared_error\n",
    "from sklearn.model_selection import train_test_split"
   ]
  },
  {
   "cell_type": "code",
   "execution_count": 2,
   "metadata": {},
   "outputs": [
    {
     "data": {
      "text/html": [
       "<div>\n",
       "<style scoped>\n",
       "    .dataframe tbody tr th:only-of-type {\n",
       "        vertical-align: middle;\n",
       "    }\n",
       "\n",
       "    .dataframe tbody tr th {\n",
       "        vertical-align: top;\n",
       "    }\n",
       "\n",
       "    .dataframe thead th {\n",
       "        text-align: right;\n",
       "    }\n",
       "</style>\n",
       "<table border=\"1\" class=\"dataframe\">\n",
       "  <thead>\n",
       "    <tr style=\"text-align: right;\">\n",
       "      <th></th>\n",
       "      <th>artist.hotttnesss</th>\n",
       "      <th>artist.id</th>\n",
       "      <th>artist.name</th>\n",
       "      <th>artist_mbtags</th>\n",
       "      <th>artist_mbtags_count</th>\n",
       "      <th>bars_confidence</th>\n",
       "      <th>bars_start</th>\n",
       "      <th>beats_confidence</th>\n",
       "      <th>beats_start</th>\n",
       "      <th>duration</th>\n",
       "      <th>...</th>\n",
       "      <th>start_of_fade_out</th>\n",
       "      <th>tatums_confidence</th>\n",
       "      <th>tatums_start</th>\n",
       "      <th>tempo</th>\n",
       "      <th>terms</th>\n",
       "      <th>terms_freq</th>\n",
       "      <th>time_signature</th>\n",
       "      <th>time_signature_confidence</th>\n",
       "      <th>title</th>\n",
       "      <th>year</th>\n",
       "    </tr>\n",
       "  </thead>\n",
       "  <tbody>\n",
       "    <tr>\n",
       "      <th>0</th>\n",
       "      <td>0.401998</td>\n",
       "      <td>ARD7TVE1187B99BFB1</td>\n",
       "      <td>Casual</td>\n",
       "      <td>NaN</td>\n",
       "      <td>0.0</td>\n",
       "      <td>0.643</td>\n",
       "      <td>0.58521</td>\n",
       "      <td>0.834</td>\n",
       "      <td>0.58521</td>\n",
       "      <td>218.93179</td>\n",
       "      <td>...</td>\n",
       "      <td>218.932</td>\n",
       "      <td>0.779</td>\n",
       "      <td>0.28519</td>\n",
       "      <td>92.198</td>\n",
       "      <td>hip hop</td>\n",
       "      <td>1.000000</td>\n",
       "      <td>4.0</td>\n",
       "      <td>0.778</td>\n",
       "      <td>I Didn't Mean To</td>\n",
       "      <td>0</td>\n",
       "    </tr>\n",
       "    <tr>\n",
       "      <th>1</th>\n",
       "      <td>0.417500</td>\n",
       "      <td>ARMJAGH1187FB546F3</td>\n",
       "      <td>The Box Tops</td>\n",
       "      <td>classic pop and rock</td>\n",
       "      <td>1.0</td>\n",
       "      <td>0.007</td>\n",
       "      <td>0.71054</td>\n",
       "      <td>1.000</td>\n",
       "      <td>0.20627</td>\n",
       "      <td>148.03546</td>\n",
       "      <td>...</td>\n",
       "      <td>137.915</td>\n",
       "      <td>0.969</td>\n",
       "      <td>0.20627</td>\n",
       "      <td>121.274</td>\n",
       "      <td>blue-eyed soul</td>\n",
       "      <td>1.000000</td>\n",
       "      <td>4.0</td>\n",
       "      <td>0.384</td>\n",
       "      <td>Soul Deep</td>\n",
       "      <td>1969</td>\n",
       "    </tr>\n",
       "    <tr>\n",
       "      <th>2</th>\n",
       "      <td>0.343428</td>\n",
       "      <td>ARKRRTF1187B9984DA</td>\n",
       "      <td>Sonora Santanera</td>\n",
       "      <td>NaN</td>\n",
       "      <td>0.0</td>\n",
       "      <td>0.980</td>\n",
       "      <td>0.73152</td>\n",
       "      <td>0.980</td>\n",
       "      <td>0.73152</td>\n",
       "      <td>177.47546</td>\n",
       "      <td>...</td>\n",
       "      <td>172.304</td>\n",
       "      <td>0.482</td>\n",
       "      <td>0.42132</td>\n",
       "      <td>100.070</td>\n",
       "      <td>salsa</td>\n",
       "      <td>1.000000</td>\n",
       "      <td>1.0</td>\n",
       "      <td>0.000</td>\n",
       "      <td>Amor De Cabaret</td>\n",
       "      <td>0</td>\n",
       "    </tr>\n",
       "    <tr>\n",
       "      <th>3</th>\n",
       "      <td>0.454231</td>\n",
       "      <td>AR7G5I41187FB4CE6C</td>\n",
       "      <td>Adam Ant</td>\n",
       "      <td>uk</td>\n",
       "      <td>1.0</td>\n",
       "      <td>0.017</td>\n",
       "      <td>1.30621</td>\n",
       "      <td>0.809</td>\n",
       "      <td>0.81002</td>\n",
       "      <td>233.40363</td>\n",
       "      <td>...</td>\n",
       "      <td>217.124</td>\n",
       "      <td>0.601</td>\n",
       "      <td>0.56254</td>\n",
       "      <td>119.293</td>\n",
       "      <td>pop rock</td>\n",
       "      <td>0.988584</td>\n",
       "      <td>4.0</td>\n",
       "      <td>0.000</td>\n",
       "      <td>Something Girls</td>\n",
       "      <td>1982</td>\n",
       "    </tr>\n",
       "    <tr>\n",
       "      <th>4</th>\n",
       "      <td>0.401724</td>\n",
       "      <td>ARXR32B1187FB57099</td>\n",
       "      <td>Gob</td>\n",
       "      <td>NaN</td>\n",
       "      <td>0.0</td>\n",
       "      <td>0.175</td>\n",
       "      <td>1.06368</td>\n",
       "      <td>0.883</td>\n",
       "      <td>0.13576</td>\n",
       "      <td>209.60608</td>\n",
       "      <td>...</td>\n",
       "      <td>198.699</td>\n",
       "      <td>1.000</td>\n",
       "      <td>0.13576</td>\n",
       "      <td>129.738</td>\n",
       "      <td>pop punk</td>\n",
       "      <td>0.887288</td>\n",
       "      <td>4.0</td>\n",
       "      <td>0.562</td>\n",
       "      <td>Face the Ashes</td>\n",
       "      <td>2007</td>\n",
       "    </tr>\n",
       "  </tbody>\n",
       "</table>\n",
       "<p>5 rows × 35 columns</p>\n",
       "</div>"
      ],
      "text/plain": [
       "   artist.hotttnesss           artist.id       artist.name  \\\n",
       "0           0.401998  ARD7TVE1187B99BFB1            Casual   \n",
       "1           0.417500  ARMJAGH1187FB546F3      The Box Tops   \n",
       "2           0.343428  ARKRRTF1187B9984DA  Sonora Santanera   \n",
       "3           0.454231  AR7G5I41187FB4CE6C          Adam Ant   \n",
       "4           0.401724  ARXR32B1187FB57099               Gob   \n",
       "\n",
       "          artist_mbtags  artist_mbtags_count  bars_confidence  bars_start  \\\n",
       "0                   NaN                  0.0            0.643     0.58521   \n",
       "1  classic pop and rock                  1.0            0.007     0.71054   \n",
       "2                   NaN                  0.0            0.980     0.73152   \n",
       "3                    uk                  1.0            0.017     1.30621   \n",
       "4                   NaN                  0.0            0.175     1.06368   \n",
       "\n",
       "   beats_confidence  beats_start   duration  ...  start_of_fade_out  \\\n",
       "0             0.834      0.58521  218.93179  ...            218.932   \n",
       "1             1.000      0.20627  148.03546  ...            137.915   \n",
       "2             0.980      0.73152  177.47546  ...            172.304   \n",
       "3             0.809      0.81002  233.40363  ...            217.124   \n",
       "4             0.883      0.13576  209.60608  ...            198.699   \n",
       "\n",
       "   tatums_confidence  tatums_start    tempo           terms terms_freq  \\\n",
       "0              0.779       0.28519   92.198         hip hop   1.000000   \n",
       "1              0.969       0.20627  121.274  blue-eyed soul   1.000000   \n",
       "2              0.482       0.42132  100.070           salsa   1.000000   \n",
       "3              0.601       0.56254  119.293        pop rock   0.988584   \n",
       "4              1.000       0.13576  129.738        pop punk   0.887288   \n",
       "\n",
       "   time_signature  time_signature_confidence             title  year  \n",
       "0             4.0                      0.778  I Didn't Mean To     0  \n",
       "1             4.0                      0.384         Soul Deep  1969  \n",
       "2             1.0                      0.000   Amor De Cabaret     0  \n",
       "3             4.0                      0.000   Something Girls  1982  \n",
       "4             4.0                      0.562    Face the Ashes  2007  \n",
       "\n",
       "[5 rows x 35 columns]"
      ]
     },
     "execution_count": 2,
     "metadata": {},
     "output_type": "execute_result"
    }
   ],
   "source": [
    "data = pd.read_csv('../../data/music.csv')\n",
    "data.head()"
   ]
  },
  {
   "cell_type": "code",
   "execution_count": 3,
   "metadata": {},
   "outputs": [
    {
     "name": "stdout",
     "output_type": "stream",
     "text": [
      "<class 'pandas.core.frame.DataFrame'>\n",
      "RangeIndex: 10000 entries, 0 to 9999\n",
      "Data columns (total 35 columns):\n",
      "artist.hotttnesss            10000 non-null float64\n",
      "artist.id                    10000 non-null object\n",
      "artist.name                  10000 non-null object\n",
      "artist_mbtags                3711 non-null object\n",
      "artist_mbtags_count          10000 non-null float64\n",
      "bars_confidence              10000 non-null float64\n",
      "bars_start                   10000 non-null float64\n",
      "beats_confidence             10000 non-null float64\n",
      "beats_start                  10000 non-null float64\n",
      "duration                     10000 non-null float64\n",
      "end_of_fade_in               10000 non-null float64\n",
      "familiarity                  9996 non-null float64\n",
      "key                          10000 non-null float64\n",
      "key_confidence               10000 non-null float64\n",
      "latitude                     10000 non-null float64\n",
      "location                     10000 non-null object\n",
      "longitude                    10000 non-null float64\n",
      "loudness                     10000 non-null float64\n",
      "mode                         10000 non-null int64\n",
      "mode_confidence              10000 non-null float64\n",
      "release.id                   10000 non-null int64\n",
      "release.name                 10000 non-null object\n",
      "similar                      9999 non-null object\n",
      "song.hotttnesss              5649 non-null float64\n",
      "song.id                      10000 non-null object\n",
      "start_of_fade_out            10000 non-null float64\n",
      "tatums_confidence            10000 non-null float64\n",
      "tatums_start                 10000 non-null float64\n",
      "tempo                        10000 non-null float64\n",
      "terms                        9995 non-null object\n",
      "terms_freq                   10000 non-null float64\n",
      "time_signature               10000 non-null float64\n",
      "time_signature_confidence    10000 non-null float64\n",
      "title                        9999 non-null object\n",
      "year                         10000 non-null int64\n",
      "dtypes: float64(23), int64(3), object(9)\n",
      "memory usage: 2.7+ MB\n"
     ]
    }
   ],
   "source": [
    "data.info()"
   ]
  },
  {
   "cell_type": "code",
   "execution_count": 4,
   "metadata": {},
   "outputs": [],
   "source": [
    "numeric_data = data.select_dtypes(include=[np.number]) "
   ]
  },
  {
   "cell_type": "markdown",
   "metadata": {},
   "source": [
    "Remove all NAs and standarize"
   ]
  },
  {
   "cell_type": "code",
   "execution_count": 5,
   "metadata": {},
   "outputs": [],
   "source": [
    "numeric_data = numeric_data.dropna(axis = 0)"
   ]
  },
  {
   "cell_type": "code",
   "execution_count": 6,
   "metadata": {},
   "outputs": [],
   "source": [
    "X = numeric_data.drop('song.hotttnesss', axis = 1)\n",
    "Y = numeric_data['song.hotttnesss']"
   ]
  },
  {
   "cell_type": "code",
   "execution_count": 7,
   "metadata": {},
   "outputs": [],
   "source": [
    "X_train, X_test, y_train, y_test = train_test_split(X, Y, test_size = 0.3, random_state = 2019)"
   ]
  },
  {
   "cell_type": "code",
   "execution_count": 8,
   "metadata": {},
   "outputs": [
    {
     "name": "stderr",
     "output_type": "stream",
     "text": [
      "/Users/zheyuwu/anaconda3/lib/python3.6/site-packages/sklearn/preprocessing/data.py:323: DataConversionWarning: Data with input dtype int64, float64 were all converted to float64 by MinMaxScaler.\n",
      "  return self.partial_fit(X, y)\n"
     ]
    }
   ],
   "source": [
    "scaler = MinMaxScaler()\n",
    "scaler.fit(X_train)\n",
    "X_train_scaled = scaler.transform(X_train)\n",
    "X_test_scaled = scaler.transform(X_test)"
   ]
  },
  {
   "cell_type": "markdown",
   "metadata": {},
   "source": [
    "## Linear Regression"
   ]
  },
  {
   "cell_type": "code",
   "execution_count": 9,
   "metadata": {},
   "outputs": [],
   "source": [
    "linearModel = LinearRegression()"
   ]
  },
  {
   "cell_type": "code",
   "execution_count": 10,
   "metadata": {},
   "outputs": [
    {
     "data": {
      "text/plain": [
       "LinearRegression(copy_X=True, fit_intercept=True, n_jobs=None,\n",
       "         normalize=False)"
      ]
     },
     "execution_count": 10,
     "metadata": {},
     "output_type": "execute_result"
    }
   ],
   "source": [
    "linearModel.fit(X_train_scaled, y_train)"
   ]
  },
  {
   "cell_type": "code",
   "execution_count": 11,
   "metadata": {},
   "outputs": [],
   "source": [
    "y_predict = linearModel.predict(X_test_scaled)"
   ]
  },
  {
   "cell_type": "markdown",
   "metadata": {},
   "source": [
    "**Training Set Performance**"
   ]
  },
  {
   "cell_type": "code",
   "execution_count": 12,
   "metadata": {},
   "outputs": [
    {
     "name": "stdout",
     "output_type": "stream",
     "text": [
      "R-square score of Linear Regression Model is 0.4083895076557734\n"
     ]
    }
   ],
   "source": [
    "print ('R-square score of Linear Regression Model is {}'.format(r2_score(y_train, linearModel.predict(X_train_scaled))))"
   ]
  },
  {
   "cell_type": "code",
   "execution_count": 13,
   "metadata": {},
   "outputs": [
    {
     "name": "stdout",
     "output_type": "stream",
     "text": [
      "MSE of Linear Regression Model is 0.03608774965097542\n"
     ]
    }
   ],
   "source": [
    "print ('MSE of Linear Regression Model is {}'.format(mean_squared_error(y_train, linearModel.predict(X_train_scaled))))"
   ]
  },
  {
   "cell_type": "markdown",
   "metadata": {},
   "source": [
    "**Test Set Performance**"
   ]
  },
  {
   "cell_type": "code",
   "execution_count": 14,
   "metadata": {},
   "outputs": [
    {
     "name": "stdout",
     "output_type": "stream",
     "text": [
      "R-square score of Linear Regression Model is 0.3912001760325995\n"
     ]
    }
   ],
   "source": [
    "print ('R-square score of Linear Regression Model is {}'.format(r2_score(y_test, y_predict)))"
   ]
  },
  {
   "cell_type": "code",
   "execution_count": 15,
   "metadata": {},
   "outputs": [
    {
     "name": "stdout",
     "output_type": "stream",
     "text": [
      "MSE of Linear Regression Model is 0.03735047848332558\n"
     ]
    }
   ],
   "source": [
    "print ('MSE of Linear Regression Model is {}'.format(mean_squared_error(y_test, y_predict)))"
   ]
  },
  {
   "cell_type": "markdown",
   "metadata": {},
   "source": [
    "## kNN"
   ]
  },
  {
   "cell_type": "code",
   "execution_count": 16,
   "metadata": {},
   "outputs": [],
   "source": [
    "KNNmodels = {}\n",
    "k_set = [1,10,75,250,500,750,1000]"
   ]
  },
  {
   "cell_type": "code",
   "execution_count": 17,
   "metadata": {},
   "outputs": [],
   "source": [
    "r2_test = []\n",
    "r2_train = []\n",
    "mse_test = []\n",
    "mse_train = []"
   ]
  },
  {
   "cell_type": "code",
   "execution_count": 18,
   "metadata": {},
   "outputs": [],
   "source": [
    "for k in k_set:\n",
    "    knnreg = KNeighborsRegressor(n_neighbors=k)\n",
    "    knnreg.fit(X_train_scaled, y_train)\n",
    "    KNNmodels[k] = knnreg"
   ]
  },
  {
   "cell_type": "code",
   "execution_count": 19,
   "metadata": {},
   "outputs": [],
   "source": [
    "for k, model in KNNmodels.items():\n",
    "    y_predict = model.predict(X_test_scaled)\n",
    "    \n",
    "    r2_test.append(r2_score(y_test, y_predict))\n",
    "    r2_train.append(r2_score(y_train, model.predict(X_train_scaled)))\n",
    "    mse_test.append(mean_squared_error(y_test, y_predict))\n",
    "    mse_train.append(mean_squared_error(y_train, model.predict(X_train_scaled)))"
   ]
  },
  {
   "cell_type": "markdown",
   "metadata": {},
   "source": [
    "**Performance**"
   ]
  },
  {
   "cell_type": "code",
   "execution_count": 20,
   "metadata": {},
   "outputs": [
    {
     "data": {
      "image/png": "[encoded data removed]",
      "text/plain": [
       "<Figure size 720x360 with 2 Axes>"
      ]
     },
     "metadata": {
      "needs_background": "light"
     },
     "output_type": "display_data"
    }
   ],
   "source": [
    "fig, axes = plt.subplots(1,2, figsize = (10, 5))\n",
    "axes[0].plot(k_set, r2_train, marker = 'o', label = 'Train')\n",
    "axes[0].plot(k_set, r2_test, marker = 'o', label = 'Test')\n",
    "axes[0].set_title('R2')\n",
    "axes[0].set_xlabel('k')\n",
    "axes[0].set_ylabel('R2')\n",
    "axes[0].legend()\n",
    "axes[1].plot(k_set, mse_train, marker = 'o', label = 'Train')\n",
    "axes[1].plot(k_set, mse_test, marker = 'o', label = 'Test')\n",
    "axes[1].set_title('MSE')\n",
    "axes[1].set_xlabel('k')\n",
    "axes[1].set_ylabel('MSE')\n",
    "axes[1].legend();"
   ]
  },
  {
   "cell_type": "markdown",
   "metadata": {},
   "source": [
    "## Regression Tree"
   ]
  },
  {
   "cell_type": "code",
   "execution_count": 21,
   "metadata": {},
   "outputs": [],
   "source": [
    "tree_list = []\n",
    "tree_depth = [1,2,5,8,10,15,20]\n",
    "for i in tree_depth:\n",
    "    tree = DecisionTreeRegressor(max_depth = i)\n",
    "    tree.fit(X_train_scaled, y_train)\n",
    "    tree_list.append(tree)"
   ]
  },
  {
   "cell_type": "code",
   "execution_count": 22,
   "metadata": {},
   "outputs": [],
   "source": [
    "r2_test = []\n",
    "r2_train = []\n",
    "mse_test = []\n",
    "mse_train = []"
   ]
  },
  {
   "cell_type": "code",
   "execution_count": 23,
   "metadata": {},
   "outputs": [],
   "source": [
    "for tree in tree_list:\n",
    "    y_predict = tree.predict(X_test_scaled)\n",
    "    \n",
    "    r2_test.append(r2_score(y_test, y_predict))\n",
    "    r2_train.append(r2_score(y_train, tree.predict(X_train_scaled)))\n",
    "    mse_test.append(mean_squared_error(y_test, y_predict))\n",
    "    mse_train.append(mean_squared_error(y_train, tree.predict(X_train_scaled)))"
   ]
  },
  {
   "cell_type": "markdown",
   "metadata": {},
   "source": [
    "**Performance**"
   ]
  },
  {
   "cell_type": "code",
   "execution_count": 24,
   "metadata": {},
   "outputs": [
    {
     "data": {
      "image/png": "[encoded data removed]",
      "text/plain": [
       "<Figure size 720x360 with 2 Axes>"
      ]
     },
     "metadata": {
      "needs_background": "light"
     },
     "output_type": "display_data"
    }
   ],
   "source": [
    "fig, axes = plt.subplots(1,2, figsize = (10, 5))\n",
    "axes[0].plot(tree_depth, r2_train, marker = 'o', label = 'Train')\n",
    "axes[0].plot(tree_depth, r2_test, marker = 'o', label = 'Test')\n",
    "axes[0].set_title('R2')\n",
    "axes[0].set_xlabel('depth')\n",
    "axes[0].set_ylabel('R2')\n",
    "axes[0].legend()\n",
    "axes[1].plot(tree_depth, mse_train, marker = 'o', label = 'Train')\n",
    "axes[1].plot(tree_depth, mse_test, marker = 'o', label = 'Test')\n",
    "axes[1].set_title('MSE')\n",
    "axes[1].set_xlabel('depth')\n",
    "axes[1].set_ylabel('MSE')\n",
    "axes[1].legend();"
   ]
  },
  {
   "cell_type": "markdown",
   "metadata": {},
   "source": [
    "## Random Forest for Regression"
   ]
  },
  {
   "cell_type": "code",
   "execution_count": 25,
   "metadata": {},
   "outputs": [],
   "source": [
    "forest_list = []\n",
    "forest_depth = [1,2,5,8,10,15,20]\n",
    "for i in tree_depth:\n",
    "    forest = RandomForestRegressor(max_depth = i, n_estimators=10)\n",
    "    forest.fit(X_train_scaled, y_train)\n",
    "    forest_list.append(forest)"
   ]
  },
  {
   "cell_type": "code",
   "execution_count": 26,
   "metadata": {},
   "outputs": [],
   "source": [
    "r2_test = []\n",
    "r2_train = []\n",
    "mse_test = []\n",
    "mse_train = []"
   ]
  },
  {
   "cell_type": "code",
   "execution_count": 27,
   "metadata": {},
   "outputs": [],
   "source": [
    "for forest in forest_list:\n",
    "    y_predict = forest.predict(X_test_scaled)\n",
    "    \n",
    "    r2_test.append(r2_score(y_test, y_predict))\n",
    "    r2_train.append(r2_score(y_train, forest.predict(X_train_scaled)))\n",
    "    mse_test.append(mean_squared_error(y_test, y_predict))\n",
    "    mse_train.append(mean_squared_error(y_train, forest.predict(X_train_scaled)))"
   ]
  },
  {
   "cell_type": "markdown",
   "metadata": {},
   "source": [
    "**Performance**"
   ]
  },
  {
   "cell_type": "code",
   "execution_count": 28,
   "metadata": {},
   "outputs": [
    {
     "data": {
      "image/png": "[encoded data removed]",
      "text/plain": [
       "<Figure size 720x360 with 2 Axes>"
      ]
     },
     "metadata": {
      "needs_background": "light"
     },
     "output_type": "display_data"
    }
   ],
   "source": [
    "fig, axes = plt.subplots(1,2, figsize = (10, 5))\n",
    "axes[0].plot(forest_depth, r2_train, marker = 'o', label = 'Train')\n",
    "axes[0].plot(forest_depth, r2_test, marker = 'o', label = 'Test')\n",
    "axes[0].set_title('R2')\n",
    "axes[0].set_xlabel('depth')\n",
    "axes[0].set_ylabel('R2')\n",
    "axes[0].legend()\n",
    "axes[1].plot(forest_depth, mse_train, marker = 'o', label = 'Train')\n",
    "axes[1].plot(forest_depth, mse_test, marker = 'o', label = 'Test')\n",
    "axes[1].set_title('MSE')\n",
    "axes[1].set_xlabel('depth')\n",
    "axes[1].set_ylabel('MSE')\n",
    "axes[1].legend();"
   ]
  },
  {
   "cell_type": "markdown",
   "metadata": {},
   "source": [
    "## Neural Network"
   ]
  },
  {
   "cell_type": "code",
   "execution_count": 29,
   "metadata": {},
   "outputs": [
    {
     "name": "stderr",
     "output_type": "stream",
     "text": [
      "Using TensorFlow backend.\n"
     ]
    }
   ],
   "source": [
    "import keras \n",
    "from keras.models import Sequential\n",
    "from keras.layers import Dense\n",
    "from keras.layers import Dropout"
   ]
  },
  {
   "cell_type": "code",
   "execution_count": 30,
   "metadata": {},
   "outputs": [],
   "source": [
    "H = 100\n",
    "input_dim = 25\n",
    "drop_out_rate = 0.2\n",
    "batch_size = 128"
   ]
  },
  {
   "cell_type": "code",
   "execution_count": 31,
   "metadata": {},
   "outputs": [],
   "source": [
    "multi_layer_model = Sequential()\n",
    "\n",
    "multi_layer_model.add(Dense(H, input_dim=input_dim,  activation='relu'))\n",
    "multi_layer_model.add(Dropout(drop_out_rate))\n",
    "multi_layer_model.add(Dense(H, activation='relu'))\n",
    "multi_layer_model.add(Dropout(drop_out_rate))\n",
    "multi_layer_model.add(Dense(H, activation='relu'))\n",
    "multi_layer_model.add(Dropout(drop_out_rate))\n",
    "multi_layer_model.add(Dense(1, activation='linear'))  \n",
    "\n",
    "multi_layer_model.compile(loss='mean_squared_error', optimizer='sgd')"
   ]
  },
  {
   "cell_type": "code",
   "execution_count": 32,
   "metadata": {},
   "outputs": [
    {
     "name": "stdout",
     "output_type": "stream",
     "text": [
      "_________________________________________________________________\n",
      "Layer (type)                 Output Shape              Param #   \n",
      "=================================================================\n",
      "dense_1 (Dense)              (None, 100)               2600      \n",
      "_________________________________________________________________\n",
      "dropout_1 (Dropout)          (None, 100)               0         \n",
      "_________________________________________________________________\n",
      "dense_2 (Dense)              (None, 100)               10100     \n",
      "_________________________________________________________________\n",
      "dropout_2 (Dropout)          (None, 100)               0         \n",
      "_________________________________________________________________\n",
      "dense_3 (Dense)              (None, 100)               10100     \n",
      "_________________________________________________________________\n",
      "dropout_3 (Dropout)          (None, 100)               0         \n",
      "_________________________________________________________________\n",
      "dense_4 (Dense)              (None, 1)                 101       \n",
      "=================================================================\n",
      "Total params: 22,901\n",
      "Trainable params: 22,901\n",
      "Non-trainable params: 0\n",
      "_________________________________________________________________\n"
     ]
    }
   ],
   "source": [
    "multi_layer_model.summary()"
   ]
  },
  {
   "cell_type": "code",
   "execution_count": 33,
   "metadata": {},
   "outputs": [
    {
     "name": "stdout",
     "output_type": "stream",
     "text": [
      "Epoch 1/1\n",
      "3953/3953 [==============================] - 0s 71us/step - loss: 0.1085\n"
     ]
    },
    {
     "data": {
      "text/plain": [
       "<keras.callbacks.History at 0x1a2660e550>"
      ]
     },
     "execution_count": 33,
     "metadata": {},
     "output_type": "execute_result"
    }
   ],
   "source": [
    "multi_layer_model.fit(X_train_scaled, y_train, batch_size=batch_size, verbose = 1)"
   ]
  },
  {
   "cell_type": "markdown",
   "metadata": {},
   "source": [
    "**Training Set Performance**"
   ]
  },
  {
   "cell_type": "code",
   "execution_count": 34,
   "metadata": {},
   "outputs": [
    {
     "name": "stdout",
     "output_type": "stream",
     "text": [
      "R-square score of MLP Model is 0.13660559234704506\n",
      "MSE of MLP is 0.05266634320491886\n"
     ]
    }
   ],
   "source": [
    "print ('R-square score of MLP Model is {}'.format(r2_score(y_train, multi_layer_model.predict(X_train_scaled))))\n",
    "print ('MSE of MLP is {}'.format(mean_squared_error(y_train, multi_layer_model.predict(X_train_scaled))))"
   ]
  },
  {
   "cell_type": "markdown",
   "metadata": {},
   "source": [
    "**Test Set Performance**"
   ]
  },
  {
   "cell_type": "code",
   "execution_count": 35,
   "metadata": {},
   "outputs": [],
   "source": [
    "y_predict = multi_layer_model.predict(X_test_scaled)"
   ]
  },
  {
   "cell_type": "code",
   "execution_count": 36,
   "metadata": {},
   "outputs": [
    {
     "name": "stdout",
     "output_type": "stream",
     "text": [
      "R-square score of Linear Regression Model is 0.13216213842564561\n",
      "MSE of Linear Regression Model is 0.05324272133410454\n"
     ]
    }
   ],
   "source": [
    "print ('R-square score of Linear Regression Model is {}'.format(r2_score(y_test, y_predict)))\n",
    "print ('MSE of Linear Regression Model is {}'.format(mean_squared_error(y_test, y_predict)))"
   ]
  },
  {
   "cell_type": "code",
   "execution_count": 56,
   "metadata": {},
   "outputs": [
    {
     "data": {
      "text/plain": [
       "['decade',\n",
       " 'artist_firstname',\n",
       " 'artist_lastname',\n",
       " 'mbtags_count',\n",
       " 'mbtag_0',\n",
       " 'mbtag_1',\n",
       " 'mbtag_2',\n",
       " 'similar_hotness',\n",
       " 'term_id']"
      ]
     },
     "execution_count": 56,
     "metadata": {},
     "output_type": "execute_result"
    }
   ],
   "source": [
    "[i for i in data_clean.columns if i not in data.columns]"
   ]
  },
  {
   "cell_type": "code",
   "execution_count": 61,
   "metadata": {},
   "outputs": [
    {
     "data": {
      "text/plain": [
       "[]"
      ]
     },
     "execution_count": 61,
     "metadata": {},
     "output_type": "execute_result"
    }
   ],
   "source": [
    "[i for i in data.columns if i not in data_clean.columns]"
   ]
  },
  {
   "cell_type": "code",
   "execution_count": 62,
   "metadata": {},
   "outputs": [
    {
     "data": {
      "text/html": [
       "<div>\n",
       "<style scoped>\n",
       "    .dataframe tbody tr th:only-of-type {\n",
       "        vertical-align: middle;\n",
       "    }\n",
       "\n",
       "    .dataframe tbody tr th {\n",
       "        vertical-align: top;\n",
       "    }\n",
       "\n",
       "    .dataframe thead th {\n",
       "        text-align: right;\n",
       "    }\n",
       "</style>\n",
       "<table border=\"1\" class=\"dataframe\">\n",
       "  <thead>\n",
       "    <tr style=\"text-align: right;\">\n",
       "      <th></th>\n",
       "      <th>artist.hotttnesss</th>\n",
       "      <th>artist.id</th>\n",
       "      <th>artist.name</th>\n",
       "      <th>artist_mbtags</th>\n",
       "      <th>artist_mbtags_count</th>\n",
       "      <th>bars_confidence</th>\n",
       "      <th>bars_start</th>\n",
       "      <th>beats_confidence</th>\n",
       "      <th>beats_start</th>\n",
       "      <th>duration</th>\n",
       "      <th>...</th>\n",
       "      <th>start_of_fade_out</th>\n",
       "      <th>tatums_confidence</th>\n",
       "      <th>tatums_start</th>\n",
       "      <th>tempo</th>\n",
       "      <th>terms</th>\n",
       "      <th>terms_freq</th>\n",
       "      <th>time_signature</th>\n",
       "      <th>time_signature_confidence</th>\n",
       "      <th>title</th>\n",
       "      <th>year</th>\n",
       "    </tr>\n",
       "  </thead>\n",
       "  <tbody>\n",
       "    <tr>\n",
       "      <th>0</th>\n",
       "      <td>0.401998</td>\n",
       "      <td>ARD7TVE1187B99BFB1</td>\n",
       "      <td>Casual</td>\n",
       "      <td>NaN</td>\n",
       "      <td>0.0</td>\n",
       "      <td>0.643</td>\n",
       "      <td>0.58521</td>\n",
       "      <td>0.834</td>\n",
       "      <td>0.58521</td>\n",
       "      <td>218.93179</td>\n",
       "      <td>...</td>\n",
       "      <td>218.932</td>\n",
       "      <td>0.779</td>\n",
       "      <td>0.28519</td>\n",
       "      <td>92.198</td>\n",
       "      <td>hip hop</td>\n",
       "      <td>1.000000</td>\n",
       "      <td>4.0</td>\n",
       "      <td>0.778</td>\n",
       "      <td>I Didn't Mean To</td>\n",
       "      <td>0</td>\n",
       "    </tr>\n",
       "    <tr>\n",
       "      <th>1</th>\n",
       "      <td>0.417500</td>\n",
       "      <td>ARMJAGH1187FB546F3</td>\n",
       "      <td>The Box Tops</td>\n",
       "      <td>classic pop and rock</td>\n",
       "      <td>1.0</td>\n",
       "      <td>0.007</td>\n",
       "      <td>0.71054</td>\n",
       "      <td>1.000</td>\n",
       "      <td>0.20627</td>\n",
       "      <td>148.03546</td>\n",
       "      <td>...</td>\n",
       "      <td>137.915</td>\n",
       "      <td>0.969</td>\n",
       "      <td>0.20627</td>\n",
       "      <td>121.274</td>\n",
       "      <td>blue-eyed soul</td>\n",
       "      <td>1.000000</td>\n",
       "      <td>4.0</td>\n",
       "      <td>0.384</td>\n",
       "      <td>Soul Deep</td>\n",
       "      <td>1969</td>\n",
       "    </tr>\n",
       "    <tr>\n",
       "      <th>2</th>\n",
       "      <td>0.343428</td>\n",
       "      <td>ARKRRTF1187B9984DA</td>\n",
       "      <td>Sonora Santanera</td>\n",
       "      <td>NaN</td>\n",
       "      <td>0.0</td>\n",
       "      <td>0.980</td>\n",
       "      <td>0.73152</td>\n",
       "      <td>0.980</td>\n",
       "      <td>0.73152</td>\n",
       "      <td>177.47546</td>\n",
       "      <td>...</td>\n",
       "      <td>172.304</td>\n",
       "      <td>0.482</td>\n",
       "      <td>0.42132</td>\n",
       "      <td>100.070</td>\n",
       "      <td>salsa</td>\n",
       "      <td>1.000000</td>\n",
       "      <td>1.0</td>\n",
       "      <td>0.000</td>\n",
       "      <td>Amor De Cabaret</td>\n",
       "      <td>0</td>\n",
       "    </tr>\n",
       "    <tr>\n",
       "      <th>3</th>\n",
       "      <td>0.454231</td>\n",
       "      <td>AR7G5I41187FB4CE6C</td>\n",
       "      <td>Adam Ant</td>\n",
       "      <td>uk</td>\n",
       "      <td>1.0</td>\n",
       "      <td>0.017</td>\n",
       "      <td>1.30621</td>\n",
       "      <td>0.809</td>\n",
       "      <td>0.81002</td>\n",
       "      <td>233.40363</td>\n",
       "      <td>...</td>\n",
       "      <td>217.124</td>\n",
       "      <td>0.601</td>\n",
       "      <td>0.56254</td>\n",
       "      <td>119.293</td>\n",
       "      <td>pop rock</td>\n",
       "      <td>0.988584</td>\n",
       "      <td>4.0</td>\n",
       "      <td>0.000</td>\n",
       "      <td>Something Girls</td>\n",
       "      <td>1982</td>\n",
       "    </tr>\n",
       "    <tr>\n",
       "      <th>4</th>\n",
       "      <td>0.401724</td>\n",
       "      <td>ARXR32B1187FB57099</td>\n",
       "      <td>Gob</td>\n",
       "      <td>NaN</td>\n",
       "      <td>0.0</td>\n",
       "      <td>0.175</td>\n",
       "      <td>1.06368</td>\n",
       "      <td>0.883</td>\n",
       "      <td>0.13576</td>\n",
       "      <td>209.60608</td>\n",
       "      <td>...</td>\n",
       "      <td>198.699</td>\n",
       "      <td>1.000</td>\n",
       "      <td>0.13576</td>\n",
       "      <td>129.738</td>\n",
       "      <td>pop punk</td>\n",
       "      <td>0.887288</td>\n",
       "      <td>4.0</td>\n",
       "      <td>0.562</td>\n",
       "      <td>Face the Ashes</td>\n",
       "      <td>2007</td>\n",
       "    </tr>\n",
       "  </tbody>\n",
       "</table>\n",
       "<p>5 rows × 35 columns</p>\n",
       "</div>"
      ],
      "text/plain": [
       "   artist.hotttnesss           artist.id       artist.name  \\\n",
       "0           0.401998  ARD7TVE1187B99BFB1            Casual   \n",
       "1           0.417500  ARMJAGH1187FB546F3      The Box Tops   \n",
       "2           0.343428  ARKRRTF1187B9984DA  Sonora Santanera   \n",
       "3           0.454231  AR7G5I41187FB4CE6C          Adam Ant   \n",
       "4           0.401724  ARXR32B1187FB57099               Gob   \n",
       "\n",
       "          artist_mbtags  artist_mbtags_count  bars_confidence  bars_start  \\\n",
       "0                   NaN                  0.0            0.643     0.58521   \n",
       "1  classic pop and rock                  1.0            0.007     0.71054   \n",
       "2                   NaN                  0.0            0.980     0.73152   \n",
       "3                    uk                  1.0            0.017     1.30621   \n",
       "4                   NaN                  0.0            0.175     1.06368   \n",
       "\n",
       "   beats_confidence  beats_start   duration  ...  start_of_fade_out  \\\n",
       "0             0.834      0.58521  218.93179  ...            218.932   \n",
       "1             1.000      0.20627  148.03546  ...            137.915   \n",
       "2             0.980      0.73152  177.47546  ...            172.304   \n",
       "3             0.809      0.81002  233.40363  ...            217.124   \n",
       "4             0.883      0.13576  209.60608  ...            198.699   \n",
       "\n",
       "   tatums_confidence  tatums_start    tempo           terms terms_freq  \\\n",
       "0              0.779       0.28519   92.198         hip hop   1.000000   \n",
       "1              0.969       0.20627  121.274  blue-eyed soul   1.000000   \n",
       "2              0.482       0.42132  100.070           salsa   1.000000   \n",
       "3              0.601       0.56254  119.293        pop rock   0.988584   \n",
       "4              1.000       0.13576  129.738        pop punk   0.887288   \n",
       "\n",
       "   time_signature  time_signature_confidence             title  year  \n",
       "0             4.0                      0.778  I Didn't Mean To     0  \n",
       "1             4.0                      0.384         Soul Deep  1969  \n",
       "2             1.0                      0.000   Amor De Cabaret     0  \n",
       "3             4.0                      0.000   Something Girls  1982  \n",
       "4             4.0                      0.562    Face the Ashes  2007  \n",
       "\n",
       "[5 rows x 35 columns]"
      ]
     },
     "execution_count": 62,
     "metadata": {},
     "output_type": "execute_result"
    }
   ],
   "source": [
    "data.head()"
   ]
  }
 ],
 "metadata": {
  "kernelspec": {
   "display_name": "Python 3",
   "language": "python",
   "name": "python3"
  },
  "language_info": {
   "codemirror_mode": {
    "name": "ipython",
    "version": 3
   },
   "file_extension": ".py",
   "mimetype": "text/x-python",
   "name": "python",
   "nbconvert_exporter": "python",
   "pygments_lexer": "ipython3",
   "version": "3.7.1"
  }
 },
 "nbformat": 4,
 "nbformat_minor": 2
}
