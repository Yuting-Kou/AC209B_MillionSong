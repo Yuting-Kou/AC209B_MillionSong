{
 "cells": [
  {
   "cell_type": "markdown",
   "metadata": {},
   "source": [
    "# <img style=\"float: left; padding-right: 10px; width: 45px\" src=\"https://raw.githubusercontent.com/Harvard-IACS/2018-CS109A/master/content/styles/iacs.png\"> CS209b Final Code Report: Predicting Song Hotness "
   ]
  },
  {
   "cell_type": "markdown",
   "metadata": {},
   "source": [
    "**Group 9**: Yuting Kou, Yizhou Wang, Yan Zhao, Zheyu Wu \n",
    "\n",
    "**Harvard University**\n",
    "\n",
    "<hr style=\"height:2pt\">"
   ]
  },
  {
   "cell_type": "markdown",
   "metadata": {},
   "source": [
    "![alt text](http://www.fumcwl.org/files/69/Pictures/music.jpg)\n"
   ]
  },
  {
   "cell_type": "markdown",
   "metadata": {},
   "source": [
    "## Introduction\n",
    "\n",
    "### Motivation and Background\n",
    "\n",
    "The recorded music industry has been flourishing over the past ten years. It has generated a revenue of 9.8 billion U.S. dollars in 2018 alone, and experts anticipate that this trend will continue [1]. Predicting a song’s popularity has been drawing a broad range of interest not only from singers and record producers, but also from investors and machine learning researchers.\n",
    "\n",
    "### Project Goal\n",
    "In this project, we will try to look into a range of song attributes from the Million Song Dataset [2], and extract key characteristics that determine a song’s hotness. Based on these key characteristics, we will build several machine learning models to predict a new song’s hotness. Finally, we will evaluate these models and benchmark them with regards to the baseline model.\n",
    "\n",
    "Overall, our goal is to propose an end-to-end data pipeline, which includes data preprocessing, machine learning modeling, to accurately predict the hotness of a song.\n",
    "\n",
    "### Project Question\n",
    "In order to achieve the project goal above, we need to answer this question: what are the key characteristics of a song and how do they determine the song’s hotness? To be more specific, we need to know:\n",
    "\n",
    "● What is the definition of the hotness of a song? Can we replace the song’s hotness attribute with other data given that this attribute is missing in near half of the songs?\n",
    "\n",
    "● What are the most important attributes in determining a song’s hotness?\n",
    "\n",
    "● Are there any new features that we can add to the existing dataset to improve the prediction accuracy?\n",
    "\n",
    "For the **rest of this report, we will address these questions individually**.\n",
    "\n",
    "### References\n",
    "[1] Bill Rosenblatt, “Music Industry's Revenue Continues To Grow, But Beneath The Surface Are Warning Signs” [Online]. Accessed on April 26th, 2019. Available: https://www.forbes.com/sites/billrosenblatt/2019/03/02/the-warning-signs-among-the-music-industrys-revenue-growth/#3cc09c797de3\n",
    "\n",
    "[2] Thierry Bertin-Mahieux, Daniel P.W. Ellis, Brian Whitman, and Paul Lamere. The Million Song Dataset. In Proceedings of the 12th International Society for Music Information Retrieval Conference (ISMIR 2011), 2011."
   ]
  },
  {
   "cell_type": "markdown",
   "metadata": {},
   "source": [
    "## Data Preprocessing"
   ]
  },
  {
   "cell_type": "code",
   "execution_count": null,
   "metadata": {},
   "outputs": [],
   "source": []
  },
  {
   "cell_type": "markdown",
   "metadata": {},
   "source": [
    "## EDA Summary Problems"
   ]
  },
  {
   "cell_type": "code",
   "execution_count": null,
   "metadata": {},
   "outputs": [],
   "source": []
  },
  {
   "cell_type": "markdown",
   "metadata": {},
   "source": [
    "##"
   ]
  },
  {
   "cell_type": "markdown",
   "metadata": {},
   "source": [
    "## Feature Engineering\n",
    "\n",
    "### Grammy Award\n",
    "The Grammy award is presented by The Recording Academy to recognize achievements in the music industry. We have included it in our feature space because we believe the it could be a good indicator for a song's hotness. However, Grammy award "
   ]
  }
 ],
 "metadata": {
  "kernelspec": {
   "display_name": "Python 3",
   "language": "python",
   "name": "python3"
  },
  "language_info": {
   "codemirror_mode": {
    "name": "ipython",
    "version": 3
   },
   "file_extension": ".py",
   "mimetype": "text/x-python",
   "name": "python",
   "nbconvert_exporter": "python",
   "pygments_lexer": "ipython3",
   "version": "3.6.8"
  }
 },
 "nbformat": 4,
 "nbformat_minor": 2
}
