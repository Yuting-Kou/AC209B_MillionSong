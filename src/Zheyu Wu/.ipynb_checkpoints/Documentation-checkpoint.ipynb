{
 "cells": [
  {
   "cell_type": "markdown",
   "metadata": {},
   "source": [
    "# <img style=\"float: left; padding-right: 10px; width: 45px\" src=\"https://raw.githubusercontent.com/Harvard-IACS/2018-CS109A/master/content/styles/iacs.png\"> CS209b Final Code Report: Predicting Song Hotness "
   ]
  },
  {
   "cell_type": "markdown",
   "metadata": {},
   "source": [
    "**Group 9**: Yuting Kou, Yizhou Wang, Yan Zhao, Zheyu Wu \n",
    "\n",
    "**Harvard University**\n",
    "\n",
    "<hr style=\"height:2pt\">"
   ]
  },
  {
   "cell_type": "markdown",
   "metadata": {},
   "source": [
    "![alt text](http://www.fumcwl.org/files/69/Pictures/music.jpg)\n"
   ]
  },
  {
   "cell_type": "markdown",
   "metadata": {},
   "source": [
    "## Introduction\n",
    "\n",
    "### Motivation and Background\n",
    "\n",
    "The recorded music industry has been flourishing over the past ten years. It has generated a revenue of 9.8 billion U.S. dollars in 2018 alone, and experts anticipate that this trend will continue [1]. Predicting a song’s popularity has been drawing a broad range of interest not only from singers and record producers, but also from investors and machine learning researchers.\n",
    "\n",
    "### Project Goal\n",
    "In this project, we will try to look into a range of song attributes from the Million Song Dataset [2], and extract key characteristics that determine a song’s hotness. Based on these key characteristics, we will build several machine learning models to predict a new song’s hotness. Finally, we will evaluate these models and benchmark them with regards to the baseline model.\n",
    "\n",
    "Overall, our goal is to propose an end-to-end data pipeline, which includes data preprocessing, machine learning modeling, to accurately predict the hotness of a song.\n",
    "\n",
    "### Project Question\n",
    "In order to achieve the project goal above, we need to answer this question: what are the key characteristics of a song and how do they determine the song’s hotness? To be more specific, we need to know:\n",
    "\n",
    "● What is the definition of the hotness of a song? Can we replace the song’s hotness attribute with other data given that this attribute is missing in near half of the songs?\n",
    "\n",
    "● What are the most important attributes in determining a song’s hotness?\n",
    "\n",
    "● Are there any new features that we can add to the existing dataset to improve the prediction accuracy?\n",
    "\n",
    "For the **rest of this report, we will address these questions individually**.\n",
    "\n",
    "### References\n",
    "[1] Bill Rosenblatt, “Music Industry's Revenue Continues To Grow, But Beneath The Surface Are Warning Signs” [Online]. Accessed on April 26th, 2019. Available: https://www.forbes.com/sites/billrosenblatt/2019/03/02/the-warning-signs-among-the-music-industrys-revenue-growth/#3cc09c797de3\n",
    "\n",
    "[2] Thierry Bertin-Mahieux, Daniel P.W. Ellis, Brian Whitman, and Paul Lamere. The Million Song Dataset. In Proceedings of the 12th International Society for Music Information Retrieval Conference (ISMIR 2011), 2011."
   ]
  },
  {
   "cell_type": "markdown",
   "metadata": {},
   "source": [
    "## EDA Summary Problems"
   ]
  },
  {
   "cell_type": "markdown",
   "metadata": {},
   "source": [
    "In addition to the preliminary EDA that we conducted for milestone 2, we have performed some additional exploratory data analytics to fully grasp the data we are manipulating with for this project. In summary, we have found following three problems:\n",
    "* Nearly half of the response varable (i.e. `song.hotttnesss`) is missing\n",
    "* Correlation between features and the large number of features\n",
    "* Some attributes contain data type that cannot be directly fed into machine learning models. Examples include string and NAN (missing values).\n",
    "\n",
    "In order to address these problems, we have outlined three approaches, corresponding to the three challenges above:\n",
    "* We need a different measure of the response variable, otherwise we are losing nearly half of the data. After researching meaningful response variables online, we realized that we could use the **number of views on Youtube** as the response variable. Specifically, we are taking the logarithm to account for the fact the drastic difference exists for this attribute.\n",
    "* Some **regularization techniques**, such as Lasso or Ridge are needed. Afterwards, **feature selection** can be used to select relevant features.\n",
    "* Significant data proprocessing is needed to handle unregulated data type (more on this in the following section)."
   ]
  },
  {
   "cell_type": "markdown",
   "metadata": {},
   "source": [
    "Below, we are showing the these problems graphically."
   ]
  },
  {
   "cell_type": "markdown",
   "metadata": {},
   "source": [
    "**Problem 1**: Nearly half of the response varable (i.e. song.hotttnesss) is missing"
   ]
  },
  {
   "cell_type": "code",
   "execution_count": 1,
   "metadata": {},
   "outputs": [],
   "source": [
    "import pandas as pd\n",
    "import numpy as np\n",
    "import matplotlib.pyplot as plt\n",
    "\n",
    "from sklearn.neighbors import KNeighborsRegressor\n",
    "from sklearn.linear_model import LinearRegression\n",
    "from sklearn.linear_model import LogisticRegression\n",
    "from sklearn.tree import DecisionTreeRegressor\n",
    "from sklearn.ensemble import RandomForestRegressor\n",
    "from sklearn.ensemble import AdaBoostRegressor\n",
    "from sklearn.metrics import r2_score\n",
    "from sklearn.preprocessing import MinMaxScaler\n",
    "from sklearn.metrics import mean_squared_error\n",
    "from sklearn.model_selection import train_test_split"
   ]
  },
  {
   "cell_type": "code",
   "execution_count": 4,
   "metadata": {},
   "outputs": [],
   "source": [
    "all_data_df = pd.read_csv('../../data/all_data.csv', index_col = 0)"
   ]
  },
  {
   "cell_type": "code",
   "execution_count": 10,
   "metadata": {},
   "outputs": [
    {
     "data": {
      "image/png": "[encoded data removed]",
      "text/plain": [
       "<Figure size 720x288 with 2 Axes>"
      ]
     },
     "metadata": {
      "needs_background": "light"
     },
     "output_type": "display_data"
    }
   ],
   "source": [
    "minmax_scaler = MinMaxScaler()\n",
    "\n",
    "fig, axes = plt.subplots(1, 2, figsize = (10, 4))\n",
    "\n",
    "axes[0].scatter(pd.read_csv('../../data/music_clean.csv',index_col=0)['song.hotttnesss'], (all_data_df['Youtube Hotness']))\n",
    "axes[0].set_xlabel('Song.hotness')\n",
    "axes[0].set_ylabel('Log Youtube y')\n",
    "axes[0].set_title('The Histogram of Youtube')\n",
    "\n",
    "axes[1].hist(all_data_df['Youtube Hotness'])\n",
    "axes[1].set_xlabel('Youtube Hotness (logarithm)')\n",
    "axes[1].set_ylabel('Count')\n",
    "axes[1].set_title('The Histogram of Youtube');"
   ]
  },
  {
   "cell_type": "markdown",
   "metadata": {},
   "source": []
  },
  {
   "cell_type": "markdown",
   "metadata": {},
   "source": [
    "## Data Preprocessing"
   ]
  },
  {
   "cell_type": "markdown",
   "metadata": {},
   "source": []
  },
  {
   "cell_type": "markdown",
   "metadata": {},
   "source": [
    "### Target Feature"
   ]
  },
  {
   "cell_type": "code",
   "execution_count": 1,
   "metadata": {},
   "outputs": [
    {
     "name": "stderr",
     "output_type": "stream",
     "text": [
      "[nltk_data] Downloading package stopwords to\n",
      "[nltk_data]     C:\\Users\\Lenovo\\AppData\\Roaming\\nltk_data...\n",
      "[nltk_data]   Package stopwords is already up-to-date!\n"
     ]
    },
    {
     "data": {
      "text/plain": [
       "True"
      ]
     },
     "execution_count": 1,
     "metadata": {},
     "output_type": "execute_result"
    }
   ],
   "source": [
    "import pandas as pd\n",
    "import numpy as np\n",
    "from collections import defaultdict\n",
    "import matplotlib.pyplot as plt\n",
    "import nltk\n",
    "from nltk.corpus import stopwords\n",
    "from nltk.stem import PorterStemmer \n",
    "from sklearn.feature_extraction.text import TfidfVectorizer\n",
    "from sklearn import preprocessing\n",
    "from sklearn.model_selection import train_test_split\n",
    "nltk.download('stopwords')"
   ]
  },
  {
   "cell_type": "code",
   "execution_count": 3,
   "metadata": {},
   "outputs": [],
   "source": [
    "data = pd.read_csv(r'../../data/music.csv')"
   ]
  },
  {
   "cell_type": "code",
   "execution_count": 4,
   "metadata": {},
   "outputs": [],
   "source": [
    "stop_words = set(stopwords.words('english'))\n",
    "def remove_stopwords(corpus,stop_words=stop_words,stem = False):\n",
    "    result = []\n",
    "    ps = PorterStemmer() \n",
    "    for i in corpus:\n",
    "        if stem:\n",
    "            song = ' '.join([ps.stem(j) for j in i.split() if j not in stop_words])\n",
    "        else:\n",
    "            song = ' '.join([j for j in i.split() if j not in stop_words])\n",
    "        result.append(song)        \n",
    "    return result\n",
    "\n",
    "def tf_idf(corpus):\n",
    "    vectorizer = TfidfVectorizer()\n",
    "    tf_df = vectorizer.fit_transform(corpus)\n",
    "    return tf_df,vectorizer\n",
    "\n",
    "def generate_tf_idf(se):\n",
    "    # ------------------------ release name or title ------------------------------------------------- #\n",
    "    # turn to tf-idf matrix\n",
    "    release_name = remove_stopwords(se.fillna(''),stem=True)\n",
    "    release_tfidf,release_voc = tf_idf(release_name)\n",
    "    return release_tfidf,release_voc"
   ]
  },
  {
   "cell_type": "code",
   "execution_count": 5,
   "metadata": {},
   "outputs": [],
   "source": [
    "def preprocess(data):\n",
    "    # ----------------------- generate decades ------------------------------------- #\n",
    "    data['decade']=data.year.apply(lambda se: se//10*10)\n",
    "\n",
    "    # ----------------------- artist name ------------------------------------------ #\n",
    "    data['artist_firstname']=data['artist.name'].apply(lambda se:se[0].upper())\n",
    "    data['artist_lastname']=data['artist.name'].apply(lambda se: se.split(' ')[-1][:1].upper() )\n",
    "    \n",
    "    # ----------------------- mtbags ------------------------------------------------ #\n",
    "    '''\n",
    "    \"Terms\" are the tags provided by The Echo Nest. They can come from a number of places, but mostly blogs as far as we understand. \n",
    "     \"Mbtags\" are musicbrainz tags, specifically applied by humans to a particular artist. This explains why there are fewer of them \n",
    "     (see 'mbtags_count'), but they are usually very clean and informative. \n",
    "     For instance, if you want to create a genre recognition task where classes are mutually exclusive, mbtags are likely to be more \n",
    "     reliable then terms.\n",
    "    '''\n",
    "    # total 284 mtbags, but at most 3 tags per songs. \n",
    "    # Creat 3 columns for the songs tags\n",
    "    mbtags = data['artist_mbtags'].apply(lambda se: [x.strip() for x in se.split('and')] if type(se)==str else np.nan)\n",
    "    unique_tags = set(mbtags.dropna().sum())\n",
    "    n_tags = len(unique_tags)\n",
    "    tag2idx=dict(zip(unique_tags,range(1,n_tags+1)))\n",
    "    tag2idx[np.nan]=0\n",
    "    idx2tag=dict(zip(range(1,n_tags+1),unique_tags))\n",
    "    idx2tag[0]=np.nan\n",
    "    data['mbtags_count']=mbtags.apply(lambda se:len(se) if type(se)==list else 0)\n",
    "    n_tags_per_song = data['mbtags_count'].max()\n",
    "    a=mbtags.apply(lambda se:[tag2idx[k] for k in se]+[0]*(3-len(se)) if type(se)==list else [0,0,0]).apply(pd.Series)\n",
    "    a.columns=['mbtag_'+str(i) for i in range(n_tags_per_song)]\n",
    "    data=pd.concat([data,a],axis=1)\n",
    "    \n",
    "    # -------------------------- similar --------------------------------------------------- #\n",
    "    # turn similar to the hotness of the similar artists\n",
    "    artist_hot=data[['artist.id','artist.hotttnesss']].drop_duplicates()\n",
    "    id2hot = defaultdict(lambda:np.nan,zip(artist_hot['artist.id'], artist_hot['artist.hotttnesss']))\n",
    "    data['similar_hotness']=data['similar'].apply(lambda se:id2hot[se])\n",
    "    \n",
    "    # -------------------------- terms ------------------------------------------------------ #\n",
    "    # turn the terms to id\n",
    "    terms = data['terms'].unique()\n",
    "    data['terms_freq'][data['terms_freq']>1]=1\n",
    "    n_terms = len(terms)\n",
    "    term2idx=dict(zip(terms,range(1,n_terms+1)))\n",
    "    term2idx[np.nan]=0\n",
    "    idx2term=dict(zip(range(1,n_terms+1),terms))\n",
    "    idx2term[0]=np.nan\n",
    "    data['term_id']=data['terms'].apply(lambda se:term2idx[se] )\n",
    "    \n",
    "    # --------------------------- remove the outliers ---------------------------------------- #\n",
    "    data['terms_freq'][data['terms_freq']>1]=1\n",
    "    data['time_signature_confidence'][data['time_signature_confidence']>1]=1\n",
    "    \n",
    "    # ---------------------------- to do ------------------------------------------------------ #\n",
    "    # add sentiment analysis on title and release name.\n",
    "    \n",
    "    \n",
    "    return data, tag2idx,idx2tag, term2idx,idx2term"
   ]
  },
  {
   "cell_type": "code",
   "execution_count": 6,
   "metadata": {},
   "outputs": [
    {
     "name": "stderr",
     "output_type": "stream",
     "text": [
      "C:\\ProgramData\\Anaconda3\\lib\\site-packages\\ipykernel_launcher.py:41: SettingWithCopyWarning: \n",
      "A value is trying to be set on a copy of a slice from a DataFrame\n",
      "\n",
      "See the caveats in the documentation: http://pandas.pydata.org/pandas-docs/stable/indexing.html#indexing-view-versus-copy\n",
      "C:\\ProgramData\\Anaconda3\\lib\\site-packages\\ipykernel_launcher.py:50: SettingWithCopyWarning: \n",
      "A value is trying to be set on a copy of a slice from a DataFrame\n",
      "\n",
      "See the caveats in the documentation: http://pandas.pydata.org/pandas-docs/stable/indexing.html#indexing-view-versus-copy\n",
      "C:\\ProgramData\\Anaconda3\\lib\\site-packages\\ipykernel_launcher.py:51: SettingWithCopyWarning: \n",
      "A value is trying to be set on a copy of a slice from a DataFrame\n",
      "\n",
      "See the caveats in the documentation: http://pandas.pydata.org/pandas-docs/stable/indexing.html#indexing-view-versus-copy\n"
     ]
    }
   ],
   "source": [
    "data,tag2idx,idx2tag,term2idx,idx2term=preprocess(data)"
   ]
  },
  {
   "cell_type": "code",
   "execution_count": null,
   "metadata": {},
   "outputs": [],
   "source": []
  },
  {
   "cell_type": "code",
   "execution_count": null,
   "metadata": {},
   "outputs": [],
   "source": []
  },
  {
   "cell_type": "markdown",
   "metadata": {},
   "source": [
    "##"
   ]
  },
  {
   "cell_type": "markdown",
   "metadata": {},
   "source": [
    "## Feature Engineering\n",
    "\n",
    "### Grammy Award\n",
    "The Grammy award is presented by The Recording Academy to recognize achievements in the music industry. We have included it in our feature space because we believe the it could be a good indicator for a song's hotness. However, Grammy award "
   ]
  }
 ],
 "metadata": {
  "kernelspec": {
   "display_name": "Python 3",
   "language": "python",
   "name": "python3"
  },
  "language_info": {
   "codemirror_mode": {
    "name": "ipython",
    "version": 3
   },
   "file_extension": ".py",
   "mimetype": "text/x-python",
   "name": "python",
   "nbconvert_exporter": "python",
   "pygments_lexer": "ipython3",
   "version": "3.6.8"
  }
 },
 "nbformat": 4,
 "nbformat_minor": 2
}
