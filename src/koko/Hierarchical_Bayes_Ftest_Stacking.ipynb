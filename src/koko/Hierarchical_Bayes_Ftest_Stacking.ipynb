{
 "cells": [
  {
   "cell_type": "code",
   "execution_count": 1,
   "metadata": {},
   "outputs": [],
   "source": [
    "import pandas as pd\n",
    "import numpy as np\n",
    "import matplotlib.pyplot as plt\n",
    "import re\n",
    "from scipy.stats.stats import pearsonr\n",
    "from sklearn.feature_extraction.text import TfidfVectorizer\n",
    "from nltk.corpus import stopwords \n",
    "from sklearn.ensemble import RandomForestClassifier\n",
    "from sklearn.model_selection import train_test_split\n",
    "from sklearn.ensemble import RandomForestRegressor\n",
    "import util\n",
    "import os\n",
    "os.environ['R_HOME'] = \"/usr/share/anaconda3/lib/R\"\n",
    "\n",
    "%matplotlib inline"
   ]
  },
  {
   "cell_type": "code",
   "execution_count": 2,
   "metadata": {},
   "outputs": [],
   "source": [
    "import rpy2\n",
    "import rpy2.robjects as robjects\n",
    "from rpy2.robjects.packages import importr\n",
    "r_utils = importr('utils')"
   ]
  },
  {
   "cell_type": "code",
   "execution_count": 3,
   "metadata": {},
   "outputs": [],
   "source": [
    "data = pd.read_csv('data/all_data.csv')"
   ]
  },
  {
   "cell_type": "code",
   "execution_count": 4,
   "metadata": {},
   "outputs": [
    {
     "data": {
      "text/plain": [
       "Index(['Unnamed: 0', 'Youtube_Hotness', 'Unnamed: 0.1', 'artist.hotttnesss',\n",
       "       'artist.id', 'artist.name', 'artist_mbtags', 'artist_mbtags_count',\n",
       "       'bars_confidence', 'bars_start',\n",
       "       ...\n",
       "       'title_compound.1', 'release.name_neg.1', 'release.name_neu.1',\n",
       "       'release.name_pos.1', 'release.name_compound.1', 'artist_freq.1',\n",
       "       'country', 'country_foreign', 'country_unknown', 'country_us'],\n",
       "      dtype='object', length=148)"
      ]
     },
     "execution_count": 4,
     "metadata": {},
     "output_type": "execute_result"
    }
   ],
   "source": [
    "data.columns"
   ]
  },
  {
   "cell_type": "code",
   "execution_count": 5,
   "metadata": {},
   "outputs": [
    {
     "data": {
      "text/plain": [
       "country\n",
       "foreign    2012\n",
       "unknown    4295\n",
       "us         3693\n",
       "dtype: int64"
      ]
     },
     "execution_count": 5,
     "metadata": {},
     "output_type": "execute_result"
    }
   ],
   "source": [
    "data.groupby('country').size()"
   ]
  },
  {
   "cell_type": "code",
   "execution_count": 9,
   "metadata": {},
   "outputs": [],
   "source": [
    "import pymc3 as pm"
   ]
  },
  {
   "cell_type": "code",
   "execution_count": 10,
   "metadata": {},
   "outputs": [
    {
     "data": {
      "text/plain": [
       "Index(['artist.hotttnesss', 'artist.id', 'artist.name', 'artist_mbtags',\n",
       "       'artist_mbtags_count', 'bars_confidence', 'bars_start',\n",
       "       'beats_confidence', 'beats_start', 'duration', 'end_of_fade_in',\n",
       "       'familiarity', 'key', 'key_confidence', 'latitude', 'location',\n",
       "       'longitude', 'loudness', 'mode', 'mode_confidence', 'release.id',\n",
       "       'release.name', 'similar', 'song.hotttnesss', 'song.id',\n",
       "       'start_of_fade_out', 'tatums_confidence', 'tatums_start', 'tempo',\n",
       "       'terms', 'terms_freq', 'time_signature', 'time_signature_confidence',\n",
       "       'title', 'year', 'decade', 'artist_firstname', 'artist_lastname',\n",
       "       'mbtags_count', 'mbtag_0', 'mbtag_1', 'mbtag_2', 'similar_hotness',\n",
       "       'term_id', 'hotness', 'title_neg', 'title_neu', 'title_pos',\n",
       "       'title_compound', 'release.name_neg', 'release.name_neu',\n",
       "       'release.name_pos', 'release.name_compound', 'country'],\n",
       "      dtype='object')"
      ]
     },
     "execution_count": 10,
     "metadata": {},
     "output_type": "execute_result"
    }
   ],
   "source": [
    "data.columns"
   ]
  },
  {
   "cell_type": "code",
   "execution_count": 21,
   "metadata": {},
   "outputs": [],
   "source": [
    "sub_data = data[['artist.hotttnesss','loudness','time_signature','country']]\n",
    "n_var = len(sub_data.columns)"
   ]
  },
  {
   "cell_type": "code",
   "execution_count": 22,
   "metadata": {},
   "outputs": [],
   "source": [
    "X_train, X_test, y_train, y_test=train_test_split(sub_data,data['hotness'],test_size = 0.4,random_state =42)"
   ]
  },
  {
   "cell_type": "code",
   "execution_count": 24,
   "metadata": {},
   "outputs": [],
   "source": [
    "c_train=[0 if i=='unknown' else 1 if i=='foreign' else 2 for i in X_train['country']]\n",
    "X_train =X_train.drop(columns = ['country'])\n",
    "#sub_data['country']=c"
   ]
  },
  {
   "cell_type": "code",
   "execution_count": 14,
   "metadata": {},
   "outputs": [],
   "source": [
    "import theano\n",
    "import theano.tensor as tt"
   ]
  },
  {
   "cell_type": "code",
   "execution_count": 38,
   "metadata": {},
   "outputs": [
    {
     "name": "stderr",
     "output_type": "stream",
     "text": [
      "/usr/share/anaconda3/lib/python3.6/site-packages/theano/tensor/subtensor.py:2197: FutureWarning: Using a non-tuple sequence for multidimensional indexing is deprecated; use `arr[tuple(seq)]` instead of `arr[seq]`. In the future this will be interpreted as an array index, `arr[np.array(seq)]`, which will result either in an error or a different result.\n",
      "  rval = inputs[0].__getitem__(inputs[1:])\n"
     ]
    }
   ],
   "source": [
    "with pm.Model() as pooled_model: \n",
    "    # number of predictors \n",
    "    n_var = len(X_train.columns)\n",
    "    # common prior for intercept\n",
    "    mu = pm.Normal('mu',0,sd = 5)\n",
    "    std = pm.HalfCauchy('sd',5)\n",
    "    intercept = pm.Normal('intercept',mu,std,shape = 3)\n",
    "    param_matrix = pm.Normal('param', 0, sd = 50, shape = (3,n_var))\n",
    "    colname = X_train.columns\n",
    "    eps = pm.HalfCauchy('eps', 2,shape = 3)\n",
    "    hotness = intercept[c_train]\n",
    "    for idx in range(n_var):\n",
    "        hotness += param_matrix[c_train,idx]*X_train[colname[idx]].values\n",
    "    noise = pm.Deterministic('sample noise',eps[c_train])\n",
    "    y = pm.Normal('y', hotness, sd = noise, observed = y_train.values)"
   ]
  },
  {
   "cell_type": "code",
   "execution_count": 39,
   "metadata": {},
   "outputs": [
    {
     "name": "stderr",
     "output_type": "stream",
     "text": [
      "Only 100 samples in chain.\n",
      "Auto-assigning NUTS sampler...\n",
      "Initializing NUTS using jitter+adapt_diag...\n",
      "/usr/share/anaconda3/lib/python3.6/site-packages/theano/tensor/subtensor.py:2197: FutureWarning: Using a non-tuple sequence for multidimensional indexing is deprecated; use `arr[tuple(seq)]` instead of `arr[seq]`. In the future this will be interpreted as an array index, `arr[np.array(seq)]`, which will result either in an error or a different result.\n",
      "  rval = inputs[0].__getitem__(inputs[1:])\n",
      "Multiprocess sampling (2 chains in 2 jobs)\n",
      "NUTS: [eps, param, intercept, sd, mu]\n",
      "Sampling 2 chains: 100%|██████████| 1200/1200 [01:21<00:00, 14.19draws/s]\n"
     ]
    }
   ],
   "source": [
    "with pooled_model:\n",
    "    trace = pm.sample(100,n_jobs=4)"
   ]
  },
  {
   "cell_type": "code",
   "execution_count": 40,
   "metadata": {},
   "outputs": [
    {
     "name": "stderr",
     "output_type": "stream",
     "text": [
      "/usr/share/anaconda3/lib/python3.6/site-packages/ipykernel_launcher.py:1: DeprecationWarning: sample_ppc() is deprecated.  Please use sample_posterior_predictive()\n",
      "  \"\"\"Entry point for launching an IPython kernel.\n",
      "  0%|          | 0/200 [00:00<?, ?it/s]INFO (theano.gof.compilelock): Refreshing lock /jupyteruser/71352838/.theano/compiledir_Linux-4.4--aws-x86_64-with-debian-stretch-sid-x86_64-3.6.8-64/lock_dir/lock\n",
      "/usr/share/anaconda3/lib/python3.6/site-packages/theano/tensor/subtensor.py:2197: FutureWarning: Using a non-tuple sequence for multidimensional indexing is deprecated; use `arr[tuple(seq)]` instead of `arr[seq]`. In the future this will be interpreted as an array index, `arr[np.array(seq)]`, which will result either in an error or a different result.\n",
      "  rval = inputs[0].__getitem__(inputs[1:])\n",
      "100%|██████████| 200/200 [00:01<00:00, 183.50it/s]\n"
     ]
    }
   ],
   "source": [
    "pps = pm.sample_ppc(trace, model = pooled_model)"
   ]
  },
  {
   "cell_type": "code",
   "execution_count": 41,
   "metadata": {},
   "outputs": [],
   "source": [
    "pred_train = np.mean(pps['y'],axis=0)"
   ]
  },
  {
   "cell_type": "code",
   "execution_count": 42,
   "metadata": {},
   "outputs": [],
   "source": [
    "from sklearn.metrics import mean_squared_error"
   ]
  },
  {
   "cell_type": "code",
   "execution_count": 43,
   "metadata": {},
   "outputs": [
    {
     "name": "stdout",
     "output_type": "stream",
     "text": [
      "train mse 78.55851860424968\n"
     ]
    }
   ],
   "source": [
    "mse = mean_squared_error(pred_train,y_train.values)\n",
    "print('train mse',mse)"
   ]
  },
  {
   "cell_type": "code",
   "execution_count": 49,
   "metadata": {},
   "outputs": [],
   "source": [
    "intercept = np.mean(trace['intercept'],axis = 0)\n",
    "param = np.mean(trace['param'],axis = 0)"
   ]
  },
  {
   "cell_type": "code",
   "execution_count": 46,
   "metadata": {},
   "outputs": [
    {
     "name": "stderr",
     "output_type": "stream",
     "text": [
      "/usr/share/anaconda3/lib/python3.6/site-packages/ipykernel_launcher.py:2: SettingWithCopyWarning: \n",
      "A value is trying to be set on a copy of a slice from a DataFrame.\n",
      "Try using .loc[row_indexer,col_indexer] = value instead\n",
      "\n",
      "See the caveats in the documentation: http://pandas.pydata.org/pandas-docs/stable/indexing.html#indexing-view-versus-copy\n",
      "  \n"
     ]
    }
   ],
   "source": [
    "c_test=[0 if i=='unknown' else 1 if i=='foreign' else 2 for i in X_test['country']]\n",
    "X_test['country'] = c_test"
   ]
  },
  {
   "cell_type": "code",
   "execution_count": 65,
   "metadata": {},
   "outputs": [
    {
     "data": {
      "text/plain": [
       "Index(['artist.hotttnesss', 'loudness', 'time_signature'], dtype='object')"
      ]
     },
     "execution_count": 65,
     "metadata": {},
     "output_type": "execute_result"
    }
   ],
   "source": [
    "colname = X_train.columns\n",
    "colname"
   ]
  },
  {
   "cell_type": "code",
   "execution_count": 89,
   "metadata": {},
   "outputs": [],
   "source": [
    "pred_test = []\n",
    "for i in range(len(X_test)):\n",
    "    a = intercept[X_test['country'].values[i]]\n",
    "    result =  a+np.sum(X_test.iloc[i][colname].values*param[X_test['country'].values[i]])\n",
    "    pred_test.append(result)"
   ]
  },
  {
   "cell_type": "code",
   "execution_count": 91,
   "metadata": {},
   "outputs": [
    {
     "name": "stdout",
     "output_type": "stream",
     "text": [
      "tesr mse 80.31288917876697\n"
     ]
    }
   ],
   "source": [
    "mse = mean_squared_error(pred_test,y_test.values)\n",
    "print('test mse',mse)"
   ]
  },
  {
   "cell_type": "code",
   "execution_count": 92,
   "metadata": {},
   "outputs": [],
   "source": [
    "# graph\n",
    "cutoff=int(trace['param'].shape[0]/2)"
   ]
  },
  {
   "cell_type": "code",
   "execution_count": 93,
   "metadata": {},
   "outputs": [
    {
     "data": {
      "image/png": "[encoded data removed]",
      "text/plain": [
       "<Figure size 432x288 with 1 Axes>"
      ]
     },
     "metadata": {
      "needs_background": "light"
     },
     "output_type": "display_data"
    }
   ],
   "source": [
    "plt.plot(trace['param'][:cutoff,0,0],alpha = 0.5);\n",
    "plt.plot(trace['param'][cutoff:,0,0],alpha = 0.5);"
   ]
  },
  {
   "cell_type": "code",
   "execution_count": 96,
   "metadata": {},
   "outputs": [],
   "source": [
    "df = pd.DataFrame(np.mean(trace['param'],axis = 0),\n",
    "             columns = ['artist.hotttnesss', 'loudness', 'time_signature'],\n",
    "             index = ['country-unknown','country-foreign','country-us'])\n",
    "df['intercept'] = intercept"
   ]
  },
  {
   "cell_type": "code",
   "execution_count": 97,
   "metadata": {},
   "outputs": [
    {
     "data": {
      "text/html": [
       "<div>\n",
       "<style scoped>\n",
       "    .dataframe tbody tr th:only-of-type {\n",
       "        vertical-align: middle;\n",
       "    }\n",
       "\n",
       "    .dataframe tbody tr th {\n",
       "        vertical-align: top;\n",
       "    }\n",
       "\n",
       "    .dataframe thead th {\n",
       "        text-align: right;\n",
       "    }\n",
       "</style>\n",
       "<table border=\"1\" class=\"dataframe\">\n",
       "  <thead>\n",
       "    <tr style=\"text-align: right;\">\n",
       "      <th></th>\n",
       "      <th>artist.hotttnesss</th>\n",
       "      <th>loudness</th>\n",
       "      <th>time_signature</th>\n",
       "      <th>intercept</th>\n",
       "    </tr>\n",
       "  </thead>\n",
       "  <tbody>\n",
       "    <tr>\n",
       "      <th>country-unknown</th>\n",
       "      <td>20.443752</td>\n",
       "      <td>0.204075</td>\n",
       "      <td>0.213834</td>\n",
       "      <td>-2.454934</td>\n",
       "    </tr>\n",
       "    <tr>\n",
       "      <th>country-foreign</th>\n",
       "      <td>24.850144</td>\n",
       "      <td>0.236238</td>\n",
       "      <td>0.145136</td>\n",
       "      <td>-3.008440</td>\n",
       "    </tr>\n",
       "    <tr>\n",
       "      <th>country-us</th>\n",
       "      <td>17.437727</td>\n",
       "      <td>0.141364</td>\n",
       "      <td>0.137667</td>\n",
       "      <td>0.275601</td>\n",
       "    </tr>\n",
       "  </tbody>\n",
       "</table>\n",
       "</div>"
      ],
      "text/plain": [
       "                 artist.hotttnesss  loudness  time_signature  intercept\n",
       "country-unknown          20.443752  0.204075        0.213834  -2.454934\n",
       "country-foreign          24.850144  0.236238        0.145136  -3.008440\n",
       "country-us               17.437727  0.141364        0.137667   0.275601"
      ]
     },
     "execution_count": 97,
     "metadata": {},
     "output_type": "execute_result"
    }
   ],
   "source": [
    "df"
   ]
  },
  {
   "cell_type": "markdown",
   "metadata": {},
   "source": [
    "We see that even after pooling 3 different types of country, the intercept and loudness ara significantly different across countries. This analysis tells us it is essential to control for region-related factor in order to eliminate heteogeneity. We cannot see clearly the selection bias. To see this we need another model."
   ]
  },
  {
   "cell_type": "code",
   "execution_count": 99,
   "metadata": {},
   "outputs": [],
   "source": [
    "with pm.Model() as unpooled_model:   \n",
    "    # number of predictors \n",
    "    n_var = len(X_train.columns)\n",
    "    # common prior for intercept\n",
    "    intercept = pm.Normal('intercept',0,10,shape = 3)\n",
    "    param_matrix = pm.Normal('param', 0, sd = 50, shape = (n_var))\n",
    "    colname = X_train.columns\n",
    "    eps = pm.HalfCauchy('eps', 2,shape = 3)\n",
    "    hotness = intercept[c_train]\n",
    "    for idx in range(n_var):\n",
    "        hotness += param_matrix[idx]*X_train[colname[idx]].values\n",
    "    noise = pm.Deterministic('sample noise',eps[c_train])\n",
    "    y = pm.Normal('y', hotness, sd = noise, observed = y_train.values)"
   ]
  },
  {
   "cell_type": "code",
   "execution_count": 100,
   "metadata": {},
   "outputs": [
    {
     "name": "stderr",
     "output_type": "stream",
     "text": [
      "Only 200 samples in chain.\n",
      "Auto-assigning NUTS sampler...\n",
      "Initializing NUTS using jitter+adapt_diag...\n",
      "Multiprocess sampling (2 chains in 2 jobs)\n",
      "NUTS: [eps, param, intercept]\n",
      "Sampling 2 chains: 100%|██████████| 1400/1400 [00:15<00:00, 91.08draws/s] \n"
     ]
    }
   ],
   "source": [
    "with unpooled_model:\n",
    "    unpooled_trace = pm.sample(200,n_jobs=2)"
   ]
  },
  {
   "cell_type": "code",
   "execution_count": 109,
   "metadata": {},
   "outputs": [
    {
     "data": {
      "text/plain": [
       "array([19.83736785,  0.18199046,  0.16776702])"
      ]
     },
     "execution_count": 109,
     "metadata": {},
     "output_type": "execute_result"
    }
   ],
   "source": [
    "np.mean(unpooled_trace['param'],axis = 0)"
   ]
  },
  {
   "cell_type": "code",
   "execution_count": 110,
   "metadata": {},
   "outputs": [
    {
     "data": {
      "text/plain": [
       "array([-2.32470009, -1.54129948, -0.40597227])"
      ]
     },
     "execution_count": 110,
     "metadata": {},
     "output_type": "execute_result"
    }
   ],
   "source": [
    "np.mean(unpooled_trace['intercept'],axis = 0)"
   ]
  },
  {
   "cell_type": "code",
   "execution_count": 112,
   "metadata": {},
   "outputs": [
    {
     "name": "stderr",
     "output_type": "stream",
     "text": [
      "/usr/share/anaconda3/lib/python3.6/site-packages/ipykernel_launcher.py:1: DeprecationWarning: sample_ppc() is deprecated.  Please use sample_posterior_predictive()\n",
      "  \"\"\"Entry point for launching an IPython kernel.\n",
      "100%|██████████| 400/400 [00:00<00:00, 462.17it/s]\n"
     ]
    }
   ],
   "source": [
    "pps = pm.sample_ppc(unpooled_trace, model = unpooled_model)\n",
    "pred_train = np.mean(pps['y'],axis=0)"
   ]
  },
  {
   "cell_type": "code",
   "execution_count": 113,
   "metadata": {},
   "outputs": [
    {
     "name": "stdout",
     "output_type": "stream",
     "text": [
      "train mse 78.65201830962555\n"
     ]
    }
   ],
   "source": [
    "mse = mean_squared_error(pred_train,y_train.values)\n",
    "print('train mse',mse)"
   ]
  },
  {
   "cell_type": "code",
   "execution_count": 114,
   "metadata": {},
   "outputs": [],
   "source": [
    "intercept = np.mean(unpooled_trace['intercept'],axis = 0)\n",
    "param=np.mean(unpooled_trace['param'],axis = 0)\n",
    "pred_test = []\n",
    "for i in range(len(X_test)):\n",
    "    a = intercept[X_test['country'].values[i]]\n",
    "    result =  a+np.sum(X_test.iloc[i][colname].values*param)\n",
    "    pred_test.append(result)"
   ]
  },
  {
   "cell_type": "code",
   "execution_count": 115,
   "metadata": {},
   "outputs": [
    {
     "name": "stdout",
     "output_type": "stream",
     "text": [
      "test mse 80.46331267821131\n"
     ]
    }
   ],
   "source": [
    "mse = mean_squared_error(pred_test,y_test.values)\n",
    "print('test mse',mse)"
   ]
  },
  {
   "cell_type": "markdown",
   "metadata": {},
   "source": [
    "### F-testing"
   ]
  },
  {
   "cell_type": "code",
   "execution_count": 6,
   "metadata": {},
   "outputs": [],
   "source": [
    "dropcol = ['artist.id', 'artist.name','artist_mbtags',\n",
    "           'artist_mbtags_count',\n",
    "           'song.id','familiarity',\n",
    "           'longitude','release.name','song.hotttnesss',\n",
    "           'artist.id','year','release.id','terms', 'terms_freq',\n",
    "            'title','location','term_id','latitude','mbtags_count',\n",
    "           'country','similar','Unnamed: 0'\n",
    "          ]\n",
    "confidence = ['bars_confidence','mode_confidence',\n",
    "              'tatums_confidence','time_signature_confidence',\n",
    "              'beats_confidence','key_confidence'\n",
    "             ]\n",
    "engineered = ['release.name_neu','release.name_pos','release.name_neg',\n",
    "             'title_neg','title_neu', 'title_pos',\n",
    "              'mbtag_0', 'mbtag_1', 'mbtag_2','artist_firstname', \n",
    "              'artist_lastname','title_compound',\n",
    "              'release.name_compound','similar_hotness']\n",
    "augmented = ['artist_freq']"
   ]
  },
  {
   "cell_type": "code",
   "execution_count": 7,
   "metadata": {},
   "outputs": [
    {
     "data": {
      "text/plain": [
       "['title_svd_3_10.1',\n",
       " 'song.id.1',\n",
       " 'time_signature.1',\n",
       " 'duration',\n",
       " 'loudness',\n",
       " 'key',\n",
       " 'start_of_fade_out',\n",
       " 'title_svd_4_10',\n",
       " 'title_neg',\n",
       " 'beats_start',\n",
       " 'artist.id.1',\n",
       " 'title_svd_5_10',\n",
       " 'mode',\n",
       " 'release_svd_2_10',\n",
       " 'release_svd_6_10',\n",
       " 'song.hotttnesss.1',\n",
       " 'title_svd_6_10.1',\n",
       " 'country_us',\n",
       " 'longitude.1',\n",
       " 'latitude.1',\n",
       " 'y_fit_term',\n",
       " 'terms.1',\n",
       " 'release.name_pos',\n",
       " 'mbtag_2',\n",
       " 'end_of_fade_in.1',\n",
       " 'release_svd_8_10',\n",
       " 'title_svd_1_10',\n",
       " 'year.1',\n",
       " 'tatums_start.1',\n",
       " 'title_svd_1_10.1',\n",
       " 'mbtags_count.1',\n",
       " 'release.name_neu.1',\n",
       " 'tempo',\n",
       " 'title_svd_8_10',\n",
       " 'title_svd_10_10.1',\n",
       " 'release.name_compound',\n",
       " 'release_svd_1_10',\n",
       " 'release.name_neg.1',\n",
       " 'title_svd_10_10',\n",
       " 'mode_confidence.1',\n",
       " 'release_svd_3_10',\n",
       " 'bars_confidence.1',\n",
       " 'country_foreign',\n",
       " 'title_svd_2_10',\n",
       " 'term_id.1',\n",
       " 'artist_mbtags_count.1',\n",
       " 'artist.hotttnesss.1',\n",
       " 'tatums_start',\n",
       " 'title_svd_9_10.1',\n",
       " 'mbtag_1.1',\n",
       " 'beats_start.1',\n",
       " 'release.name_neu',\n",
       " 'release.id.1',\n",
       " 'artist_firstname.1',\n",
       " 'hotness',\n",
       " 'title_svd_7_10',\n",
       " 'release_svd_7_10',\n",
       " 'release.name_pos.1',\n",
       " 'artist_lastname.1',\n",
       " 'title_neg.1',\n",
       " 'similar_hotness',\n",
       " 'familiarity.1',\n",
       " 'title_compound.1',\n",
       " 'title_svd_7_10.1',\n",
       " 'Unnamed: 0.1',\n",
       " 'title_svd_6_10',\n",
       " 'mbtag_0',\n",
       " 'tatums_confidence.1',\n",
       " 'title_neu.1',\n",
       " 'release_svd_4_10',\n",
       " 'artist_freq.1',\n",
       " 'release.name.1',\n",
       " 'Youtube_Hotness',\n",
       " 'mbtag_1',\n",
       " 'release_svd_9_10',\n",
       " 'decade',\n",
       " 'title_compound',\n",
       " 'bars_start',\n",
       " 'key_confidence.1',\n",
       " 'decade.1',\n",
       " 'artist_firstname',\n",
       " 'tempo.1',\n",
       " 'title_svd_2_10.1',\n",
       " 'duration.1',\n",
       " 'y_fit_title',\n",
       " 'key.1',\n",
       " 'mode.1',\n",
       " 'artist_lastname',\n",
       " 'release_svd_10_10',\n",
       " 'time_signature_confidence.1',\n",
       " 'mbtag_0.1',\n",
       " 'title_svd_8_10.1',\n",
       " 'release.name_neg',\n",
       " 'location.1',\n",
       " 'title_svd_3_10',\n",
       " 'similar_hotness.1',\n",
       " 'artist_mbtags.1',\n",
       " 'title_pos',\n",
       " 'loudness.1',\n",
       " 'terms_freq.1',\n",
       " 'title_neu',\n",
       " 'y_fit_release',\n",
       " 'title.1',\n",
       " 'title_pos.1',\n",
       " 'artist.name.1',\n",
       " 'release.name_compound.1',\n",
       " 'country_unknown',\n",
       " 'title_svd_9_10',\n",
       " 'artist.hotttnesss',\n",
       " 'release_svd_5_10',\n",
       " 'title_svd_5_10.1',\n",
       " 'grammy_relevance',\n",
       " 'similar.1',\n",
       " 'mbtag_2.1',\n",
       " 'beats_confidence.1',\n",
       " 'end_of_fade_in',\n",
       " 'time_signature',\n",
       " 'bars_start.1',\n",
       " 'title_svd_4_10.1',\n",
       " 'start_of_fade_out.1']"
      ]
     },
     "execution_count": 7,
     "metadata": {},
     "output_type": "execute_result"
    }
   ],
   "source": [
    "list(set(data.columns)-set(dropcol)-set(confidence)-set(augmented))"
   ]
  },
  {
   "cell_type": "code",
   "execution_count": 8,
   "metadata": {},
   "outputs": [],
   "source": [
    "# drop similar hotness because it has 7684 rows\n",
    "# 'mbtag_1','mbtag_2','mbtag_0' have too many levels(several hundreds) to we drop for now\n",
    "dict_data = {}\n",
    "quant = ['mode','tatums_start','release.name_compound',\n",
    " 'loudness','bars_start','title_compound','artist.hotttnesss',\n",
    " 'beats_start','start_of_fade_out',\n",
    " 'key','tempo','duration','end_of_fade_in','time_signature']\n",
    "cat = ['decade','artist_lastname','title_pos',\n",
    "      'artist_firstname','release.name_neu','release.name_pos',\n",
    " 'title_neg','release.name_neg','title_neu', 'country']\n",
    "for col in quant:\n",
    "    dict_data[col] = rpy2.robjects.FloatVector(data[col].values)\n",
    "for col in cat:\n",
    "    dict_data[col] = rpy2.robjects.vectors.StrVector(data[col].values)\n",
    "dict_data['response'] = rpy2.robjects.FloatVector(data['hotness'].values)\n",
    "r_data_engineered = rpy2.robjects.DataFrame(dict_data)"
   ]
  },
  {
   "cell_type": "code",
   "execution_count": 9,
   "metadata": {},
   "outputs": [
    {
     "data": {
      "text/plain": [
       "7684"
      ]
     },
     "execution_count": 9,
     "metadata": {},
     "output_type": "execute_result"
    }
   ],
   "source": [
    "data['similar_hotness'].isna().sum()"
   ]
  },
  {
   "cell_type": "code",
   "execution_count": 12,
   "metadata": {},
   "outputs": [],
   "source": [
    "dict_data = {}\n",
    "quant = ['artist.hotttnesss', 'bars_start', 'beats_start', 'duration',\n",
    "       'end_of_fade_in', 'key', 'loudness', 'mode', \n",
    "       'start_of_fade_out', 'tatums_start', 'tempo', 'time_signature',\n",
    "        'artist_freq','grammy_relevance']\n",
    "cat = ['decade','country']\n",
    "for col in quant:\n",
    "    dict_data[col] = rpy2.robjects.FloatVector(data[col].values)\n",
    "for col in cat:\n",
    "    dict_data[col] = rpy2.robjects.vectors.StrVector(data[col].values)\n",
    "dict_data['response'] = rpy2.robjects.FloatVector(data['hotness'].values)\n",
    "r_data_augmented = rpy2.robjects.DataFrame(dict_data)"
   ]
  },
  {
   "cell_type": "code",
   "execution_count": 13,
   "metadata": {},
   "outputs": [],
   "source": [
    "dict_data = {}\n",
    "quant = ['artist.hotttnesss', 'bars_start', 'beats_start', 'duration',\n",
    "       'end_of_fade_in', 'key', 'loudness', 'mode', \n",
    "       'start_of_fade_out', 'tatums_start', 'tempo', 'time_signature']\n",
    "cat = ['decade','country']\n",
    "for col in quant:\n",
    "    dict_data[col] = rpy2.robjects.FloatVector(data[col].values)\n",
    "for col in cat:\n",
    "    dict_data[col] = rpy2.robjects.vectors.StrVector(data[col].values)\n",
    "dict_data['response'] = rpy2.robjects.FloatVector(data['hotness'].values)\n",
    "r_data = rpy2.robjects.DataFrame(dict_data)"
   ]
  },
  {
   "cell_type": "code",
   "execution_count": 14,
   "metadata": {},
   "outputs": [],
   "source": [
    "%reload_ext rpy2.ipython"
   ]
  },
  {
   "cell_type": "code",
   "execution_count": 15,
   "metadata": {},
   "outputs": [
    {
     "name": "stderr",
     "output_type": "stream",
     "text": [
      "/usr/share/anaconda3/lib/python3.6/site-packages/rpy2/robjects/pandas2ri.py:191: FutureWarning: from_items is deprecated. Please use DataFrame.from_dict(dict(items), ...) instead. DataFrame.from_dict(OrderedDict(items)) may be used to preserve the key order.\n",
      "  res = PandasDataFrame.from_items(items)\n"
     ]
    },
    {
     "data": {
      "text/plain": [
       "[1] \"augmented vs baseline\"\n",
       "Analysis of Variance Table\n",
       "\n",
       "Model 1: response ~ artist.hotttnesss + bars_start + beats_start + duration + \n",
       "    end_of_fade_in + key + loudness + mode + start_of_fade_out + \n",
       "    tatums_start + tempo + time_signature + decade + country\n",
       "Model 2: response ~ artist.hotttnesss + bars_start + beats_start + duration + \n",
       "    end_of_fade_in + key + loudness + mode + start_of_fade_out + \n",
       "    tatums_start + tempo + time_signature + artist_freq + grammy_relevance + \n",
       "    decade + country\n",
       "  Res.Df    RSS Df Sum of Sq  Pr(>Chi)    \n",
       "1   9975 771167                           \n",
       "2   9973 768274  2    2892.7 7.016e-09 ***\n",
       "---\n",
       "Signif. codes:  0 ‘***’ 0.001 ‘**’ 0.01 ‘*’ 0.05 ‘.’ 0.1 ‘ ’ 1\n"
      ]
     },
     "metadata": {},
     "output_type": "display_data"
    }
   ],
   "source": [
    "%%R -i r_data -i r_data_augmented -i r_data_engineered\n",
    "null_model = lm(response~.,data= r_data)\n",
    "augmented_model = lm(response~.,data=r_data_augmented)\n",
    "engineered_model = lm(response~.,data = r_data_engineered)\n",
    "print('augmented vs baseline')\n",
    "anova(null_model, augmented_model, test=\"Chisq\")"
   ]
  },
  {
   "cell_type": "code",
   "execution_count": 16,
   "metadata": {},
   "outputs": [
    {
     "data": {
      "text/plain": [
       "Analysis of Variance Table\n",
       "\n",
       "Model 1: response ~ artist.hotttnesss + bars_start + beats_start + duration + \n",
       "    end_of_fade_in + key + loudness + mode + start_of_fade_out + \n",
       "    tatums_start + tempo + time_signature + decade + country\n",
       "Model 2: response ~ mode + tatums_start + release.name_compound + loudness + \n",
       "    bars_start + title_compound + artist.hotttnesss + beats_start + \n",
       "    start_of_fade_out + key + tempo + duration + end_of_fade_in + \n",
       "    time_signature + decade + artist_lastname + title_pos + artist_firstname + \n",
       "    release.name_neu + release.name_pos + title_neg + release.name_neg + \n",
       "    title_neu + country\n",
       "  Res.Df    RSS   Df Sum of Sq Pr(>Chi)   \n",
       "1   9974 770927                           \n",
       "2   8796 670978 1178     99949 0.004114 **\n",
       "---\n",
       "Signif. codes:  0 ‘***’ 0.001 ‘**’ 0.01 ‘*’ 0.05 ‘.’ 0.1 ‘ ’ 1\n"
      ]
     },
     "metadata": {},
     "output_type": "display_data"
    }
   ],
   "source": [
    "%%R -i r_data -i r_data_engineered\n",
    "c = which(is.na(r_data_engineered), arr.ind=TRUE)[1]\n",
    "r_data = r_data[-c,]\n",
    "r_data_engineered = r_data_engineered[-c,]\n",
    "null_model = lm(response~.,data= r_data)\n",
    "engineered_model = lm(response~.,data = r_data_engineered)\n",
    "anova(null_model, engineered_model, test=\"Chisq\")"
   ]
  }
 ],
 "metadata": {
  "kernelspec": {
   "display_name": "Python 3",
   "language": "python",
   "name": "python3"
  },
  "language_info": {
   "codemirror_mode": {
    "name": "ipython",
    "version": 3
   },
   "file_extension": ".py",
   "mimetype": "text/x-python",
   "name": "python",
   "nbconvert_exporter": "python",
   "pygments_lexer": "ipython3",
   "version": "3.6.8"
  }
 },
 "nbformat": 4,
 "nbformat_minor": 2
}
