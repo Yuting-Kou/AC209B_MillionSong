{
 "cells": [
  {
   "cell_type": "code",
   "execution_count": 1,
   "metadata": {},
   "outputs": [],
   "source": [
    "import pandas as pd\n",
    "import numpy as np\n",
    "import matplotlib.pyplot as plt\n",
    "import re\n",
    "from scipy.stats.stats import pearsonr\n",
    "from sklearn.feature_extraction.text import TfidfVectorizer\n",
    "from nltk.corpus import stopwords \n",
    "from sklearn.ensemble import RandomForestClassifier\n",
    "from sklearn.model_selection import train_test_split\n",
    "from sklearn.ensemble import RandomForestRegressor\n",
    "import util\n",
    "from sklearn.metrics import r2_score\n",
    "from sklearn.linear_model import Lasso\n",
    "from sklearn.preprocessing import MinMaxScaler"
   ]
  },
  {
   "cell_type": "code",
   "execution_count": 45,
   "metadata": {},
   "outputs": [],
   "source": [
    "data = pd.read_csv('../data/all_data.csv',index_col=0)"
   ]
  },
  {
   "cell_type": "code",
   "execution_count": 3,
   "metadata": {},
   "outputs": [],
   "source": [
    "import config as cg"
   ]
  },
  {
   "cell_type": "code",
   "execution_count": 4,
   "metadata": {
    "scrolled": false
   },
   "outputs": [
    {
     "data": {
      "text/plain": [
       "['artist.id',\n",
       " 'artist.name',\n",
       " 'artist_mbtags',\n",
       " 'artist_mbtags_count',\n",
       " 'song.id',\n",
       " 'longitude',\n",
       " 'release.name',\n",
       " 'song.hotttnesss',\n",
       " 'artist.id',\n",
       " 'year',\n",
       " 'release.id',\n",
       " 'terms',\n",
       " 'title',\n",
       " 'location',\n",
       " 'latitude',\n",
       " 'country',\n",
       " 'similar',\n",
       " 'similar_hotness',\n",
       " 'mbtag_0',\n",
       " 'mbtag_1',\n",
       " 'mbtag_2']"
      ]
     },
     "execution_count": 4,
     "metadata": {},
     "output_type": "execute_result"
    }
   ],
   "source": [
    "cg.dropcol"
   ]
  },
  {
   "cell_type": "code",
   "execution_count": 5,
   "metadata": {},
   "outputs": [
    {
     "data": {
      "text/plain": [
       "Index(['Youtube_Hotness', 'artist.hotttnesss', 'artist.id', 'artist.name',\n",
       "       'artist_mbtags', 'artist_mbtags_count', 'bars_confidence', 'bars_start',\n",
       "       'beats_confidence', 'beats_start', 'duration', 'end_of_fade_in',\n",
       "       'familiarity', 'key', 'key_confidence', 'latitude', 'location',\n",
       "       'longitude', 'loudness', 'mode', 'mode_confidence', 'release.id',\n",
       "       'release.name', 'similar', 'song.hotttnesss', 'song.id',\n",
       "       'start_of_fade_out', 'tatums_confidence', 'tatums_start', 'tempo',\n",
       "       'terms', 'terms_freq', 'time_signature', 'time_signature_confidence',\n",
       "       'title', 'year', 'decade', 'artist_firstname', 'artist_lastname',\n",
       "       'mbtags_count', 'mbtag_0', 'mbtag_1', 'mbtag_2', 'similar_hotness',\n",
       "       'term_id', 'title_neg', 'title_neu', 'title_pos', 'title_compound',\n",
       "       'release.name_neg', 'release.name_neu', 'release.name_pos',\n",
       "       'release.name_compound', 'y_fit_release', 'y_fit_title', 'y_fit_term',\n",
       "       'release_svd_1_10', 'release_svd_2_10', 'release_svd_3_10',\n",
       "       'release_svd_4_10', 'release_svd_5_10', 'release_svd_6_10',\n",
       "       'release_svd_7_10', 'release_svd_8_10', 'release_svd_9_10',\n",
       "       'release_svd_10_10', 'title_svd_1_10', 'title_svd_2_10',\n",
       "       'title_svd_3_10', 'title_svd_4_10', 'title_svd_5_10', 'title_svd_6_10',\n",
       "       'title_svd_7_10', 'title_svd_8_10', 'title_svd_9_10', 'title_svd_10_10',\n",
       "       'term_svd_1_10', 'term_svd_2_10', 'term_svd_3_10', 'term_svd_4_10',\n",
       "       'term_svd_5_10', 'term_svd_6_10', 'term_svd_7_10', 'term_svd_8_10',\n",
       "       'term_svd_9_10', 'term_svd_10_10', 'grammy_relevance', 'artist_freq',\n",
       "       'country', 'country_foreign', 'country_unknown', 'country_us'],\n",
       "      dtype='object')"
      ]
     },
     "execution_count": 5,
     "metadata": {},
     "output_type": "execute_result"
    }
   ],
   "source": [
    "data.columns"
   ]
  },
  {
   "cell_type": "code",
   "execution_count": 47,
   "metadata": {},
   "outputs": [],
   "source": [
    "kept = list(set(data.columns)-set(cg.dropcol))#-set(cg.mbtag))"
   ]
  },
  {
   "cell_type": "code",
   "execution_count": 8,
   "metadata": {},
   "outputs": [
    {
     "data": {
      "text/plain": [
       "array(['Youtube_Hotness', 'artist.hotttnesss', 'artist_firstname',\n",
       "       'artist_freq', 'artist_lastname', 'bars_confidence', 'bars_start',\n",
       "       'beats_confidence', 'beats_start', 'country_foreign',\n",
       "       'country_unknown', 'country_us', 'decade', 'duration',\n",
       "       'end_of_fade_in', 'familiarity', 'grammy_relevance', 'key',\n",
       "       'key_confidence', 'loudness', 'mbtags_count', 'mode',\n",
       "       'mode_confidence', 'release.name_compound', 'release.name_neg',\n",
       "       'release.name_neu', 'release.name_pos', 'release_svd_10_10',\n",
       "       'release_svd_1_10', 'release_svd_2_10', 'release_svd_3_10',\n",
       "       'release_svd_4_10', 'release_svd_5_10', 'release_svd_6_10',\n",
       "       'release_svd_7_10', 'release_svd_8_10', 'release_svd_9_10',\n",
       "       'start_of_fade_out', 'tatums_confidence', 'tatums_start', 'tempo',\n",
       "       'term_id', 'term_svd_10_10', 'term_svd_1_10', 'term_svd_2_10',\n",
       "       'term_svd_3_10', 'term_svd_4_10', 'term_svd_5_10', 'term_svd_6_10',\n",
       "       'term_svd_7_10', 'term_svd_8_10', 'term_svd_9_10', 'terms_freq',\n",
       "       'time_signature', 'time_signature_confidence', 'title_compound',\n",
       "       'title_neg', 'title_neu', 'title_pos', 'title_svd_10_10',\n",
       "       'title_svd_1_10', 'title_svd_2_10', 'title_svd_3_10',\n",
       "       'title_svd_4_10', 'title_svd_5_10', 'title_svd_6_10',\n",
       "       'title_svd_7_10', 'title_svd_8_10', 'title_svd_9_10',\n",
       "       'y_fit_release', 'y_fit_term', 'y_fit_title'], dtype='<U25')"
      ]
     },
     "execution_count": 8,
     "metadata": {},
     "output_type": "execute_result"
    }
   ],
   "source": [
    "np.sort(kept)"
   ]
  },
  {
   "cell_type": "code",
   "execution_count": 32,
   "metadata": {},
   "outputs": [],
   "source": [
    "# real = []\n",
    "# possible_repeat = []\n",
    "# for i in kept:\n",
    "#     if i[-2:]=='.1':\n",
    "#         possible_repeat.append(i)\n",
    "#     else:\n",
    "#         real.append(i)\n",
    "\n",
    "# repeat = []\n",
    "# for i in possible_repeat:\n",
    "#     if i[:-2] in real:\n",
    "#         print(i)\n",
    "#         repeat.append(i)"
   ]
  },
  {
   "cell_type": "code",
   "execution_count": 33,
   "metadata": {},
   "outputs": [],
   "source": [
    "# drop1 = set(original.columns).intersection(set(cg.dropcol))"
   ]
  },
  {
   "cell_type": "code",
   "execution_count": 34,
   "metadata": {},
   "outputs": [],
   "source": [
    "# drop2 = set(original.columns).intersection(set(cg.mbtag))"
   ]
  },
  {
   "cell_type": "code",
   "execution_count": 35,
   "metadata": {},
   "outputs": [],
   "source": [
    "#mini_data = original.drop(columns = list(drop1)+list(drop2))"
   ]
  },
  {
   "cell_type": "code",
   "execution_count": 36,
   "metadata": {},
   "outputs": [],
   "source": [
    "#mini_data = original[kept]\n",
    "#mini_data = mini_data.dropna()"
   ]
  },
  {
   "cell_type": "code",
   "execution_count": 48,
   "metadata": {},
   "outputs": [],
   "source": [
    "mini_data = data[kept]"
   ]
  },
  {
   "cell_type": "code",
   "execution_count": 53,
   "metadata": {
    "scrolled": true
   },
   "outputs": [
    {
     "name": "stdout",
     "output_type": "stream",
     "text": [
      "<class 'pandas.core.frame.DataFrame'>\n",
      "Int64Index: 10000 entries, 0 to 9999\n",
      "Data columns (total 72 columns):\n",
      "term_svd_5_10                10000 non-null float64\n",
      "mode                         10000 non-null int64\n",
      "title_svd_6_10               10000 non-null float64\n",
      "tempo                        10000 non-null float64\n",
      "artist_freq                  10000 non-null int64\n",
      "release_svd_10_10            10000 non-null float64\n",
      "end_of_fade_in               10000 non-null float64\n",
      "release_svd_3_10             10000 non-null float64\n",
      "title_svd_4_10               10000 non-null float64\n",
      "Youtube_Hotness              10000 non-null float64\n",
      "release.name_neu             10000 non-null float64\n",
      "terms_freq                   10000 non-null float64\n",
      "title_svd_1_10               10000 non-null float64\n",
      "artist_firstname             10000 non-null int64\n",
      "release_svd_1_10             10000 non-null float64\n",
      "release_svd_9_10             10000 non-null float64\n",
      "term_svd_6_10                10000 non-null float64\n",
      "term_svd_7_10                10000 non-null float64\n",
      "term_svd_2_10                10000 non-null float64\n",
      "country_foreign              10000 non-null int64\n",
      "term_svd_4_10                10000 non-null float64\n",
      "y_fit_title                  10000 non-null float64\n",
      "release_svd_7_10             10000 non-null float64\n",
      "key                          10000 non-null float64\n",
      "term_id                      10000 non-null int64\n",
      "release_svd_5_10             10000 non-null float64\n",
      "title_neg                    9999 non-null float64\n",
      "mode_confidence              10000 non-null float64\n",
      "key_confidence               10000 non-null float64\n",
      "artist.hotttnesss            10000 non-null float64\n",
      "release_svd_6_10             10000 non-null float64\n",
      "tatums_start                 10000 non-null float64\n",
      "title_svd_10_10              10000 non-null float64\n",
      "title_svd_8_10               10000 non-null float64\n",
      "release.name_pos             10000 non-null float64\n",
      "beats_confidence             10000 non-null float64\n",
      "title_compound               9999 non-null float64\n",
      "term_svd_1_10                10000 non-null float64\n",
      "title_svd_3_10               10000 non-null float64\n",
      "release_svd_8_10             10000 non-null float64\n",
      "release_svd_4_10             10000 non-null float64\n",
      "loudness                     10000 non-null float64\n",
      "start_of_fade_out            10000 non-null float64\n",
      "bars_confidence              10000 non-null float64\n",
      "time_signature_confidence    10000 non-null float64\n",
      "artist_lastname              9998 non-null float64\n",
      "term_svd_10_10               10000 non-null float64\n",
      "title_neu                    9999 non-null float64\n",
      "duration                     10000 non-null float64\n",
      "term_svd_3_10                10000 non-null float64\n",
      "term_svd_9_10                10000 non-null float64\n",
      "title_pos                    9999 non-null float64\n",
      "familiarity                  9996 non-null float64\n",
      "bars_start                   10000 non-null float64\n",
      "decade                       10000 non-null int64\n",
      "country_us                   10000 non-null int64\n",
      "tatums_confidence            10000 non-null float64\n",
      "title_svd_2_10               10000 non-null float64\n",
      "title_svd_7_10               10000 non-null float64\n",
      "time_signature               10000 non-null float64\n",
      "release_svd_2_10             10000 non-null float64\n",
      "title_svd_5_10               10000 non-null float64\n",
      "release.name_neg             10000 non-null float64\n",
      "mbtags_count                 10000 non-null int64\n",
      "grammy_relevance             10000 non-null int64\n",
      "y_fit_term                   10000 non-null float64\n",
      "country_unknown              10000 non-null int64\n",
      "y_fit_release                10000 non-null float64\n",
      "beats_start                  10000 non-null float64\n",
      "release.name_compound        10000 non-null float64\n",
      "title_svd_9_10               10000 non-null float64\n",
      "term_svd_8_10                10000 non-null float64\n",
      "dtypes: float64(62), int64(10)\n",
      "memory usage: 5.6 MB\n"
     ]
    }
   ],
   "source": [
    "mini_data.info()"
   ]
  },
  {
   "cell_type": "code",
   "execution_count": 77,
   "metadata": {},
   "outputs": [
    {
     "data": {
      "text/html": [
       "<div>\n",
       "<style scoped>\n",
       "    .dataframe tbody tr th:only-of-type {\n",
       "        vertical-align: middle;\n",
       "    }\n",
       "\n",
       "    .dataframe tbody tr th {\n",
       "        vertical-align: top;\n",
       "    }\n",
       "\n",
       "    .dataframe thead th {\n",
       "        text-align: right;\n",
       "    }\n",
       "</style>\n",
       "<table border=\"1\" class=\"dataframe\">\n",
       "  <thead>\n",
       "    <tr style=\"text-align: right;\">\n",
       "      <th></th>\n",
       "      <th>term_svd_5_10</th>\n",
       "      <th>mode</th>\n",
       "      <th>title_svd_6_10</th>\n",
       "      <th>tempo</th>\n",
       "      <th>artist_freq</th>\n",
       "      <th>release_svd_10_10</th>\n",
       "      <th>end_of_fade_in</th>\n",
       "      <th>release_svd_3_10</th>\n",
       "      <th>title_svd_4_10</th>\n",
       "      <th>Youtube_Hotness</th>\n",
       "      <th>...</th>\n",
       "      <th>release.name_neg</th>\n",
       "      <th>mbtags_count</th>\n",
       "      <th>grammy_relevance</th>\n",
       "      <th>y_fit_term</th>\n",
       "      <th>country_unknown</th>\n",
       "      <th>y_fit_release</th>\n",
       "      <th>beats_start</th>\n",
       "      <th>release.name_compound</th>\n",
       "      <th>title_svd_9_10</th>\n",
       "      <th>term_svd_8_10</th>\n",
       "    </tr>\n",
       "  </thead>\n",
       "  <tbody>\n",
       "    <tr>\n",
       "      <th>count</th>\n",
       "      <td>9993.000000</td>\n",
       "      <td>9993.000000</td>\n",
       "      <td>9993.000000</td>\n",
       "      <td>9993.000000</td>\n",
       "      <td>9993.000000</td>\n",
       "      <td>9993.000000</td>\n",
       "      <td>9993.000000</td>\n",
       "      <td>9.993000e+03</td>\n",
       "      <td>9993.000000</td>\n",
       "      <td>9993.000000</td>\n",
       "      <td>...</td>\n",
       "      <td>9993.000000</td>\n",
       "      <td>9993.000000</td>\n",
       "      <td>9993.000000</td>\n",
       "      <td>9993.000000</td>\n",
       "      <td>9993.000000</td>\n",
       "      <td>9993.000000</td>\n",
       "      <td>9993.000000</td>\n",
       "      <td>9993.000000</td>\n",
       "      <td>9993.000000</td>\n",
       "      <td>9993.000000</td>\n",
       "    </tr>\n",
       "    <tr>\n",
       "      <th>mean</th>\n",
       "      <td>0.025509</td>\n",
       "      <td>0.690984</td>\n",
       "      <td>0.004989</td>\n",
       "      <td>122.895313</td>\n",
       "      <td>1043.695487</td>\n",
       "      <td>0.000553</td>\n",
       "      <td>0.756578</td>\n",
       "      <td>-8.175282e-03</td>\n",
       "      <td>0.002139</td>\n",
       "      <td>7.222088</td>\n",
       "      <td>...</td>\n",
       "      <td>0.048101</td>\n",
       "      <td>0.459121</td>\n",
       "      <td>0.896728</td>\n",
       "      <td>4.785039</td>\n",
       "      <td>0.429100</td>\n",
       "      <td>4.934333</td>\n",
       "      <td>0.428492</td>\n",
       "      <td>0.051410</td>\n",
       "      <td>-0.000029</td>\n",
       "      <td>0.026066</td>\n",
       "    </tr>\n",
       "    <tr>\n",
       "      <th>std</th>\n",
       "      <td>0.157701</td>\n",
       "      <td>0.462111</td>\n",
       "      <td>0.065868</td>\n",
       "      <td>35.208528</td>\n",
       "      <td>3540.652519</td>\n",
       "      <td>0.053293</td>\n",
       "      <td>1.859053</td>\n",
       "      <td>7.348019e-02</td>\n",
       "      <td>0.073108</td>\n",
       "      <td>5.133050</td>\n",
       "      <td>...</td>\n",
       "      <td>0.167584</td>\n",
       "      <td>0.651225</td>\n",
       "      <td>2.423766</td>\n",
       "      <td>3.914882</td>\n",
       "      <td>0.494972</td>\n",
       "      <td>8.780879</td>\n",
       "      <td>0.806474</td>\n",
       "      <td>0.243094</td>\n",
       "      <td>0.059132</td>\n",
       "      <td>0.138072</td>\n",
       "    </tr>\n",
       "    <tr>\n",
       "      <th>min</th>\n",
       "      <td>-0.000672</td>\n",
       "      <td>0.000000</td>\n",
       "      <td>-0.435551</td>\n",
       "      <td>0.000000</td>\n",
       "      <td>0.000000</td>\n",
       "      <td>-0.455925</td>\n",
       "      <td>0.000000</td>\n",
       "      <td>-6.153061e-01</td>\n",
       "      <td>-0.549388</td>\n",
       "      <td>-1.000000</td>\n",
       "      <td>...</td>\n",
       "      <td>0.000000</td>\n",
       "      <td>0.000000</td>\n",
       "      <td>0.000000</td>\n",
       "      <td>-13.815536</td>\n",
       "      <td>0.000000</td>\n",
       "      <td>-64.359938</td>\n",
       "      <td>-60.000000</td>\n",
       "      <td>-0.827100</td>\n",
       "      <td>-0.273988</td>\n",
       "      <td>-0.009768</td>\n",
       "    </tr>\n",
       "    <tr>\n",
       "      <th>25%</th>\n",
       "      <td>-0.000077</td>\n",
       "      <td>0.000000</td>\n",
       "      <td>-0.003696</td>\n",
       "      <td>96.952000</td>\n",
       "      <td>2.000000</td>\n",
       "      <td>-0.002842</td>\n",
       "      <td>0.000000</td>\n",
       "      <td>-1.510337e-02</td>\n",
       "      <td>-0.004200</td>\n",
       "      <td>3.761200</td>\n",
       "      <td>...</td>\n",
       "      <td>0.000000</td>\n",
       "      <td>0.000000</td>\n",
       "      <td>0.000000</td>\n",
       "      <td>3.259883</td>\n",
       "      <td>0.000000</td>\n",
       "      <td>2.426894</td>\n",
       "      <td>0.194640</td>\n",
       "      <td>0.000000</td>\n",
       "      <td>-0.004500</td>\n",
       "      <td>-0.002012</td>\n",
       "    </tr>\n",
       "    <tr>\n",
       "      <th>50%</th>\n",
       "      <td>-0.000002</td>\n",
       "      <td>1.000000</td>\n",
       "      <td>0.000000</td>\n",
       "      <td>120.153000</td>\n",
       "      <td>40.000000</td>\n",
       "      <td>0.000001</td>\n",
       "      <td>0.199000</td>\n",
       "      <td>-1.172592e-03</td>\n",
       "      <td>0.000000</td>\n",
       "      <td>8.117611</td>\n",
       "      <td>...</td>\n",
       "      <td>0.000000</td>\n",
       "      <td>0.000000</td>\n",
       "      <td>0.000000</td>\n",
       "      <td>5.569989</td>\n",
       "      <td>0.000000</td>\n",
       "      <td>6.922869</td>\n",
       "      <td>0.332560</td>\n",
       "      <td>0.000000</td>\n",
       "      <td>0.000000</td>\n",
       "      <td>-0.000015</td>\n",
       "    </tr>\n",
       "    <tr>\n",
       "      <th>75%</th>\n",
       "      <td>0.000053</td>\n",
       "      <td>1.000000</td>\n",
       "      <td>0.004307</td>\n",
       "      <td>144.005000</td>\n",
       "      <td>348.000000</td>\n",
       "      <td>0.004976</td>\n",
       "      <td>0.421000</td>\n",
       "      <td>4.003894e-09</td>\n",
       "      <td>0.003125</td>\n",
       "      <td>10.999246</td>\n",
       "      <td>...</td>\n",
       "      <td>0.000000</td>\n",
       "      <td>1.000000</td>\n",
       "      <td>0.000000</td>\n",
       "      <td>6.967305</td>\n",
       "      <td>1.000000</td>\n",
       "      <td>10.374039</td>\n",
       "      <td>0.500670</td>\n",
       "      <td>0.000000</td>\n",
       "      <td>0.006556</td>\n",
       "      <td>0.000493</td>\n",
       "    </tr>\n",
       "    <tr>\n",
       "      <th>max</th>\n",
       "      <td>0.999998</td>\n",
       "      <td>1.000000</td>\n",
       "      <td>0.543139</td>\n",
       "      <td>262.828000</td>\n",
       "      <td>36110.000000</td>\n",
       "      <td>0.573733</td>\n",
       "      <td>43.119000</td>\n",
       "      <td>6.490765e-01</td>\n",
       "      <td>0.723734</td>\n",
       "      <td>20.285925</td>\n",
       "      <td>...</td>\n",
       "      <td>1.000000</td>\n",
       "      <td>3.000000</td>\n",
       "      <td>50.000000</td>\n",
       "      <td>13.889231</td>\n",
       "      <td>1.000000</td>\n",
       "      <td>53.233179</td>\n",
       "      <td>12.245830</td>\n",
       "      <td>0.958400</td>\n",
       "      <td>0.492881</td>\n",
       "      <td>0.950160</td>\n",
       "    </tr>\n",
       "  </tbody>\n",
       "</table>\n",
       "<p>8 rows × 72 columns</p>\n",
       "</div>"
      ],
      "text/plain": [
       "       term_svd_5_10         mode  title_svd_6_10        tempo   artist_freq  \\\n",
       "count    9993.000000  9993.000000     9993.000000  9993.000000   9993.000000   \n",
       "mean        0.025509     0.690984        0.004989   122.895313   1043.695487   \n",
       "std         0.157701     0.462111        0.065868    35.208528   3540.652519   \n",
       "min        -0.000672     0.000000       -0.435551     0.000000      0.000000   \n",
       "25%        -0.000077     0.000000       -0.003696    96.952000      2.000000   \n",
       "50%        -0.000002     1.000000        0.000000   120.153000     40.000000   \n",
       "75%         0.000053     1.000000        0.004307   144.005000    348.000000   \n",
       "max         0.999998     1.000000        0.543139   262.828000  36110.000000   \n",
       "\n",
       "       release_svd_10_10  end_of_fade_in  release_svd_3_10  title_svd_4_10  \\\n",
       "count        9993.000000     9993.000000      9.993000e+03     9993.000000   \n",
       "mean            0.000553        0.756578     -8.175282e-03        0.002139   \n",
       "std             0.053293        1.859053      7.348019e-02        0.073108   \n",
       "min            -0.455925        0.000000     -6.153061e-01       -0.549388   \n",
       "25%            -0.002842        0.000000     -1.510337e-02       -0.004200   \n",
       "50%             0.000001        0.199000     -1.172592e-03        0.000000   \n",
       "75%             0.004976        0.421000      4.003894e-09        0.003125   \n",
       "max             0.573733       43.119000      6.490765e-01        0.723734   \n",
       "\n",
       "       Youtube_Hotness      ...        release.name_neg  mbtags_count  \\\n",
       "count      9993.000000      ...             9993.000000   9993.000000   \n",
       "mean          7.222088      ...                0.048101      0.459121   \n",
       "std           5.133050      ...                0.167584      0.651225   \n",
       "min          -1.000000      ...                0.000000      0.000000   \n",
       "25%           3.761200      ...                0.000000      0.000000   \n",
       "50%           8.117611      ...                0.000000      0.000000   \n",
       "75%          10.999246      ...                0.000000      1.000000   \n",
       "max          20.285925      ...                1.000000      3.000000   \n",
       "\n",
       "       grammy_relevance   y_fit_term  country_unknown  y_fit_release  \\\n",
       "count       9993.000000  9993.000000      9993.000000    9993.000000   \n",
       "mean           0.896728     4.785039         0.429100       4.934333   \n",
       "std            2.423766     3.914882         0.494972       8.780879   \n",
       "min            0.000000   -13.815536         0.000000     -64.359938   \n",
       "25%            0.000000     3.259883         0.000000       2.426894   \n",
       "50%            0.000000     5.569989         0.000000       6.922869   \n",
       "75%            0.000000     6.967305         1.000000      10.374039   \n",
       "max           50.000000    13.889231         1.000000      53.233179   \n",
       "\n",
       "       beats_start  release.name_compound  title_svd_9_10  term_svd_8_10  \n",
       "count  9993.000000            9993.000000     9993.000000    9993.000000  \n",
       "mean      0.428492               0.051410       -0.000029       0.026066  \n",
       "std       0.806474               0.243094        0.059132       0.138072  \n",
       "min     -60.000000              -0.827100       -0.273988      -0.009768  \n",
       "25%       0.194640               0.000000       -0.004500      -0.002012  \n",
       "50%       0.332560               0.000000        0.000000      -0.000015  \n",
       "75%       0.500670               0.000000        0.006556       0.000493  \n",
       "max      12.245830               0.958400        0.492881       0.950160  \n",
       "\n",
       "[8 rows x 72 columns]"
      ]
     },
     "execution_count": 77,
     "metadata": {},
     "output_type": "execute_result"
    }
   ],
   "source": [
    "mini_data.describe()"
   ]
  },
  {
   "cell_type": "code",
   "execution_count": 54,
   "metadata": {},
   "outputs": [],
   "source": [
    "mini_data = mini_data.dropna()\n",
    "X = mini_data.drop(columns=['Youtube_Hotness'])\n",
    "y = mini_data['Youtube_Hotness']"
   ]
  },
  {
   "cell_type": "code",
   "execution_count": 55,
   "metadata": {},
   "outputs": [],
   "source": [
    "year = pd.get_dummies(X['decade'])\n",
    "year.columns=['year_'+str(i) for i in year.columns]"
   ]
  },
  {
   "cell_type": "code",
   "execution_count": 170,
   "metadata": {},
   "outputs": [
    {
     "data": {
      "text/plain": [
       "(9993, 11)"
      ]
     },
     "execution_count": 170,
     "metadata": {},
     "output_type": "execute_result"
    }
   ],
   "source": [
    "year.shape"
   ]
  },
  {
   "cell_type": "code",
   "execution_count": 56,
   "metadata": {},
   "outputs": [],
   "source": [
    "X = pd.concat([X,year.drop('year_0',axis=1)],axis = 1)\n",
    "X = X.drop(columns = ['decade'])"
   ]
  },
  {
   "cell_type": "code",
   "execution_count": 97,
   "metadata": {},
   "outputs": [],
   "source": [
    "X1=X.drop(columns=['y_fit_term','y_fit_title','y_fit_release'])"
   ]
  },
  {
   "cell_type": "code",
   "execution_count": 98,
   "metadata": {},
   "outputs": [
    {
     "data": {
      "text/plain": [
       "(9993, 77)"
      ]
     },
     "execution_count": 98,
     "metadata": {},
     "output_type": "execute_result"
    }
   ],
   "source": [
    "X1.shape"
   ]
  },
  {
   "cell_type": "code",
   "execution_count": 57,
   "metadata": {},
   "outputs": [
    {
     "data": {
      "text/plain": [
       "(9993, 80)"
      ]
     },
     "execution_count": 57,
     "metadata": {},
     "output_type": "execute_result"
    }
   ],
   "source": [
    "X.shape"
   ]
  },
  {
   "cell_type": "code",
   "execution_count": 171,
   "metadata": {},
   "outputs": [
    {
     "data": {
      "text/plain": [
       "Index(['term_svd_5_10', 'mode', 'title_svd_6_10', 'tempo', 'artist_freq',\n",
       "       'release_svd_10_10', 'end_of_fade_in', 'release_svd_3_10',\n",
       "       'title_svd_4_10', 'release.name_neu', 'terms_freq', 'title_svd_1_10',\n",
       "       'artist_firstname', 'release_svd_1_10', 'release_svd_9_10',\n",
       "       'term_svd_6_10', 'term_svd_7_10', 'term_svd_2_10', 'country_foreign',\n",
       "       'term_svd_4_10', 'y_fit_title', 'release_svd_7_10', 'key', 'term_id',\n",
       "       'release_svd_5_10', 'title_neg', 'mode_confidence', 'key_confidence',\n",
       "       'artist.hotttnesss', 'release_svd_6_10', 'tatums_start',\n",
       "       'title_svd_10_10', 'title_svd_8_10', 'release.name_pos',\n",
       "       'beats_confidence', 'title_compound', 'term_svd_1_10', 'title_svd_3_10',\n",
       "       'release_svd_8_10', 'release_svd_4_10', 'loudness', 'start_of_fade_out',\n",
       "       'bars_confidence', 'time_signature_confidence', 'artist_lastname',\n",
       "       'term_svd_10_10', 'title_neu', 'duration', 'term_svd_3_10',\n",
       "       'term_svd_9_10', 'title_pos', 'familiarity', 'bars_start', 'country_us',\n",
       "       'tatums_confidence', 'title_svd_2_10', 'title_svd_7_10',\n",
       "       'time_signature', 'release_svd_2_10', 'title_svd_5_10',\n",
       "       'release.name_neg', 'mbtags_count', 'grammy_relevance', 'y_fit_term',\n",
       "       'country_unknown', 'y_fit_release', 'beats_start',\n",
       "       'release.name_compound', 'title_svd_9_10', 'term_svd_8_10', 'year_1920',\n",
       "       'year_1930', 'year_1940', 'year_1950', 'year_1960', 'year_1970',\n",
       "       'year_1980', 'year_1990', 'year_2000', 'year_2010'],\n",
       "      dtype='object')"
      ]
     },
     "execution_count": 171,
     "metadata": {},
     "output_type": "execute_result"
    }
   ],
   "source": [
    "X.columns"
   ]
  },
  {
   "cell_type": "code",
   "execution_count": 58,
   "metadata": {},
   "outputs": [],
   "source": [
    "# terms = pd.get_dummies(X['term_id'])"
   ]
  },
  {
   "cell_type": "code",
   "execution_count": 59,
   "metadata": {},
   "outputs": [],
   "source": [
    "# colname=[]\n",
    "# for i in terms.columns:\n",
    "#     colname.append('term'+str(i))"
   ]
  },
  {
   "cell_type": "code",
   "execution_count": 60,
   "metadata": {},
   "outputs": [],
   "source": [
    "# terms.columns = colname\n",
    "# X = pd.concat([X,terms],axis = 1)\n",
    "# X = X.drop(columns = ['term_id'])"
   ]
  },
  {
   "cell_type": "code",
   "execution_count": 61,
   "metadata": {},
   "outputs": [],
   "source": [
    "# country = pd.get_dummies(X['country'])\n",
    "# colname = []\n",
    "# for i in country.columns:\n",
    "#     colname.append('country'+str(i))\n",
    "# country.columns = colname\n",
    "# X = pd.concat([X,country],axis = 1)\n",
    "# X = X.drop(columns = ['country'])"
   ]
  },
  {
   "cell_type": "markdown",
   "metadata": {},
   "source": [
    "### Feature Extraction"
   ]
  },
  {
   "cell_type": "code",
   "execution_count": 109,
   "metadata": {},
   "outputs": [],
   "source": [
    "def minmax_scalar(X,y):\n",
    "    X_train,X_test,y_train,y_test = train_test_split(X,y,test_size=0.3,random_state = 2019)\n",
    "    scaler = MinMaxScaler()\n",
    "    scaler.partial_fit(X_train)\n",
    "    X_train = pd.DataFrame(scaler.transform(X_train),columns =X_train.columns)\n",
    "    X_test = pd.DataFrame(scaler.transform(X_test),columns =X_test.columns)\n",
    "    return X_train,X_test,y_train,y_test"
   ]
  },
  {
   "cell_type": "code",
   "execution_count": 110,
   "metadata": {},
   "outputs": [
    {
     "name": "stderr",
     "output_type": "stream",
     "text": [
      "C:\\ProgramData\\Anaconda3\\lib\\site-packages\\ipykernel_launcher.py:4: DataConversionWarning: Data with input dtype uint8, int64, float64 were all converted to float64 by MinMaxScaler.\n",
      "  after removing the cwd from sys.path.\n",
      "C:\\ProgramData\\Anaconda3\\lib\\site-packages\\ipykernel_launcher.py:4: DataConversionWarning: Data with input dtype uint8, int64, float64 were all converted to float64 by MinMaxScaler.\n",
      "  after removing the cwd from sys.path.\n"
     ]
    }
   ],
   "source": [
    "X_train1,X_test1,y_train1,y_test1 = minmax_scalar(X1,y)\n",
    "X_train,X_test,y_train,y_test = minmax_scalar(X,y)"
   ]
  },
  {
   "cell_type": "code",
   "execution_count": 128,
   "metadata": {},
   "outputs": [],
   "source": [
    "from sklearn.metrics import mean_squared_error, r2_score\n",
    "from IPython.display import display, Math,Latex"
   ]
  },
  {
   "cell_type": "code",
   "execution_count": 180,
   "metadata": {},
   "outputs": [],
   "source": [
    "def matric(clf,X_train,X_test,y_train,y_test,title='ridge'):\n",
    "    y_pred_train=clf.predict(X_train)\n",
    "    y_pred_test = clf.predict(X_test)\n",
    "    mse=mean_squared_error(y_train,y_pred_train)\n",
    "    mse_test=mean_squared_error(y_test,y_pred_test)\n",
    "    r2=r2_score(y_train,y_pred_train)\n",
    "    r2_test=r2_score(y_test,y_pred_test)\n",
    "    display(Latex('--'*5+title+'--'*5))\n",
    "    display(Latex(r'    Training MSE: {:.2f}'.format(mse)))\n",
    "    display(Latex(r'    Training $R^2$: {:.2%}'.format(r2)))\n",
    "    display(Latex(r'    Test MSE of: {:.2f}'.format(mse_test)))\n",
    "    display(Latex(r'    Test $R^2$: {:.2%}'.format(r2_test)))\n",
    "    return mse,r2,mse_test,r2_test"
   ]
  },
  {
   "cell_type": "markdown",
   "metadata": {},
   "source": [
    "linear regression"
   ]
  },
  {
   "cell_type": "code",
   "execution_count": 181,
   "metadata": {},
   "outputs": [
    {
     "data": {
      "text/plain": [
       "LinearRegression(copy_X=True, fit_intercept=True, n_jobs=None,\n",
       "         normalize=False)"
      ]
     },
     "execution_count": 181,
     "metadata": {},
     "output_type": "execute_result"
    }
   ],
   "source": [
    "\n",
    "from sklearn.linear_model import LinearRegression\n",
    "linearModel = LinearRegression()\n",
    "linearModel.fit(X_train, y_train)"
   ]
  },
  {
   "cell_type": "code",
   "execution_count": 182,
   "metadata": {},
   "outputs": [
    {
     "data": {
      "text/latex": [
       "----------Linear Regression | with y_fit----------"
      ],
      "text/plain": [
       "<IPython.core.display.Latex object>"
      ]
     },
     "metadata": {},
     "output_type": "display_data"
    },
    {
     "data": {
      "text/latex": [
       "    Training MSE: 9.26"
      ],
      "text/plain": [
       "<IPython.core.display.Latex object>"
      ]
     },
     "metadata": {},
     "output_type": "display_data"
    },
    {
     "data": {
      "text/latex": [
       "    Training $R^2$: 64.80%"
      ],
      "text/plain": [
       "<IPython.core.display.Latex object>"
      ]
     },
     "metadata": {},
     "output_type": "display_data"
    },
    {
     "data": {
      "text/latex": [
       "    Test MSE of: 12.75"
      ],
      "text/plain": [
       "<IPython.core.display.Latex object>"
      ]
     },
     "metadata": {},
     "output_type": "display_data"
    },
    {
     "data": {
      "text/latex": [
       "    Test $R^2$: 51.75%"
      ],
      "text/plain": [
       "<IPython.core.display.Latex object>"
      ]
     },
     "metadata": {},
     "output_type": "display_data"
    }
   ],
   "source": [
    "_=matric(linearModel,X_train,X_test,y_train,y_test,title=r'Linear Regression | with y_fit')"
   ]
  },
  {
   "cell_type": "code",
   "execution_count": 183,
   "metadata": {},
   "outputs": [
    {
     "data": {
      "text/latex": [
       "----------Linear Regression | without y_fit----------"
      ],
      "text/plain": [
       "<IPython.core.display.Latex object>"
      ]
     },
     "metadata": {},
     "output_type": "display_data"
    },
    {
     "data": {
      "text/latex": [
       "    Training MSE: 18.17"
      ],
      "text/plain": [
       "<IPython.core.display.Latex object>"
      ]
     },
     "metadata": {},
     "output_type": "display_data"
    },
    {
     "data": {
      "text/latex": [
       "    Training $R^2$: 30.93%"
      ],
      "text/plain": [
       "<IPython.core.display.Latex object>"
      ]
     },
     "metadata": {},
     "output_type": "display_data"
    },
    {
     "data": {
      "text/latex": [
       "    Test MSE of: 19.50"
      ],
      "text/plain": [
       "<IPython.core.display.Latex object>"
      ]
     },
     "metadata": {},
     "output_type": "display_data"
    },
    {
     "data": {
      "text/latex": [
       "    Test $R^2$: 26.21%"
      ],
      "text/plain": [
       "<IPython.core.display.Latex object>"
      ]
     },
     "metadata": {},
     "output_type": "display_data"
    }
   ],
   "source": [
    "linearModel1 = LinearRegression()\n",
    "linearModel1.fit(X_train1, y_train)\n",
    "_=matric(linearModel1,X_train1,X_test1,y_train,y_test,title=r'Linear Regression | without y_fit')"
   ]
  },
  {
   "cell_type": "markdown",
   "metadata": {},
   "source": [
    "ridge regression"
   ]
  },
  {
   "cell_type": "code",
   "execution_count": 187,
   "metadata": {},
   "outputs": [
    {
     "data": {
      "text/latex": [
       "----------ridge $\\alpha=0.01$ | with y_fit----------"
      ],
      "text/plain": [
       "<IPython.core.display.Latex object>"
      ]
     },
     "metadata": {},
     "output_type": "display_data"
    },
    {
     "data": {
      "text/latex": [
       "    Training MSE: 9.44"
      ],
      "text/plain": [
       "<IPython.core.display.Latex object>"
      ]
     },
     "metadata": {},
     "output_type": "display_data"
    },
    {
     "data": {
      "text/latex": [
       "    Training $R^2$: 64.11%"
      ],
      "text/plain": [
       "<IPython.core.display.Latex object>"
      ]
     },
     "metadata": {},
     "output_type": "display_data"
    },
    {
     "data": {
      "text/latex": [
       "    Test MSE of: 12.84"
      ],
      "text/plain": [
       "<IPython.core.display.Latex object>"
      ]
     },
     "metadata": {},
     "output_type": "display_data"
    },
    {
     "data": {
      "text/latex": [
       "    Test $R^2$: 51.42%"
      ],
      "text/plain": [
       "<IPython.core.display.Latex object>"
      ]
     },
     "metadata": {},
     "output_type": "display_data"
    }
   ],
   "source": [
    "clf = Lasso(alpha=0.01)#best_lasso.best_params_['alpha'])\n",
    "clf.fit(X_train,y_train)\n",
    "_=matric(clf,X_train,X_test,y_train,y_test,title=r'ridge $\\alpha=0.01$ | with y_fit')"
   ]
  },
  {
   "cell_type": "code",
   "execution_count": 192,
   "metadata": {},
   "outputs": [
    {
     "data": {
      "text/plain": [
       "Index(['term_svd_5_10', 'mode', 'tempo', 'artist_freq', 'release.name_neu',\n",
       "       'title_svd_1_10', 'release_svd_1_10', 'term_svd_6_10', 'term_svd_2_10',\n",
       "       'term_id', 'artist.hotttnesss', 'beats_confidence', 'term_svd_1_10',\n",
       "       'release_svd_4_10', 'loudness', 'start_of_fade_out',\n",
       "       'time_signature_confidence', 'term_svd_10_10', 'title_neu',\n",
       "       'term_svd_9_10', 'familiarity', 'country_us', 'title_svd_2_10',\n",
       "       'time_signature', 'country_unknown', 'release.name_compound',\n",
       "       'year_1960', 'year_1970', 'year_1980', 'year_1990', 'year_2000'],\n",
       "      dtype='object')"
      ]
     },
     "execution_count": 192,
     "metadata": {},
     "output_type": "execute_result"
    }
   ],
   "source": [
    "X1.columns[abs(clf1.coef_)>0]"
   ]
  },
  {
   "cell_type": "code",
   "execution_count": 193,
   "metadata": {},
   "outputs": [
    {
     "data": {
      "text/latex": [
       "----------ridge $\\alpha=0.01$ | without y_fit----------"
      ],
      "text/plain": [
       "<IPython.core.display.Latex object>"
      ]
     },
     "metadata": {},
     "output_type": "display_data"
    },
    {
     "data": {
      "text/latex": [
       "    Training MSE: 18.46"
      ],
      "text/plain": [
       "<IPython.core.display.Latex object>"
      ]
     },
     "metadata": {},
     "output_type": "display_data"
    },
    {
     "data": {
      "text/latex": [
       "    Training $R^2$: 29.83%"
      ],
      "text/plain": [
       "<IPython.core.display.Latex object>"
      ]
     },
     "metadata": {},
     "output_type": "display_data"
    },
    {
     "data": {
      "text/latex": [
       "    Test MSE of: 19.56"
      ],
      "text/plain": [
       "<IPython.core.display.Latex object>"
      ]
     },
     "metadata": {},
     "output_type": "display_data"
    },
    {
     "data": {
      "text/latex": [
       "    Test $R^2$: 25.97%"
      ],
      "text/plain": [
       "<IPython.core.display.Latex object>"
      ]
     },
     "metadata": {},
     "output_type": "display_data"
    }
   ],
   "source": [
    "clf1 = Lasso(alpha=0.01)#best_lasso.best_params_['alpha'])\n",
    "clf1.fit(X_train1,y_train1)\n",
    "_=matric(clf1,X_train1,X_test1,y_train1,y_test1,title=r'ridge $\\alpha=0.01$ | without y_fit')"
   ]
  },
  {
   "cell_type": "code",
   "execution_count": 82,
   "metadata": {},
   "outputs": [],
   "source": [
    "from sklearn.model_selection import GridSearchCV"
   ]
  },
  {
   "cell_type": "code",
   "execution_count": 111,
   "metadata": {},
   "outputs": [],
   "source": [
    "# params = {'alpha':np.linspace(0.5,10,50)}\n",
    "\n",
    "# best_lasso = GridSearchCV(lasso,params,cv=3)"
   ]
  },
  {
   "cell_type": "code",
   "execution_count": 161,
   "metadata": {},
   "outputs": [],
   "source": [
    "# best_lasso.fit(X_train1,y_train1)"
   ]
  },
  {
   "cell_type": "code",
   "execution_count": 113,
   "metadata": {},
   "outputs": [
    {
     "data": {
      "text/plain": [
       "{'alpha': 0.5}"
      ]
     },
     "execution_count": 113,
     "metadata": {},
     "output_type": "execute_result"
    }
   ],
   "source": [
    "# best_lasso.best_params_"
   ]
  },
  {
   "cell_type": "code",
   "execution_count": 93,
   "metadata": {},
   "outputs": [
    {
     "data": {
      "text/plain": [
       "Lasso(alpha=0.01, copy_X=True, fit_intercept=True, max_iter=1000,\n",
       "   normalize=False, positive=False, precompute=False, random_state=None,\n",
       "   selection='cyclic', tol=0.0001, warm_start=False)"
      ]
     },
     "execution_count": 93,
     "metadata": {},
     "output_type": "execute_result"
    }
   ],
   "source": [
    "# clf = Lasso(alpha=0.01)#best_lasso.best_params_['alpha'])\n",
    "# clf.fit(X_train,y_train)"
   ]
  },
  {
   "cell_type": "code",
   "execution_count": 94,
   "metadata": {},
   "outputs": [
    {
     "data": {
      "text/plain": [
       "Index(['term_svd_5_10', 'mode', 'tempo', 'artist_freq', 'release.name_neu',\n",
       "       'title_svd_1_10', 'country_foreign', 'y_fit_title', 'artist.hotttnesss',\n",
       "       'beats_confidence', 'loudness', 'time_signature_confidence',\n",
       "       'title_neu', 'familiarity', 'time_signature', 'mbtags_count',\n",
       "       'y_fit_term', 'country_unknown', 'y_fit_release', 'year_1960',\n",
       "       'year_1970', 'year_1980', 'year_1990', 'year_2000'],\n",
       "      dtype='object')"
      ]
     },
     "execution_count": 94,
     "metadata": {},
     "output_type": "execute_result"
    }
   ],
   "source": [
    "X.columns[abs(clf.coef_)>0]"
   ]
  },
  {
   "cell_type": "code",
   "execution_count": 227,
   "metadata": {},
   "outputs": [],
   "source": [
    "import seaborn as sns"
   ]
  },
  {
   "cell_type": "code",
   "execution_count": 228,
   "metadata": {},
   "outputs": [
    {
     "data": {
      "text/plain": [
       "<matplotlib.axes._subplots.AxesSubplot at 0x1d463e6d438>"
      ]
     },
     "execution_count": 228,
     "metadata": {},
     "output_type": "execute_result"
    },
    {
     "data": {
      "image/png": "[encoded data removed]",
      "text/plain": [
       "<Figure size 864x648 with 2 Axes>"
      ]
     },
     "metadata": {
      "needs_background": "light"
     },
     "output_type": "display_data"
    }
   ],
   "source": [
    "corrmat = X_train1.iloc[:,abs(clf1.coef_)>0].corr()\n",
    "plt.subplots(figsize=(12,9))\n",
    "sns.heatmap(corrmat, vmax=0.9, square=True)"
   ]
  },
  {
   "cell_type": "code",
   "execution_count": null,
   "metadata": {},
   "outputs": [],
   "source": [
    "clf"
   ]
  },
  {
   "cell_type": "code",
   "execution_count": 65,
   "metadata": {},
   "outputs": [],
   "source": []
  },
  {
   "cell_type": "code",
   "execution_count": 66,
   "metadata": {},
   "outputs": [
    {
     "data": {
      "text/plain": [
       "24.761266700547793"
      ]
     },
     "execution_count": 66,
     "metadata": {},
     "output_type": "execute_result"
    }
   ],
   "source": [
    "mean_squared_error(clf.predict(X_train),y_train)"
   ]
  },
  {
   "cell_type": "code",
   "execution_count": 57,
   "metadata": {},
   "outputs": [
    {
     "data": {
      "text/plain": [
       "24.170898802890665"
      ]
     },
     "execution_count": 57,
     "metadata": {},
     "output_type": "execute_result"
    }
   ],
   "source": [
    "mean_squared_error(clf.predict(X_test),y_test)"
   ]
  },
  {
   "cell_type": "code",
   "execution_count": 67,
   "metadata": {},
   "outputs": [
    {
     "data": {
      "text/plain": [
       "-50.47547377832672"
      ]
     },
     "execution_count": 67,
     "metadata": {},
     "output_type": "execute_result"
    }
   ],
   "source": [
    "r2_score(clf.predict(X_train),y_train)"
   ]
  },
  {
   "cell_type": "code",
   "execution_count": 194,
   "metadata": {},
   "outputs": [],
   "source": [
    "from sklearn.ensemble import RandomForestRegressor"
   ]
  },
  {
   "cell_type": "code",
   "execution_count": null,
   "metadata": {},
   "outputs": [],
   "source": []
  },
  {
   "cell_type": "code",
   "execution_count": 195,
   "metadata": {},
   "outputs": [],
   "source": [
    "params = {'max_depth':[3,5,10,15,20],\n",
    "         'n_estimators':[10,50,100]}\n",
    "forest = RandomForestRegressor(random_state=0)\n",
    "best_forest = GridSearchCV(forest,params,cv=3)"
   ]
  },
  {
   "cell_type": "markdown",
   "metadata": {},
   "source": [
    "[3,5,8]\n",
    "[10,30,50]"
   ]
  },
  {
   "cell_type": "code",
   "execution_count": 196,
   "metadata": {},
   "outputs": [
    {
     "data": {
      "text/plain": [
       "GridSearchCV(cv=3, error_score='raise-deprecating',\n",
       "       estimator=RandomForestRegressor(bootstrap=True, criterion='mse', max_depth=None,\n",
       "           max_features='auto', max_leaf_nodes=None,\n",
       "           min_impurity_decrease=0.0, min_impurity_split=None,\n",
       "           min_samples_leaf=1, min_samples_split=2,\n",
       "           min_weight_fraction_leaf=0.0, n_estimators='warn', n_jobs=None,\n",
       "           oob_score=False, random_state=0, verbose=0, warm_start=False),\n",
       "       fit_params=None, iid='warn', n_jobs=None,\n",
       "       param_grid={'max_depth': [3, 5, 10, 15, 20], 'n_estimators': [10, 50, 100]},\n",
       "       pre_dispatch='2*n_jobs', refit=True, return_train_score='warn',\n",
       "       scoring=None, verbose=0)"
      ]
     },
     "execution_count": 196,
     "metadata": {},
     "output_type": "execute_result"
    }
   ],
   "source": [
    "best_forest.fit(X_train1,y_train1)"
   ]
  },
  {
   "cell_type": "code",
   "execution_count": 199,
   "metadata": {},
   "outputs": [
    {
     "data": {
      "text/plain": [
       "{'max_depth': 20, 'n_estimators': 100}"
      ]
     },
     "execution_count": 199,
     "metadata": {},
     "output_type": "execute_result"
    }
   ],
   "source": [
    "best_forest.best_params_"
   ]
  },
  {
   "cell_type": "code",
   "execution_count": null,
   "metadata": {},
   "outputs": [],
   "source": []
  },
  {
   "cell_type": "code",
   "execution_count": 201,
   "metadata": {},
   "outputs": [
    {
     "data": {
      "text/latex": [
       "----------Random Forest  | without y_fit----------"
      ],
      "text/plain": [
       "<IPython.core.display.Latex object>"
      ]
     },
     "metadata": {},
     "output_type": "display_data"
    },
    {
     "data": {
      "text/latex": [
       "    Training MSE: 2.62"
      ],
      "text/plain": [
       "<IPython.core.display.Latex object>"
      ]
     },
     "metadata": {},
     "output_type": "display_data"
    },
    {
     "data": {
      "text/latex": [
       "    Training $R^2$: 90.04%"
      ],
      "text/plain": [
       "<IPython.core.display.Latex object>"
      ]
     },
     "metadata": {},
     "output_type": "display_data"
    },
    {
     "data": {
      "text/latex": [
       "    Test MSE of: 17.74"
      ],
      "text/plain": [
       "<IPython.core.display.Latex object>"
      ]
     },
     "metadata": {},
     "output_type": "display_data"
    },
    {
     "data": {
      "text/latex": [
       "    Test $R^2$: 32.89%"
      ],
      "text/plain": [
       "<IPython.core.display.Latex object>"
      ]
     },
     "metadata": {},
     "output_type": "display_data"
    }
   ],
   "source": [
    "# clf_RF = RandomForestRegressor(best_forest.best_params_)\n",
    "# clf_RF.fit(X_train1,y_train1)\n",
    "_=matric(best_forest,X_train1,X_test1,y_train1,y_test1,title=r'Random Forest  | without y_fit')"
   ]
  },
  {
   "cell_type": "code",
   "execution_count": null,
   "metadata": {},
   "outputs": [],
   "source": []
  },
  {
   "cell_type": "code",
   "execution_count": 71,
   "metadata": {},
   "outputs": [
    {
     "data": {
      "text/plain": [
       "9.79357177703936"
      ]
     },
     "execution_count": 71,
     "metadata": {},
     "output_type": "execute_result"
    }
   ],
   "source": [
    "mean_squared_error(best_forest.predict(X_train),y_train)"
   ]
  },
  {
   "cell_type": "code",
   "execution_count": 72,
   "metadata": {},
   "outputs": [
    {
     "data": {
      "text/plain": [
       "{'max_depth': 10, 'n_estimators': 100}"
      ]
     },
     "execution_count": 72,
     "metadata": {},
     "output_type": "execute_result"
    }
   ],
   "source": [
    "best_forest.best_params_"
   ]
  },
  {
   "cell_type": "code",
   "execution_count": 73,
   "metadata": {},
   "outputs": [
    {
     "data": {
      "text/plain": [
       "17.037016925480593"
      ]
     },
     "execution_count": 73,
     "metadata": {},
     "output_type": "execute_result"
    }
   ],
   "source": [
    "mean_squared_error(best_forest.predict(X_test),y_test)"
   ]
  },
  {
   "cell_type": "code",
   "execution_count": 203,
   "metadata": {},
   "outputs": [],
   "source": [
    "rank_df = pd.DataFrame({'importance':best_forest.best_estimator_.feature_importances_,\n",
    "              'feature':X_train1.columns}).sort_values(by='importance',\n",
    "                                                      ascending=False)"
   ]
  },
  {
   "cell_type": "code",
   "execution_count": 204,
   "metadata": {},
   "outputs": [],
   "source": [
    "accu_importance = [np.sum(rank_df['importance'][:i]) for i in range(1,len(rank_df)+1)]"
   ]
  },
  {
   "cell_type": "code",
   "execution_count": 205,
   "metadata": {},
   "outputs": [],
   "source": [
    "rank_df['accumulated importance'] = accu_importance \n"
   ]
  },
  {
   "cell_type": "code",
   "execution_count": 214,
   "metadata": {
    "scrolled": true
   },
   "outputs": [
    {
     "data": {
      "text/html": [
       "<div>\n",
       "<style scoped>\n",
       "    .dataframe tbody tr th:only-of-type {\n",
       "        vertical-align: middle;\n",
       "    }\n",
       "\n",
       "    .dataframe tbody tr th {\n",
       "        vertical-align: top;\n",
       "    }\n",
       "\n",
       "    .dataframe thead th {\n",
       "        text-align: right;\n",
       "    }\n",
       "</style>\n",
       "<table border=\"1\" class=\"dataframe\">\n",
       "  <thead>\n",
       "    <tr style=\"text-align: right;\">\n",
       "      <th></th>\n",
       "      <th>importance</th>\n",
       "      <th>feature</th>\n",
       "      <th>accumulated importance</th>\n",
       "    </tr>\n",
       "  </thead>\n",
       "  <tbody>\n",
       "    <tr>\n",
       "      <th>4</th>\n",
       "      <td>2.522307e-01</td>\n",
       "      <td>artist_freq</td>\n",
       "      <td>0.252231</td>\n",
       "    </tr>\n",
       "    <tr>\n",
       "      <th>27</th>\n",
       "      <td>7.157187e-02</td>\n",
       "      <td>artist.hotttnesss</td>\n",
       "      <td>0.323803</td>\n",
       "    </tr>\n",
       "    <tr>\n",
       "      <th>50</th>\n",
       "      <td>4.916644e-02</td>\n",
       "      <td>familiarity</td>\n",
       "      <td>0.372969</td>\n",
       "    </tr>\n",
       "    <tr>\n",
       "      <th>39</th>\n",
       "      <td>3.937082e-02</td>\n",
       "      <td>loudness</td>\n",
       "      <td>0.412340</td>\n",
       "    </tr>\n",
       "    <tr>\n",
       "      <th>46</th>\n",
       "      <td>1.632899e-02</td>\n",
       "      <td>duration</td>\n",
       "      <td>0.428669</td>\n",
       "    </tr>\n",
       "    <tr>\n",
       "      <th>3</th>\n",
       "      <td>1.631280e-02</td>\n",
       "      <td>tempo</td>\n",
       "      <td>0.444982</td>\n",
       "    </tr>\n",
       "    <tr>\n",
       "      <th>40</th>\n",
       "      <td>1.621576e-02</td>\n",
       "      <td>start_of_fade_out</td>\n",
       "      <td>0.461197</td>\n",
       "    </tr>\n",
       "    <tr>\n",
       "      <th>20</th>\n",
       "      <td>1.507536e-02</td>\n",
       "      <td>release_svd_7_10</td>\n",
       "      <td>0.476273</td>\n",
       "    </tr>\n",
       "    <tr>\n",
       "      <th>29</th>\n",
       "      <td>1.474236e-02</td>\n",
       "      <td>tatums_start</td>\n",
       "      <td>0.491015</td>\n",
       "    </tr>\n",
       "    <tr>\n",
       "      <th>41</th>\n",
       "      <td>1.455198e-02</td>\n",
       "      <td>bars_confidence</td>\n",
       "      <td>0.505567</td>\n",
       "    </tr>\n",
       "    <tr>\n",
       "      <th>51</th>\n",
       "      <td>1.437187e-02</td>\n",
       "      <td>bars_start</td>\n",
       "      <td>0.519939</td>\n",
       "    </tr>\n",
       "    <tr>\n",
       "      <th>25</th>\n",
       "      <td>1.417560e-02</td>\n",
       "      <td>mode_confidence</td>\n",
       "      <td>0.534115</td>\n",
       "    </tr>\n",
       "    <tr>\n",
       "      <th>53</th>\n",
       "      <td>1.391443e-02</td>\n",
       "      <td>tatums_confidence</td>\n",
       "      <td>0.548029</td>\n",
       "    </tr>\n",
       "    <tr>\n",
       "      <th>33</th>\n",
       "      <td>1.353835e-02</td>\n",
       "      <td>beats_confidence</td>\n",
       "      <td>0.561567</td>\n",
       "    </tr>\n",
       "    <tr>\n",
       "      <th>63</th>\n",
       "      <td>1.313090e-02</td>\n",
       "      <td>beats_start</td>\n",
       "      <td>0.574698</td>\n",
       "    </tr>\n",
       "    <tr>\n",
       "      <th>30</th>\n",
       "      <td>1.285966e-02</td>\n",
       "      <td>title_svd_10_10</td>\n",
       "      <td>0.587558</td>\n",
       "    </tr>\n",
       "    <tr>\n",
       "      <th>26</th>\n",
       "      <td>1.244212e-02</td>\n",
       "      <td>key_confidence</td>\n",
       "      <td>0.600000</td>\n",
       "    </tr>\n",
       "    <tr>\n",
       "      <th>6</th>\n",
       "      <td>1.217536e-02</td>\n",
       "      <td>end_of_fade_in</td>\n",
       "      <td>0.612175</td>\n",
       "    </tr>\n",
       "    <tr>\n",
       "      <th>38</th>\n",
       "      <td>1.208415e-02</td>\n",
       "      <td>release_svd_4_10</td>\n",
       "      <td>0.624260</td>\n",
       "    </tr>\n",
       "    <tr>\n",
       "      <th>44</th>\n",
       "      <td>1.194420e-02</td>\n",
       "      <td>term_svd_10_10</td>\n",
       "      <td>0.636204</td>\n",
       "    </tr>\n",
       "    <tr>\n",
       "      <th>5</th>\n",
       "      <td>1.190261e-02</td>\n",
       "      <td>release_svd_10_10</td>\n",
       "      <td>0.648106</td>\n",
       "    </tr>\n",
       "    <tr>\n",
       "      <th>36</th>\n",
       "      <td>1.177491e-02</td>\n",
       "      <td>title_svd_3_10</td>\n",
       "      <td>0.659881</td>\n",
       "    </tr>\n",
       "    <tr>\n",
       "      <th>48</th>\n",
       "      <td>1.143878e-02</td>\n",
       "      <td>term_svd_9_10</td>\n",
       "      <td>0.671320</td>\n",
       "    </tr>\n",
       "    <tr>\n",
       "      <th>22</th>\n",
       "      <td>1.142672e-02</td>\n",
       "      <td>term_id</td>\n",
       "      <td>0.682747</td>\n",
       "    </tr>\n",
       "    <tr>\n",
       "      <th>31</th>\n",
       "      <td>1.138194e-02</td>\n",
       "      <td>title_svd_8_10</td>\n",
       "      <td>0.694129</td>\n",
       "    </tr>\n",
       "    <tr>\n",
       "      <th>14</th>\n",
       "      <td>1.130456e-02</td>\n",
       "      <td>release_svd_9_10</td>\n",
       "      <td>0.705433</td>\n",
       "    </tr>\n",
       "    <tr>\n",
       "      <th>15</th>\n",
       "      <td>1.116490e-02</td>\n",
       "      <td>term_svd_6_10</td>\n",
       "      <td>0.716598</td>\n",
       "    </tr>\n",
       "    <tr>\n",
       "      <th>11</th>\n",
       "      <td>1.111927e-02</td>\n",
       "      <td>title_svd_1_10</td>\n",
       "      <td>0.727717</td>\n",
       "    </tr>\n",
       "    <tr>\n",
       "      <th>65</th>\n",
       "      <td>1.103977e-02</td>\n",
       "      <td>title_svd_9_10</td>\n",
       "      <td>0.738757</td>\n",
       "    </tr>\n",
       "    <tr>\n",
       "      <th>57</th>\n",
       "      <td>1.089992e-02</td>\n",
       "      <td>release_svd_2_10</td>\n",
       "      <td>0.749657</td>\n",
       "    </tr>\n",
       "    <tr>\n",
       "      <th>...</th>\n",
       "      <td>...</td>\n",
       "      <td>...</td>\n",
       "      <td>...</td>\n",
       "    </tr>\n",
       "    <tr>\n",
       "      <th>21</th>\n",
       "      <td>8.235404e-03</td>\n",
       "      <td>key</td>\n",
       "      <td>0.927945</td>\n",
       "    </tr>\n",
       "    <tr>\n",
       "      <th>10</th>\n",
       "      <td>7.731357e-03</td>\n",
       "      <td>terms_freq</td>\n",
       "      <td>0.935677</td>\n",
       "    </tr>\n",
       "    <tr>\n",
       "      <th>19</th>\n",
       "      <td>7.479990e-03</td>\n",
       "      <td>term_svd_4_10</td>\n",
       "      <td>0.943157</td>\n",
       "    </tr>\n",
       "    <tr>\n",
       "      <th>17</th>\n",
       "      <td>7.195845e-03</td>\n",
       "      <td>term_svd_2_10</td>\n",
       "      <td>0.950352</td>\n",
       "    </tr>\n",
       "    <tr>\n",
       "      <th>47</th>\n",
       "      <td>7.108504e-03</td>\n",
       "      <td>term_svd_3_10</td>\n",
       "      <td>0.957461</td>\n",
       "    </tr>\n",
       "    <tr>\n",
       "      <th>64</th>\n",
       "      <td>4.066451e-03</td>\n",
       "      <td>release.name_compound</td>\n",
       "      <td>0.961527</td>\n",
       "    </tr>\n",
       "    <tr>\n",
       "      <th>61</th>\n",
       "      <td>4.048841e-03</td>\n",
       "      <td>grammy_relevance</td>\n",
       "      <td>0.965576</td>\n",
       "    </tr>\n",
       "    <tr>\n",
       "      <th>34</th>\n",
       "      <td>3.871593e-03</td>\n",
       "      <td>title_compound</td>\n",
       "      <td>0.969448</td>\n",
       "    </tr>\n",
       "    <tr>\n",
       "      <th>56</th>\n",
       "      <td>3.474864e-03</td>\n",
       "      <td>time_signature</td>\n",
       "      <td>0.972923</td>\n",
       "    </tr>\n",
       "    <tr>\n",
       "      <th>9</th>\n",
       "      <td>2.994325e-03</td>\n",
       "      <td>release.name_neu</td>\n",
       "      <td>0.975917</td>\n",
       "    </tr>\n",
       "    <tr>\n",
       "      <th>45</th>\n",
       "      <td>2.888358e-03</td>\n",
       "      <td>title_neu</td>\n",
       "      <td>0.978805</td>\n",
       "    </tr>\n",
       "    <tr>\n",
       "      <th>60</th>\n",
       "      <td>2.281168e-03</td>\n",
       "      <td>mbtags_count</td>\n",
       "      <td>0.981086</td>\n",
       "    </tr>\n",
       "    <tr>\n",
       "      <th>32</th>\n",
       "      <td>2.166753e-03</td>\n",
       "      <td>release.name_pos</td>\n",
       "      <td>0.983253</td>\n",
       "    </tr>\n",
       "    <tr>\n",
       "      <th>73</th>\n",
       "      <td>2.073133e-03</td>\n",
       "      <td>year_1980</td>\n",
       "      <td>0.985326</td>\n",
       "    </tr>\n",
       "    <tr>\n",
       "      <th>75</th>\n",
       "      <td>1.655461e-03</td>\n",
       "      <td>year_2000</td>\n",
       "      <td>0.986982</td>\n",
       "    </tr>\n",
       "    <tr>\n",
       "      <th>24</th>\n",
       "      <td>1.599658e-03</td>\n",
       "      <td>title_neg</td>\n",
       "      <td>0.988581</td>\n",
       "    </tr>\n",
       "    <tr>\n",
       "      <th>49</th>\n",
       "      <td>1.540239e-03</td>\n",
       "      <td>title_pos</td>\n",
       "      <td>0.990122</td>\n",
       "    </tr>\n",
       "    <tr>\n",
       "      <th>74</th>\n",
       "      <td>1.361438e-03</td>\n",
       "      <td>year_1990</td>\n",
       "      <td>0.991483</td>\n",
       "    </tr>\n",
       "    <tr>\n",
       "      <th>1</th>\n",
       "      <td>1.253531e-03</td>\n",
       "      <td>mode</td>\n",
       "      <td>0.992737</td>\n",
       "    </tr>\n",
       "    <tr>\n",
       "      <th>18</th>\n",
       "      <td>1.195363e-03</td>\n",
       "      <td>country_foreign</td>\n",
       "      <td>0.993932</td>\n",
       "    </tr>\n",
       "    <tr>\n",
       "      <th>52</th>\n",
       "      <td>1.192577e-03</td>\n",
       "      <td>country_us</td>\n",
       "      <td>0.995125</td>\n",
       "    </tr>\n",
       "    <tr>\n",
       "      <th>62</th>\n",
       "      <td>1.177704e-03</td>\n",
       "      <td>country_unknown</td>\n",
       "      <td>0.996302</td>\n",
       "    </tr>\n",
       "    <tr>\n",
       "      <th>59</th>\n",
       "      <td>1.158541e-03</td>\n",
       "      <td>release.name_neg</td>\n",
       "      <td>0.997461</td>\n",
       "    </tr>\n",
       "    <tr>\n",
       "      <th>76</th>\n",
       "      <td>1.048375e-03</td>\n",
       "      <td>year_2010</td>\n",
       "      <td>0.998509</td>\n",
       "    </tr>\n",
       "    <tr>\n",
       "      <th>72</th>\n",
       "      <td>7.374873e-04</td>\n",
       "      <td>year_1970</td>\n",
       "      <td>0.999247</td>\n",
       "    </tr>\n",
       "    <tr>\n",
       "      <th>71</th>\n",
       "      <td>5.619000e-04</td>\n",
       "      <td>year_1960</td>\n",
       "      <td>0.999809</td>\n",
       "    </tr>\n",
       "    <tr>\n",
       "      <th>70</th>\n",
       "      <td>9.880924e-05</td>\n",
       "      <td>year_1950</td>\n",
       "      <td>0.999907</td>\n",
       "    </tr>\n",
       "    <tr>\n",
       "      <th>69</th>\n",
       "      <td>8.732164e-05</td>\n",
       "      <td>year_1940</td>\n",
       "      <td>0.999995</td>\n",
       "    </tr>\n",
       "    <tr>\n",
       "      <th>68</th>\n",
       "      <td>4.646476e-06</td>\n",
       "      <td>year_1930</td>\n",
       "      <td>0.999999</td>\n",
       "    </tr>\n",
       "    <tr>\n",
       "      <th>67</th>\n",
       "      <td>6.026431e-07</td>\n",
       "      <td>year_1920</td>\n",
       "      <td>1.000000</td>\n",
       "    </tr>\n",
       "  </tbody>\n",
       "</table>\n",
       "<p>77 rows × 3 columns</p>\n",
       "</div>"
      ],
      "text/plain": [
       "      importance                feature  accumulated importance\n",
       "4   2.522307e-01            artist_freq                0.252231\n",
       "27  7.157187e-02      artist.hotttnesss                0.323803\n",
       "50  4.916644e-02            familiarity                0.372969\n",
       "39  3.937082e-02               loudness                0.412340\n",
       "46  1.632899e-02               duration                0.428669\n",
       "3   1.631280e-02                  tempo                0.444982\n",
       "40  1.621576e-02      start_of_fade_out                0.461197\n",
       "20  1.507536e-02       release_svd_7_10                0.476273\n",
       "29  1.474236e-02           tatums_start                0.491015\n",
       "41  1.455198e-02        bars_confidence                0.505567\n",
       "51  1.437187e-02             bars_start                0.519939\n",
       "25  1.417560e-02        mode_confidence                0.534115\n",
       "53  1.391443e-02      tatums_confidence                0.548029\n",
       "33  1.353835e-02       beats_confidence                0.561567\n",
       "63  1.313090e-02            beats_start                0.574698\n",
       "30  1.285966e-02        title_svd_10_10                0.587558\n",
       "26  1.244212e-02         key_confidence                0.600000\n",
       "6   1.217536e-02         end_of_fade_in                0.612175\n",
       "38  1.208415e-02       release_svd_4_10                0.624260\n",
       "44  1.194420e-02         term_svd_10_10                0.636204\n",
       "5   1.190261e-02      release_svd_10_10                0.648106\n",
       "36  1.177491e-02         title_svd_3_10                0.659881\n",
       "48  1.143878e-02          term_svd_9_10                0.671320\n",
       "22  1.142672e-02                term_id                0.682747\n",
       "31  1.138194e-02         title_svd_8_10                0.694129\n",
       "14  1.130456e-02       release_svd_9_10                0.705433\n",
       "15  1.116490e-02          term_svd_6_10                0.716598\n",
       "11  1.111927e-02         title_svd_1_10                0.727717\n",
       "65  1.103977e-02         title_svd_9_10                0.738757\n",
       "57  1.089992e-02       release_svd_2_10                0.749657\n",
       "..           ...                    ...                     ...\n",
       "21  8.235404e-03                    key                0.927945\n",
       "10  7.731357e-03             terms_freq                0.935677\n",
       "19  7.479990e-03          term_svd_4_10                0.943157\n",
       "17  7.195845e-03          term_svd_2_10                0.950352\n",
       "47  7.108504e-03          term_svd_3_10                0.957461\n",
       "64  4.066451e-03  release.name_compound                0.961527\n",
       "61  4.048841e-03       grammy_relevance                0.965576\n",
       "34  3.871593e-03         title_compound                0.969448\n",
       "56  3.474864e-03         time_signature                0.972923\n",
       "9   2.994325e-03       release.name_neu                0.975917\n",
       "45  2.888358e-03              title_neu                0.978805\n",
       "60  2.281168e-03           mbtags_count                0.981086\n",
       "32  2.166753e-03       release.name_pos                0.983253\n",
       "73  2.073133e-03              year_1980                0.985326\n",
       "75  1.655461e-03              year_2000                0.986982\n",
       "24  1.599658e-03              title_neg                0.988581\n",
       "49  1.540239e-03              title_pos                0.990122\n",
       "74  1.361438e-03              year_1990                0.991483\n",
       "1   1.253531e-03                   mode                0.992737\n",
       "18  1.195363e-03        country_foreign                0.993932\n",
       "52  1.192577e-03             country_us                0.995125\n",
       "62  1.177704e-03        country_unknown                0.996302\n",
       "59  1.158541e-03       release.name_neg                0.997461\n",
       "76  1.048375e-03              year_2010                0.998509\n",
       "72  7.374873e-04              year_1970                0.999247\n",
       "71  5.619000e-04              year_1960                0.999809\n",
       "70  9.880924e-05              year_1950                0.999907\n",
       "69  8.732164e-05              year_1940                0.999995\n",
       "68  4.646476e-06              year_1930                0.999999\n",
       "67  6.026431e-07              year_1920                1.000000\n",
       "\n",
       "[77 rows x 3 columns]"
      ]
     },
     "execution_count": 214,
     "metadata": {},
     "output_type": "execute_result"
    }
   ],
   "source": [
    "rank_df.sort_values(['importance'],ascending=False)"
   ]
  },
  {
   "cell_type": "code",
   "execution_count": 207,
   "metadata": {},
   "outputs": [],
   "source": [
    "selected = rank_df.head(30)['feature']"
   ]
  },
  {
   "cell_type": "code",
   "execution_count": 208,
   "metadata": {
    "scrolled": true
   },
   "outputs": [
    {
     "data": {
      "text/plain": [
       "[<matplotlib.lines.Line2D at 0x1d464047208>]"
      ]
     },
     "execution_count": 208,
     "metadata": {},
     "output_type": "execute_result"
    },
    {
     "data": {
      "image/png": "[encoded data removed]",
      "text/plain": [
       "<Figure size 432x288 with 1 Axes>"
      ]
     },
     "metadata": {
      "needs_background": "light"
     },
     "output_type": "display_data"
    }
   ],
   "source": [
    "plt.plot(rank_df['accumulated importance'].values)"
   ]
  },
  {
   "cell_type": "code",
   "execution_count": null,
   "metadata": {},
   "outputs": [],
   "source": []
  },
  {
   "cell_type": "code",
   "execution_count": 80,
   "metadata": {},
   "outputs": [
    {
     "data": {
      "text/plain": [
       "0.09314999834603288"
      ]
     },
     "execution_count": 80,
     "metadata": {},
     "output_type": "execute_result"
    }
   ],
   "source": [
    "r2_score(best_forest.predict(X_train),y_train)"
   ]
  },
  {
   "cell_type": "code",
   "execution_count": 81,
   "metadata": {},
   "outputs": [
    {
     "data": {
      "text/plain": [
       "-0.8761543865485526"
      ]
     },
     "execution_count": 81,
     "metadata": {},
     "output_type": "execute_result"
    }
   ],
   "source": [
    "r2_score(best_forest.predict(X_test),y_test)"
   ]
  },
  {
   "cell_type": "code",
   "execution_count": 82,
   "metadata": {},
   "outputs": [
    {
     "data": {
      "text/plain": [
       "{'max_depth': 10, 'n_estimators': 100}"
      ]
     },
     "execution_count": 82,
     "metadata": {},
     "output_type": "execute_result"
    }
   ],
   "source": [
    "best_forest.best_params_"
   ]
  },
  {
   "cell_type": "code",
   "execution_count": 151,
   "metadata": {},
   "outputs": [
    {
     "name": "stdout",
     "output_type": "stream",
     "text": [
      "0.16977245027224575\n",
      "-0.9377115393936057\n"
     ]
    }
   ],
   "source": [
    "clf = RandomForestRegressor(n_estimators=100, max_depth=10,\n",
    "                         random_state=0)\n",
    "clf.fit(X_train[selected], y_train) \n",
    "print(r2_score(clf.predict(X_train[selected]),y_train))\n",
    "print(r2_score(clf.predict(X_test[selected]),y_test))"
   ]
  },
  {
   "cell_type": "markdown",
   "metadata": {},
   "source": [
    "Index(['y_fit_release', 'y_fit_term', 'duration', 'loudness', 'artist_freq',\n",
    "       'artist_firstname', 'y_fit_title', 'start_of_fade_out', 'tempo'],\n",
    "      dtype='object')"
   ]
  },
  {
   "cell_type": "code",
   "execution_count": 216,
   "metadata": {},
   "outputs": [
    {
     "name": "stdout",
     "output_type": "stream",
     "text": [
      "Collecting xgboost\n",
      "  Downloading https://files.pythonhosted.org/packages/51/c1/198915b13e98b62a98f48309c41012638464651da755d941f4abe384c012/xgboost-0.82-py2.py3-none-win_amd64.whl (7.7MB)\n",
      "Requirement already satisfied: numpy in c:\\programdata\\anaconda3\\lib\\site-packages (from xgboost) (1.16.2)\n",
      "Requirement already satisfied: scipy in c:\\programdata\\anaconda3\\lib\\site-packages (from xgboost) (1.1.0)\n",
      "Installing collected packages: xgboost\n",
      "Successfully installed xgboost-0.82\n"
     ]
    }
   ],
   "source": [
    "try:\n",
    "    import xgboost as xgb\n",
    "except:\n",
    "    !pip install xgboost\n",
    "    import xgboost as xgb"
   ]
  },
  {
   "cell_type": "code",
   "execution_count": 85,
   "metadata": {},
   "outputs": [],
   "source": [
    "# params = {'learning_rate':[0.01,0.1],\n",
    "#          'colsample_bytree':[0.5,0.9],\n",
    "#          'max_depth':[5,10],\n",
    "#          'n_estimators':[50,100,200,500]}\n",
    "# clf=xgb.XGBRegressor(objective ='reg:linear',\n",
    "#                  n_jobs = 2,gpu_id=0,\n",
    "#                  tree_method='gpu_hist')\n",
    "# best_boost = GridSearchCV(clf,params,cv=2)"
   ]
  },
  {
   "cell_type": "code",
   "execution_count": 86,
   "metadata": {},
   "outputs": [],
   "source": [
    "#best_boost.fit(X_train[selected],y_train)"
   ]
  },
  {
   "cell_type": "code",
   "execution_count": 217,
   "metadata": {},
   "outputs": [],
   "source": [
    "xg_reg = xgb.XGBRegressor(objective ='reg:linear', \n",
    "                          colsample_bytree = 0.7, \n",
    "                          learning_rate = 0.01,\n",
    "                max_depth = 10, alpha = 0, \n",
    "                          n_estimators = 200,\n",
    "                          tree_method='gpu_hist',\n",
    "                         n_jobs = 2,gpu_id=0)"
   ]
  },
  {
   "cell_type": "code",
   "execution_count": 218,
   "metadata": {
    "scrolled": true
   },
   "outputs": [
    {
     "name": "stderr",
     "output_type": "stream",
     "text": [
      "C:\\ProgramData\\Anaconda3\\lib\\site-packages\\xgboost\\core.py:587: FutureWarning: Series.base is deprecated and will be removed in a future version\n",
      "  if getattr(data, 'base', None) is not None and \\\n"
     ]
    },
    {
     "ename": "XGBoostError",
     "evalue": "b'[15:01:18] C:/Users/Administrator/Desktop/xgboost/src/tree/updater_gpu_hist.cu:980: Exception in gpu_hist: [15:01:18] c:\\\\users\\\\administrator\\\\desktop\\\\xgboost\\\\src\\\\common\\\\device_helpers.cuh:916: Check failed: device_ordinals.size() == 1 (0 vs. 1) XGBoost must be compiled with NCCL to use more than one GPU.\\n'",
     "output_type": "error",
     "traceback": [
      "\u001b[1;31m---------------------------------------------------------------------------\u001b[0m",
      "\u001b[1;31mXGBoostError\u001b[0m                              Traceback (most recent call last)",
      "\u001b[1;32m<ipython-input-218-475e9338114c>\u001b[0m in \u001b[0;36m<module>\u001b[1;34m\u001b[0m\n\u001b[1;32m----> 1\u001b[1;33m \u001b[0mxg_reg\u001b[0m\u001b[1;33m.\u001b[0m\u001b[0mfit\u001b[0m\u001b[1;33m(\u001b[0m\u001b[0mX_train1\u001b[0m\u001b[1;33m,\u001b[0m\u001b[0my_train1\u001b[0m\u001b[1;33m)\u001b[0m\u001b[1;33m\u001b[0m\u001b[1;33m\u001b[0m\u001b[0m\n\u001b[0m",
      "\u001b[1;32mC:\\ProgramData\\Anaconda3\\lib\\site-packages\\xgboost\\sklearn.py\u001b[0m in \u001b[0;36mfit\u001b[1;34m(self, X, y, sample_weight, eval_set, eval_metric, early_stopping_rounds, verbose, xgb_model, sample_weight_eval_set, callbacks)\u001b[0m\n\u001b[0;32m    376\u001b[0m                               \u001b[0mevals_result\u001b[0m\u001b[1;33m=\u001b[0m\u001b[0mevals_result\u001b[0m\u001b[1;33m,\u001b[0m \u001b[0mobj\u001b[0m\u001b[1;33m=\u001b[0m\u001b[0mobj\u001b[0m\u001b[1;33m,\u001b[0m \u001b[0mfeval\u001b[0m\u001b[1;33m=\u001b[0m\u001b[0mfeval\u001b[0m\u001b[1;33m,\u001b[0m\u001b[1;33m\u001b[0m\u001b[1;33m\u001b[0m\u001b[0m\n\u001b[0;32m    377\u001b[0m                               \u001b[0mverbose_eval\u001b[0m\u001b[1;33m=\u001b[0m\u001b[0mverbose\u001b[0m\u001b[1;33m,\u001b[0m \u001b[0mxgb_model\u001b[0m\u001b[1;33m=\u001b[0m\u001b[0mxgb_model\u001b[0m\u001b[1;33m,\u001b[0m\u001b[1;33m\u001b[0m\u001b[1;33m\u001b[0m\u001b[0m\n\u001b[1;32m--> 378\u001b[1;33m                               callbacks=callbacks)\n\u001b[0m\u001b[0;32m    379\u001b[0m \u001b[1;33m\u001b[0m\u001b[0m\n\u001b[0;32m    380\u001b[0m         \u001b[1;32mif\u001b[0m \u001b[0mevals_result\u001b[0m\u001b[1;33m:\u001b[0m\u001b[1;33m\u001b[0m\u001b[1;33m\u001b[0m\u001b[0m\n",
      "\u001b[1;32mC:\\ProgramData\\Anaconda3\\lib\\site-packages\\xgboost\\training.py\u001b[0m in \u001b[0;36mtrain\u001b[1;34m(params, dtrain, num_boost_round, evals, obj, feval, maximize, early_stopping_rounds, evals_result, verbose_eval, xgb_model, callbacks, learning_rates)\u001b[0m\n\u001b[0;32m    214\u001b[0m                            \u001b[0mevals\u001b[0m\u001b[1;33m=\u001b[0m\u001b[0mevals\u001b[0m\u001b[1;33m,\u001b[0m\u001b[1;33m\u001b[0m\u001b[1;33m\u001b[0m\u001b[0m\n\u001b[0;32m    215\u001b[0m                            \u001b[0mobj\u001b[0m\u001b[1;33m=\u001b[0m\u001b[0mobj\u001b[0m\u001b[1;33m,\u001b[0m \u001b[0mfeval\u001b[0m\u001b[1;33m=\u001b[0m\u001b[0mfeval\u001b[0m\u001b[1;33m,\u001b[0m\u001b[1;33m\u001b[0m\u001b[1;33m\u001b[0m\u001b[0m\n\u001b[1;32m--> 216\u001b[1;33m                            xgb_model=xgb_model, callbacks=callbacks)\n\u001b[0m\u001b[0;32m    217\u001b[0m \u001b[1;33m\u001b[0m\u001b[0m\n\u001b[0;32m    218\u001b[0m \u001b[1;33m\u001b[0m\u001b[0m\n",
      "\u001b[1;32mC:\\ProgramData\\Anaconda3\\lib\\site-packages\\xgboost\\training.py\u001b[0m in \u001b[0;36m_train_internal\u001b[1;34m(params, dtrain, num_boost_round, evals, obj, feval, xgb_model, callbacks)\u001b[0m\n\u001b[0;32m     72\u001b[0m         \u001b[1;31m# Skip the first update if it is a recovery step.\u001b[0m\u001b[1;33m\u001b[0m\u001b[1;33m\u001b[0m\u001b[1;33m\u001b[0m\u001b[0m\n\u001b[0;32m     73\u001b[0m         \u001b[1;32mif\u001b[0m \u001b[0mversion\u001b[0m \u001b[1;33m%\u001b[0m \u001b[1;36m2\u001b[0m \u001b[1;33m==\u001b[0m \u001b[1;36m0\u001b[0m\u001b[1;33m:\u001b[0m\u001b[1;33m\u001b[0m\u001b[1;33m\u001b[0m\u001b[0m\n\u001b[1;32m---> 74\u001b[1;33m             \u001b[0mbst\u001b[0m\u001b[1;33m.\u001b[0m\u001b[0mupdate\u001b[0m\u001b[1;33m(\u001b[0m\u001b[0mdtrain\u001b[0m\u001b[1;33m,\u001b[0m \u001b[0mi\u001b[0m\u001b[1;33m,\u001b[0m \u001b[0mobj\u001b[0m\u001b[1;33m)\u001b[0m\u001b[1;33m\u001b[0m\u001b[1;33m\u001b[0m\u001b[0m\n\u001b[0m\u001b[0;32m     75\u001b[0m             \u001b[0mbst\u001b[0m\u001b[1;33m.\u001b[0m\u001b[0msave_rabit_checkpoint\u001b[0m\u001b[1;33m(\u001b[0m\u001b[1;33m)\u001b[0m\u001b[1;33m\u001b[0m\u001b[1;33m\u001b[0m\u001b[0m\n\u001b[0;32m     76\u001b[0m             \u001b[0mversion\u001b[0m \u001b[1;33m+=\u001b[0m \u001b[1;36m1\u001b[0m\u001b[1;33m\u001b[0m\u001b[1;33m\u001b[0m\u001b[0m\n",
      "\u001b[1;32mC:\\ProgramData\\Anaconda3\\lib\\site-packages\\xgboost\\core.py\u001b[0m in \u001b[0;36mupdate\u001b[1;34m(self, dtrain, iteration, fobj)\u001b[0m\n\u001b[0;32m   1108\u001b[0m         \u001b[1;32mif\u001b[0m \u001b[0mfobj\u001b[0m \u001b[1;32mis\u001b[0m \u001b[1;32mNone\u001b[0m\u001b[1;33m:\u001b[0m\u001b[1;33m\u001b[0m\u001b[1;33m\u001b[0m\u001b[0m\n\u001b[0;32m   1109\u001b[0m             _check_call(_LIB.XGBoosterUpdateOneIter(self.handle, ctypes.c_int(iteration),\n\u001b[1;32m-> 1110\u001b[1;33m                                                     dtrain.handle))\n\u001b[0m\u001b[0;32m   1111\u001b[0m         \u001b[1;32melse\u001b[0m\u001b[1;33m:\u001b[0m\u001b[1;33m\u001b[0m\u001b[1;33m\u001b[0m\u001b[0m\n\u001b[0;32m   1112\u001b[0m             \u001b[0mpred\u001b[0m \u001b[1;33m=\u001b[0m \u001b[0mself\u001b[0m\u001b[1;33m.\u001b[0m\u001b[0mpredict\u001b[0m\u001b[1;33m(\u001b[0m\u001b[0mdtrain\u001b[0m\u001b[1;33m)\u001b[0m\u001b[1;33m\u001b[0m\u001b[1;33m\u001b[0m\u001b[0m\n",
      "\u001b[1;32mC:\\ProgramData\\Anaconda3\\lib\\site-packages\\xgboost\\core.py\u001b[0m in \u001b[0;36m_check_call\u001b[1;34m(ret)\u001b[0m\n\u001b[0;32m    176\u001b[0m     \"\"\"\n\u001b[0;32m    177\u001b[0m     \u001b[1;32mif\u001b[0m \u001b[0mret\u001b[0m \u001b[1;33m!=\u001b[0m \u001b[1;36m0\u001b[0m\u001b[1;33m:\u001b[0m\u001b[1;33m\u001b[0m\u001b[1;33m\u001b[0m\u001b[0m\n\u001b[1;32m--> 178\u001b[1;33m         \u001b[1;32mraise\u001b[0m \u001b[0mXGBoostError\u001b[0m\u001b[1;33m(\u001b[0m\u001b[0m_LIB\u001b[0m\u001b[1;33m.\u001b[0m\u001b[0mXGBGetLastError\u001b[0m\u001b[1;33m(\u001b[0m\u001b[1;33m)\u001b[0m\u001b[1;33m)\u001b[0m\u001b[1;33m\u001b[0m\u001b[1;33m\u001b[0m\u001b[0m\n\u001b[0m\u001b[0;32m    179\u001b[0m \u001b[1;33m\u001b[0m\u001b[0m\n\u001b[0;32m    180\u001b[0m \u001b[1;33m\u001b[0m\u001b[0m\n",
      "\u001b[1;31mXGBoostError\u001b[0m: b'[15:01:18] C:/Users/Administrator/Desktop/xgboost/src/tree/updater_gpu_hist.cu:980: Exception in gpu_hist: [15:01:18] c:\\\\users\\\\administrator\\\\desktop\\\\xgboost\\\\src\\\\common\\\\device_helpers.cuh:916: Check failed: device_ordinals.size() == 1 (0 vs. 1) XGBoost must be compiled with NCCL to use more than one GPU.\\n'"
     ]
    }
   ],
   "source": [
    "xg_reg.fit(X_train1,y_train1)"
   ]
  },
  {
   "cell_type": "code",
   "execution_count": 134,
   "metadata": {},
   "outputs": [
    {
     "data": {
      "text/plain": [
       "8.618728526025434"
      ]
     },
     "execution_count": 134,
     "metadata": {},
     "output_type": "execute_result"
    }
   ],
   "source": [
    "mean_squared_error(xg_reg.predict(X_train),y_train)"
   ]
  },
  {
   "cell_type": "code",
   "execution_count": 135,
   "metadata": {},
   "outputs": [
    {
     "data": {
      "text/plain": [
       "18.13456874660353"
      ]
     },
     "execution_count": 135,
     "metadata": {},
     "output_type": "execute_result"
    }
   ],
   "source": [
    "mean_squared_error(xg_reg.predict(X_test),y_test)"
   ]
  },
  {
   "cell_type": "code",
   "execution_count": 137,
   "metadata": {},
   "outputs": [
    {
     "data": {
      "text/plain": [
       "-1.840431340159716"
      ]
     },
     "execution_count": 137,
     "metadata": {},
     "output_type": "execute_result"
    }
   ],
   "source": [
    "r2_score(xg_reg.predict(X_test),y_test)"
   ]
  },
  {
   "cell_type": "code",
   "execution_count": 139,
   "metadata": {},
   "outputs": [
    {
     "data": {
      "text/plain": [
       "0.07633228803439662"
      ]
     },
     "execution_count": 139,
     "metadata": {},
     "output_type": "execute_result"
    }
   ],
   "source": [
    "r2_score(xg_reg.predict(X_train),y_train)"
   ]
  },
  {
   "cell_type": "code",
   "execution_count": null,
   "metadata": {},
   "outputs": [],
   "source": []
  }
 ],
 "metadata": {
  "kernelspec": {
   "display_name": "Python 3",
   "language": "python",
   "name": "python3"
  },
  "language_info": {
   "codemirror_mode": {
    "name": "ipython",
    "version": 3
   },
   "file_extension": ".py",
   "mimetype": "text/x-python",
   "name": "python",
   "nbconvert_exporter": "python",
   "pygments_lexer": "ipython3",
   "version": "3.7.1"
  }
 },
 "nbformat": 4,
 "nbformat_minor": 2
}
