{
 "cells": [
  {
   "cell_type": "code",
   "execution_count": 157,
   "metadata": {},
   "outputs": [],
   "source": [
    "import pandas as pd\n",
    "import numpy as np\n",
    "import matplotlib.pyplot as plt\n",
    "import re\n",
    "from scipy.stats.stats import pearsonr\n",
    "from sklearn.feature_extraction.text import TfidfVectorizer\n",
    "from nltk.corpus import stopwords \n",
    "%matplotlib inline"
   ]
  },
  {
   "cell_type": "code",
   "execution_count": 2,
   "metadata": {},
   "outputs": [],
   "source": [
    "#read data\n",
    "data = pd.read_csv('data/music.csv')"
   ]
  },
  {
   "cell_type": "code",
   "execution_count": 3,
   "metadata": {},
   "outputs": [
    {
     "data": {
      "text/html": [
       "<div>\n",
       "<style scoped>\n",
       "    .dataframe tbody tr th:only-of-type {\n",
       "        vertical-align: middle;\n",
       "    }\n",
       "\n",
       "    .dataframe tbody tr th {\n",
       "        vertical-align: top;\n",
       "    }\n",
       "\n",
       "    .dataframe thead th {\n",
       "        text-align: right;\n",
       "    }\n",
       "</style>\n",
       "<table border=\"1\" class=\"dataframe\">\n",
       "  <thead>\n",
       "    <tr style=\"text-align: right;\">\n",
       "      <th></th>\n",
       "      <th>artist.hotttnesss</th>\n",
       "      <th>artist.id</th>\n",
       "      <th>artist.name</th>\n",
       "      <th>artist_mbtags</th>\n",
       "      <th>artist_mbtags_count</th>\n",
       "      <th>bars_confidence</th>\n",
       "      <th>bars_start</th>\n",
       "      <th>beats_confidence</th>\n",
       "      <th>beats_start</th>\n",
       "      <th>duration</th>\n",
       "      <th>...</th>\n",
       "      <th>start_of_fade_out</th>\n",
       "      <th>tatums_confidence</th>\n",
       "      <th>tatums_start</th>\n",
       "      <th>tempo</th>\n",
       "      <th>terms</th>\n",
       "      <th>terms_freq</th>\n",
       "      <th>time_signature</th>\n",
       "      <th>time_signature_confidence</th>\n",
       "      <th>title</th>\n",
       "      <th>year</th>\n",
       "    </tr>\n",
       "  </thead>\n",
       "  <tbody>\n",
       "    <tr>\n",
       "      <th>0</th>\n",
       "      <td>0.401998</td>\n",
       "      <td>ARD7TVE1187B99BFB1</td>\n",
       "      <td>Casual</td>\n",
       "      <td>NaN</td>\n",
       "      <td>0.0</td>\n",
       "      <td>0.643</td>\n",
       "      <td>0.58521</td>\n",
       "      <td>0.834</td>\n",
       "      <td>0.58521</td>\n",
       "      <td>218.93179</td>\n",
       "      <td>...</td>\n",
       "      <td>218.932</td>\n",
       "      <td>0.779</td>\n",
       "      <td>0.28519</td>\n",
       "      <td>92.198</td>\n",
       "      <td>hip hop</td>\n",
       "      <td>1.000000</td>\n",
       "      <td>4.0</td>\n",
       "      <td>0.778</td>\n",
       "      <td>I Didn't Mean To</td>\n",
       "      <td>0</td>\n",
       "    </tr>\n",
       "    <tr>\n",
       "      <th>1</th>\n",
       "      <td>0.417500</td>\n",
       "      <td>ARMJAGH1187FB546F3</td>\n",
       "      <td>The Box Tops</td>\n",
       "      <td>classic pop and rock</td>\n",
       "      <td>1.0</td>\n",
       "      <td>0.007</td>\n",
       "      <td>0.71054</td>\n",
       "      <td>1.000</td>\n",
       "      <td>0.20627</td>\n",
       "      <td>148.03546</td>\n",
       "      <td>...</td>\n",
       "      <td>137.915</td>\n",
       "      <td>0.969</td>\n",
       "      <td>0.20627</td>\n",
       "      <td>121.274</td>\n",
       "      <td>blue-eyed soul</td>\n",
       "      <td>1.000000</td>\n",
       "      <td>4.0</td>\n",
       "      <td>0.384</td>\n",
       "      <td>Soul Deep</td>\n",
       "      <td>1969</td>\n",
       "    </tr>\n",
       "    <tr>\n",
       "      <th>2</th>\n",
       "      <td>0.343428</td>\n",
       "      <td>ARKRRTF1187B9984DA</td>\n",
       "      <td>Sonora Santanera</td>\n",
       "      <td>NaN</td>\n",
       "      <td>0.0</td>\n",
       "      <td>0.980</td>\n",
       "      <td>0.73152</td>\n",
       "      <td>0.980</td>\n",
       "      <td>0.73152</td>\n",
       "      <td>177.47546</td>\n",
       "      <td>...</td>\n",
       "      <td>172.304</td>\n",
       "      <td>0.482</td>\n",
       "      <td>0.42132</td>\n",
       "      <td>100.070</td>\n",
       "      <td>salsa</td>\n",
       "      <td>1.000000</td>\n",
       "      <td>1.0</td>\n",
       "      <td>0.000</td>\n",
       "      <td>Amor De Cabaret</td>\n",
       "      <td>0</td>\n",
       "    </tr>\n",
       "    <tr>\n",
       "      <th>3</th>\n",
       "      <td>0.454231</td>\n",
       "      <td>AR7G5I41187FB4CE6C</td>\n",
       "      <td>Adam Ant</td>\n",
       "      <td>uk</td>\n",
       "      <td>1.0</td>\n",
       "      <td>0.017</td>\n",
       "      <td>1.30621</td>\n",
       "      <td>0.809</td>\n",
       "      <td>0.81002</td>\n",
       "      <td>233.40363</td>\n",
       "      <td>...</td>\n",
       "      <td>217.124</td>\n",
       "      <td>0.601</td>\n",
       "      <td>0.56254</td>\n",
       "      <td>119.293</td>\n",
       "      <td>pop rock</td>\n",
       "      <td>0.988584</td>\n",
       "      <td>4.0</td>\n",
       "      <td>0.000</td>\n",
       "      <td>Something Girls</td>\n",
       "      <td>1982</td>\n",
       "    </tr>\n",
       "    <tr>\n",
       "      <th>4</th>\n",
       "      <td>0.401724</td>\n",
       "      <td>ARXR32B1187FB57099</td>\n",
       "      <td>Gob</td>\n",
       "      <td>NaN</td>\n",
       "      <td>0.0</td>\n",
       "      <td>0.175</td>\n",
       "      <td>1.06368</td>\n",
       "      <td>0.883</td>\n",
       "      <td>0.13576</td>\n",
       "      <td>209.60608</td>\n",
       "      <td>...</td>\n",
       "      <td>198.699</td>\n",
       "      <td>1.000</td>\n",
       "      <td>0.13576</td>\n",
       "      <td>129.738</td>\n",
       "      <td>pop punk</td>\n",
       "      <td>0.887288</td>\n",
       "      <td>4.0</td>\n",
       "      <td>0.562</td>\n",
       "      <td>Face the Ashes</td>\n",
       "      <td>2007</td>\n",
       "    </tr>\n",
       "  </tbody>\n",
       "</table>\n",
       "<p>5 rows × 35 columns</p>\n",
       "</div>"
      ],
      "text/plain": [
       "   artist.hotttnesss           artist.id       artist.name  \\\n",
       "0           0.401998  ARD7TVE1187B99BFB1            Casual   \n",
       "1           0.417500  ARMJAGH1187FB546F3      The Box Tops   \n",
       "2           0.343428  ARKRRTF1187B9984DA  Sonora Santanera   \n",
       "3           0.454231  AR7G5I41187FB4CE6C          Adam Ant   \n",
       "4           0.401724  ARXR32B1187FB57099               Gob   \n",
       "\n",
       "          artist_mbtags  artist_mbtags_count  bars_confidence  bars_start  \\\n",
       "0                   NaN                  0.0            0.643     0.58521   \n",
       "1  classic pop and rock                  1.0            0.007     0.71054   \n",
       "2                   NaN                  0.0            0.980     0.73152   \n",
       "3                    uk                  1.0            0.017     1.30621   \n",
       "4                   NaN                  0.0            0.175     1.06368   \n",
       "\n",
       "   beats_confidence  beats_start   duration  ...   start_of_fade_out  \\\n",
       "0             0.834      0.58521  218.93179  ...             218.932   \n",
       "1             1.000      0.20627  148.03546  ...             137.915   \n",
       "2             0.980      0.73152  177.47546  ...             172.304   \n",
       "3             0.809      0.81002  233.40363  ...             217.124   \n",
       "4             0.883      0.13576  209.60608  ...             198.699   \n",
       "\n",
       "   tatums_confidence  tatums_start    tempo           terms terms_freq  \\\n",
       "0              0.779       0.28519   92.198         hip hop   1.000000   \n",
       "1              0.969       0.20627  121.274  blue-eyed soul   1.000000   \n",
       "2              0.482       0.42132  100.070           salsa   1.000000   \n",
       "3              0.601       0.56254  119.293        pop rock   0.988584   \n",
       "4              1.000       0.13576  129.738        pop punk   0.887288   \n",
       "\n",
       "   time_signature  time_signature_confidence             title  year  \n",
       "0             4.0                      0.778  I Didn't Mean To     0  \n",
       "1             4.0                      0.384         Soul Deep  1969  \n",
       "2             1.0                      0.000   Amor De Cabaret     0  \n",
       "3             4.0                      0.000   Something Girls  1982  \n",
       "4             4.0                      0.562    Face the Ashes  2007  \n",
       "\n",
       "[5 rows x 35 columns]"
      ]
     },
     "execution_count": 3,
     "metadata": {},
     "output_type": "execute_result"
    }
   ],
   "source": [
    "# take a look at data\n",
    "data.head()"
   ]
  },
  {
   "cell_type": "code",
   "execution_count": 4,
   "metadata": {},
   "outputs": [
    {
     "data": {
      "text/plain": [
       "Index(['artist.hotttnesss', 'artist.id', 'artist.name', 'artist_mbtags',\n",
       "       'artist_mbtags_count', 'bars_confidence', 'bars_start',\n",
       "       'beats_confidence', 'beats_start', 'duration', 'end_of_fade_in',\n",
       "       'familiarity', 'key', 'key_confidence', 'latitude', 'location',\n",
       "       'longitude', 'loudness', 'mode', 'mode_confidence', 'release.id',\n",
       "       'release.name', 'similar', 'song.hotttnesss', 'song.id',\n",
       "       'start_of_fade_out', 'tatums_confidence', 'tatums_start', 'tempo',\n",
       "       'terms', 'terms_freq', 'time_signature', 'time_signature_confidence',\n",
       "       'title', 'year'],\n",
       "      dtype='object')"
      ]
     },
     "execution_count": 4,
     "metadata": {},
     "output_type": "execute_result"
    }
   ],
   "source": [
    "# features we have in raw dataset\n",
    "data.columns"
   ]
  },
  {
   "cell_type": "code",
   "execution_count": 6,
   "metadata": {},
   "outputs": [
    {
     "name": "stdout",
     "output_type": "stream",
     "text": [
      "we have 35 features in the raw dataset\n"
     ]
    }
   ],
   "source": [
    "print('we have {} features in the raw dataset'.format(len(data.columns)))"
   ]
  },
  {
   "cell_type": "markdown",
   "metadata": {},
   "source": [
    "**Documentation of feature selection and manipulation**\n",
    "\n",
    "+ Artist familiarity and artist hotness are not strictly the same thing. Familiar artists can refer to some historically famous aritist such as Beatles,Michael Jackson. Hot artists are usually contemporary, such as Katy Perry,  The Boy Least Likely to, and Mastodon. See this link for more details[link](https://musicmachinery.com/2009/05/25/artist-similarity-familiarity-and-hotness/). However, because in most other cases, contemporarily hot artists are also familiar, they have a very high correlation and therefore we decide to only keep familiarity.\n",
    "+ artist id,song id, release id, should not have anything to do with response, so we drop them.\n",
    "+ Longitude and latitude are very strange: they seldom change despite big changes in location, therefore we drop it for now.\n",
    "+ Instead of using year, we created a feature named \"Decade\" because 10-year period should be sufficient to capture changes in audience taste or music genre while the specific year is too detailed and unnecessary.\n",
    "+ Location is very dirty with inconsistent format. And it does not coincide with the latitude and longitude. Despite big changes in locations(for example, from one us state to another), we observe the same pair of longitude and latitude. We have not yet found out the source of this inconsistency. We extracted country and region from location string. \n",
    "+ \"mode\" is whether the song used a major or minor key. I plotted the distributions of hotness stratified on mode, and found that the distributions are exactly the same. Therefore, there is no need to inlcude this feature( and the associated mode confidence)\n",
    "+ artist name cannot be directly used in our final model, we will drop for now. **It can be helpful when we augment the dataset with other features related to this artist.**\n",
    "+ Artist mbtags and terms refer to the style of the artist and song. We decide to only retain terms for now.\n",
    "+ release name is the album name containing the song, we decide to drop it and only focus on the song.\n",
    "+ All the others are characteristics quantitatively describing the piece of music, therefore we retain them all for now."
   ]
  },
  {
   "cell_type": "markdown",
   "metadata": {},
   "source": [
    "**Music-related quantitative measures like beat, bars etc**\n",
    "we notice that music related quantitative measures are highly correlated with each other. It remains unclear how we are going to deal with this correlation between predictors at this stage."
   ]
  },
  {
   "cell_type": "code",
   "execution_count": 79,
   "metadata": {},
   "outputs": [
    {
     "data": {
      "text/plain": [
       "<matplotlib.figure.Figure at 0x1a205dfcc0>"
      ]
     },
     "metadata": {},
     "output_type": "display_data"
    },
    {
     "data": {
      "image/png": "[encoded data removed]",
      "text/plain": [
       "<matplotlib.figure.Figure at 0x1a205dfb38>"
      ]
     },
     "metadata": {},
     "output_type": "display_data"
    }
   ],
   "source": [
    "music_related = ['bars_confidence', 'bars_start',\n",
    "       'beats_confidence', 'beats_start', 'duration', 'end_of_fade_in',\n",
    "                'key', 'key_confidence','loudness','start_of_fade_out', \n",
    "                 'tatums_confidence', 'tatums_start', 'tempo',\n",
    "                'time_signature', 'time_signature_confidence'];\n",
    "plt.figure(figsize=(20,20));\n",
    "corr = data[music_related].corr();\n",
    "plt.matshow(corr,cmap = 'Blues');\n",
    "plt.colorbar();\n",
    "plt.xticks(range(len(corr.columns)), corr.columns,rotation = 'vertical');\n",
    "plt.yticks(range(len(corr.columns)), corr.columns);"
   ]
  },
  {
   "cell_type": "markdown",
   "metadata": {},
   "source": [
    "Notice that we have 459 different values for 'terms', therefore this attribute needs further processing"
   ]
  },
  {
   "cell_type": "code",
   "execution_count": 5,
   "metadata": {},
   "outputs": [
    {
     "data": {
      "text/plain": [
       "459"
      ]
     },
     "execution_count": 5,
     "metadata": {},
     "output_type": "execute_result"
    }
   ],
   "source": [
    "len(data['terms'].unique())"
   ]
  },
  {
   "cell_type": "markdown",
   "metadata": {},
   "source": [
    "**Next we extract country and region from location**"
   ]
  },
  {
   "cell_type": "markdown",
   "metadata": {},
   "source": [
    "Field names explanation see this [link](https://labrosa.ee.columbia.edu/millionsong/faq)"
   ]
  },
  {
   "cell_type": "code",
   "execution_count": 8,
   "metadata": {},
   "outputs": [],
   "source": [
    "us_state_abbrev = {\n",
    "    'alabama': 'al',\n",
    "    'alaska': 'ak',\n",
    "    'arizona': 'az',\n",
    "    'arkansas': 'ar',\n",
    "    'california': 'ca',\n",
    "    'colorado': 'co',\n",
    "    'connecticut': 'ct',\n",
    "    'delaware': 'de',\n",
    "    'florida': 'fl',\n",
    "    'georgia': 'ga',\n",
    "    'hawaii': 'hi',\n",
    "    'idaho': 'id',\n",
    "    'Illinois': 'il',\n",
    "    'indiana': 'in',\n",
    "    'iowa': 'ia',\n",
    "    'kansas': 'ks',\n",
    "    'kentucky': 'ky',\n",
    "    'louisiana': 'la',\n",
    "    'maine': 'me',\n",
    "    'maryland': 'md',\n",
    "    'massachusetts': 'ma',\n",
    "    'michigan': 'mi',\n",
    "    'Minnesota': 'MN',\n",
    "    'mississippi': 'ms',\n",
    "    'missouri': 'mo',\n",
    "    'montana': 'mt',\n",
    "    'nebraska': 'ne',\n",
    "    'nevada': 'nv',\n",
    "    'new hampshire': 'nh',\n",
    "    'new jersey': 'nj',\n",
    "    'new mexico': 'nm',\n",
    "    'new york': 'ny',\n",
    "    'north carolina': 'nc',\n",
    "    'north dakota': 'nd',\n",
    "    'ohio': 'oh',\n",
    "    'oklahoma': 'ok',\n",
    "    'oregon': 'or',\n",
    "    'pennsylvania': 'pa',\n",
    "    'rhode island': 'ri',\n",
    "    'south carolina': 'sc',\n",
    "    'south dakota': 'sd',\n",
    "    'tennessee': 'tn',\n",
    "    'texas': 'tx',\n",
    "    'utah': 'ut',\n",
    "    'vermont': 'vt',\n",
    "    'virginia': 'va',\n",
    "    'washington': 'wa',\n",
    "    'west virginia': 'wv',\n",
    "    'wisconsin': 'wi',\n",
    "    'wyoming': 'wy',\n",
    "}"
   ]
  },
  {
   "cell_type": "code",
   "execution_count": 9,
   "metadata": {},
   "outputs": [],
   "source": [
    "abbrev_to_states = {}\n",
    "for key in us_state_abbrev.keys():\n",
    "    abbrev_to_states[us_state_abbrev[key]] = key"
   ]
  },
  {
   "cell_type": "code",
   "execution_count": 51,
   "metadata": {},
   "outputs": [],
   "source": [
    "# extract country and region from location\n",
    "country = []\n",
    "region = []\n",
    "j = 0\n",
    "for location in data['location']:\n",
    "    j=j+1\n",
    "    if location == 'Not available' or location == ' ':\n",
    "        country.append('')\n",
    "        #print(location)\n",
    "        region.append('')\n",
    "    else:\n",
    "        location=location.replace('.','')\n",
    "        location = location.lower()\n",
    "        if ',' not in location:\n",
    "            splitted_string = location.split()\n",
    "            location = ' '.join(splitted_string[:-1])+','+splitted_string[-1]\n",
    "        location_list = re.split(';| -|,|[|]|/',location)\n",
    "        location_list = [i.strip() for i in location_list if i] \n",
    "        if 'chicago' in location_list and len(location_list)<2:\n",
    "            location_list.append(abbrev_to_states['il'])\n",
    "        if \"boston\" in location_list and len(location_list)>2:\n",
    "            location_list.append(abbrev_to_states['ma'])\n",
    "        #print(location_list)\n",
    "        if location_list[-1] in abbrev_to_states or location_list[-1] in us_state_abbrev:\n",
    "            country.append('united states')\n",
    "            try:\n",
    "                region.append(abbrev_to_states[location_list[-1]])\n",
    "            except:\n",
    "                region.append(location_list[-1])\n",
    "        elif len(location_list)>=2 and (location_list[-2] in abbrev_to_states or location_list[-2] in us_state_abbrev):\n",
    "            country.append('united states')\n",
    "            try:\n",
    "                region.append(abbrev_to_states[location_list[-2]])\n",
    "            except:\n",
    "                region.append(location_list[-2])\n",
    "        \n",
    "        else:\n",
    "            if 'usa' in location_list[-1] or 'us' == location_list[-1]:\n",
    "                country.append('usa')\n",
    "                region.append(location_list[-1][:location_list[-1].find('U')])\n",
    "            elif 'jersey' in location_list[-1]:\n",
    "                country.append('usa')\n",
    "                region.append('new jersey')\n",
    "            elif 'lousiana' in location_list[-1]:\n",
    "                # misspell\n",
    "                country.append('usa')\n",
    "                region.append('louisiana')\n",
    "            elif 'engla' == location_list[-1]:\n",
    "                country.append('england')\n",
    "                region.append(location_list[-2])\n",
    "            elif 'massachusettes' in location_list[-1]:\n",
    "                country.append('usa')\n",
    "                region.append('massachusetts')\n",
    "            elif \"angels\" in location_list[-1] or \"barbara\" in location_list[-1]:\n",
    "                country.append('usa')\n",
    "                region.append('california')\n",
    "            elif \"seattle\" in location_list[-1]:\n",
    "                country.append('usa')\n",
    "                region.append('washington')\n",
    "            elif 'katy' in location_list[-1]:\n",
    "                country.append('usa')\n",
    "                region.append('texas')\n",
    "            elif location_list[-1] in us_state_abbrev:\n",
    "                country.append('usa')\n",
    "                region.append(location_list[-1])\n",
    "            else:\n",
    "                country.append(location_list[-1])\n",
    "                if len(location_list) >= 2:\n",
    "                    region.append(location_list[-2])\n",
    "                else:\n",
    "                    region.append('')\n",
    "    "
   ]
  },
  {
   "cell_type": "code",
   "execution_count": 52,
   "metadata": {},
   "outputs": [],
   "source": [
    "data['country'] = country\n",
    "data['region'] = region"
   ]
  },
  {
   "cell_type": "code",
   "execution_count": 54,
   "metadata": {},
   "outputs": [
    {
     "data": {
      "text/html": [
       "<div>\n",
       "<style scoped>\n",
       "    .dataframe tbody tr th:only-of-type {\n",
       "        vertical-align: middle;\n",
       "    }\n",
       "\n",
       "    .dataframe tbody tr th {\n",
       "        vertical-align: top;\n",
       "    }\n",
       "\n",
       "    .dataframe thead th {\n",
       "        text-align: right;\n",
       "    }\n",
       "</style>\n",
       "<table border=\"1\" class=\"dataframe\">\n",
       "  <thead>\n",
       "    <tr style=\"text-align: right;\">\n",
       "      <th></th>\n",
       "      <th>mean</th>\n",
       "      <th>size</th>\n",
       "    </tr>\n",
       "    <tr>\n",
       "      <th>country</th>\n",
       "      <th></th>\n",
       "      <th></th>\n",
       "    </tr>\n",
       "  </thead>\n",
       "  <tbody>\n",
       "    <tr>\n",
       "      <th>oxford</th>\n",
       "      <td>0.728377</td>\n",
       "      <td>1</td>\n",
       "    </tr>\n",
       "    <tr>\n",
       "      <th>nigeria</th>\n",
       "      <td>0.664061</td>\n",
       "      <td>6</td>\n",
       "    </tr>\n",
       "    <tr>\n",
       "      <th>ldn</th>\n",
       "      <td>0.653728</td>\n",
       "      <td>4</td>\n",
       "    </tr>\n",
       "    <tr>\n",
       "      <th>united kingdom</th>\n",
       "      <td>0.647975</td>\n",
       "      <td>9</td>\n",
       "    </tr>\n",
       "    <tr>\n",
       "      <th>portugal</th>\n",
       "      <td>0.637547</td>\n",
       "      <td>5</td>\n",
       "    </tr>\n",
       "    <tr>\n",
       "      <th>colombia</th>\n",
       "      <td>0.628968</td>\n",
       "      <td>14</td>\n",
       "    </tr>\n",
       "    <tr>\n",
       "      <th>norrta$?lje</th>\n",
       "      <td>0.624071</td>\n",
       "      <td>2</td>\n",
       "    </tr>\n",
       "    <tr>\n",
       "      <th>borla$?nge</th>\n",
       "      <td>0.615553</td>\n",
       "      <td>4</td>\n",
       "    </tr>\n",
       "    <tr>\n",
       "      <th>barbados</th>\n",
       "      <td>0.614847</td>\n",
       "      <td>8</td>\n",
       "    </tr>\n",
       "    <tr>\n",
       "      <th>guerrero</th>\n",
       "      <td>0.612861</td>\n",
       "      <td>1</td>\n",
       "    </tr>\n",
       "  </tbody>\n",
       "</table>\n",
       "</div>"
      ],
      "text/plain": [
       "                    mean  size\n",
       "country                       \n",
       "oxford          0.728377     1\n",
       "nigeria         0.664061     6\n",
       "ldn             0.653728     4\n",
       "united kingdom  0.647975     9\n",
       "portugal        0.637547     5\n",
       "colombia        0.628968    14\n",
       "norrta$?lje     0.624071     2\n",
       "borla$?nge      0.615553     4\n",
       "barbados        0.614847     8\n",
       "guerrero        0.612861     1"
      ]
     },
     "execution_count": 54,
     "metadata": {},
     "output_type": "execute_result"
    }
   ],
   "source": [
    "hotness_by_country = data.groupby('country')['song.hotttnesss'].agg(['mean','size'])\n",
    "hotness_by_country = hotness_by_country[hotness_by_country>0.6]\n",
    "hotness_by_country.sort_values(by = 'mean',ascending = False).head(10)"
   ]
  },
  {
   "cell_type": "markdown",
   "metadata": {},
   "source": [
    "+ Notice that regions with high average hotness also have very few number of songs and they are all non-us regions.\n",
    "+ We also notice that foreign countries tend to have high average hotness.\n",
    "\n",
    "**Therefore,we suspect that that there is a record bias**: that the data collector, being us entity, will only record foreign songs that are already a big hit locally. Therefore, although we can see region is highly predictive of the song's hotness following this path of reasoning, we cannot predict a song's hotness based on the region they come from. Take \"Oxford, England\" as an example, it is not that songs from England is hot, but that only hit songs in Oxford are recorded by this dataset(collection based in U.S.)"
   ]
  },
  {
   "cell_type": "markdown",
   "metadata": {},
   "source": [
    "**Motivation of dropping artist familiarity**"
   ]
  },
  {
   "cell_type": "code",
   "execution_count": 366,
   "metadata": {
    "scrolled": true
   },
   "outputs": [
    {
     "data": {
      "image/png": "[encoded data removed]",
      "text/plain": [
       "<matplotlib.figure.Figure at 0x1a2c59cf60>"
      ]
     },
     "metadata": {},
     "output_type": "display_data"
    }
   ],
   "source": [
    "corr_df = data[['artist.hotttnesss','familiarity']]\n",
    "corr_df = corr_df.loc[corr_df['artist.hotttnesss']!=0]\n",
    "# I suspect that some hotness are missing and recoded as 0 so we\n",
    "# remove them, otherwise there exists a vertical line at hotness = 0\n",
    "plt.scatter(corr_df['artist.hotttnesss'],corr_df['familiarity'],s=1,color = 'purple');\n",
    "plt.title('Artists Hotness and Familiarity',color = 'green',fontsize = 15);\n",
    "plt.xlabel('Hotness',fontsize = 15);\n",
    "plt.ylabel('familiarity',fontsize = 15);"
   ]
  },
  {
   "cell_type": "code",
   "execution_count": 118,
   "metadata": {},
   "outputs": [
    {
     "name": "stdout",
     "output_type": "stream",
     "text": [
      "correlation between artist hotness and familiarity 0.81\n",
      "this is very significant as p-value is  0.0\n"
     ]
    }
   ],
   "source": [
    "corr, pvalue = pearsonr(corr_df['artist.hotttnesss'],corr_df['familiarity'])\n",
    "print('correlation between artist hotness and familiarity', round(corr,2))\n",
    "print('this is very significant as p-value is ',pvalue)"
   ]
  },
  {
   "cell_type": "markdown",
   "metadata": {},
   "source": [
    "**Motivation of dropping mode from feature list**\n",
    "Mode indicates whether a song used a major key(1)."
   ]
  },
  {
   "cell_type": "code",
   "execution_count": 90,
   "metadata": {},
   "outputs": [
    {
     "data": {
      "image/png": "[encoded data removed]",
      "text/plain": [
       "<matplotlib.figure.Figure at 0x1a207a5fd0>"
      ]
     },
     "metadata": {},
     "output_type": "display_data"
    }
   ],
   "source": [
    "f,ax = plt.subplots(1,2,figsize = (10,5))\n",
    "ax[1].set_title('Distribution of Hotness when Mode is 1',color = 'green')\n",
    "ax[0].set_title('Distribution of Hotness when Mode is 0',color = 'green')\n",
    "ax[0].hist(data.loc[data['mode'] == 0].loc[data['song.hotttnesss']!=0].dropna()['song.hotttnesss'],bins = 30,color = 'purple');\n",
    "ax[1].hist(data.loc[data['mode'] == 1].loc[data['song.hotttnesss']!=0].dropna()['song.hotttnesss'],bins = 30,color = 'purple');"
   ]
  },
  {
   "cell_type": "markdown",
   "metadata": {},
   "source": [
    "**Replacing year with decades**"
   ]
  },
  {
   "cell_type": "code",
   "execution_count": 91,
   "metadata": {},
   "outputs": [],
   "source": [
    "result = []\n",
    "for year in data.year:\n",
    "    if year > 1000:\n",
    "        result.append(str(year)[:3]+'0')\n",
    "    else:\n",
    "        result.append(np.nan)"
   ]
  },
  {
   "cell_type": "code",
   "execution_count": 104,
   "metadata": {},
   "outputs": [
    {
     "data": {
      "image/png": "[encoded data removed]",
      "text/plain": [
       "<matplotlib.figure.Figure at 0x1a205b40b8>"
      ]
     },
     "metadata": {},
     "output_type": "display_data"
    }
   ],
   "source": [
    "data['decade'] = result;\n",
    "year_df = data.groupby('decade')['song.hotttnesss'].mean();\n",
    "year_clean = year_df.fillna(0);\n",
    "plt.title('Average Song Hotness over Decades',color = 'green')\n",
    "plt.bar(x = year_clean.index,height = year_clean.values, color = 'purple');\n",
    "year_full = data.query('year>1000')"
   ]
  },
  {
   "cell_type": "markdown",
   "metadata": {},
   "source": [
    "We notice that there is a tendency that more recent songs are rated higher. This makes intuitive sense because the hotness is the current hotness. "
   ]
  },
  {
   "cell_type": "markdown",
   "metadata": {},
   "source": [
    "**Studying Song Release pattern over time**"
   ]
  },
  {
   "cell_type": "code",
   "execution_count": 105,
   "metadata": {},
   "outputs": [
    {
     "data": {
      "image/png": "[encoded data removed]",
      "text/plain": [
       "<matplotlib.figure.Figure at 0x1a1f681860>"
      ]
     },
     "metadata": {},
     "output_type": "display_data"
    }
   ],
   "source": [
    "plt.title('Song Distribution in the Data Set',color = 'green',fontsize = 15);\n",
    "plt.hist(year_full['year'],bins =30,color = 'purple');\n",
    "plt.xlabel('Song Release Year',fontsize = 15);\n",
    "plt.ylabel('Number of Songs Recorded',fontsize = 15);\n",
    "plt.vlines(x = 1980,ymin =0,ymax = 800,color = 'white');\n",
    "plt.text(x=1970,y=100,s='Invention \\nof CD',color = 'green');"
   ]
  },
  {
   "cell_type": "markdown",
   "metadata": {},
   "source": [
    "We observe that songs are released in large amount after 1980, which is when CD was invented and popularized."
   ]
  },
  {
   "cell_type": "markdown",
   "metadata": {},
   "source": [
    "**Potentially most predictive feature**"
   ]
  },
  {
   "cell_type": "code",
   "execution_count": 106,
   "metadata": {},
   "outputs": [
    {
     "data": {
      "image/png": "[encoded data removed]",
      "text/plain": [
       "<matplotlib.figure.Figure at 0x1a200bcda0>"
      ]
     },
     "metadata": {},
     "output_type": "display_data"
    }
   ],
   "source": [
    "plt.title('Artist Hotness VS Song Hotness',color = 'green',fontsize = 15);\n",
    "plt.scatter(data['artist.hotttnesss'],data['song.hotttnesss'],s = 1,color = 'purple');\n",
    "plt.xlabel('Song Hotness',fontsize = 15);\n",
    "plt.ylabel(\"Artist Hotness\",fontsize = 15);"
   ]
  },
  {
   "cell_type": "markdown",
   "metadata": {},
   "source": [
    "We observe that artist hotness is possibly the most predictive feature for song hotness. "
   ]
  },
  {
   "cell_type": "markdown",
   "metadata": {},
   "source": [
    "**Tokenize 'terms' and use tfidf scores as features**"
   ]
  },
  {
   "cell_type": "markdown",
   "metadata": {},
   "source": [
    "tfidf score use the frequency a word appears to quantify its importance, while adjusting for the fact that common words appear most frequently with very little meaning. We believe it could be a good indicator because popular(tend to be hot) styles will appear more frequently.\n",
    "**This part may need further processing to trim down the number of features we have, currently we have 381**"
   ]
  },
  {
   "cell_type": "code",
   "execution_count": 159,
   "metadata": {},
   "outputs": [
    {
     "name": "stdout",
     "output_type": "stream",
     "text": [
      "[nltk_data] Downloading package stopwords to\n",
      "[nltk_data]     /Users/yanzhao/nltk_data...\n",
      "[nltk_data]   Unzipping corpora/stopwords.zip.\n"
     ]
    },
    {
     "data": {
      "text/plain": [
       "True"
      ]
     },
     "execution_count": 159,
     "metadata": {},
     "output_type": "execute_result"
    }
   ],
   "source": [
    "import nltk\n",
    "nltk.download('stopwords')"
   ]
  },
  {
   "cell_type": "code",
   "execution_count": 172,
   "metadata": {},
   "outputs": [],
   "source": [
    "stop_words = set(stopwords.words('english'))\n",
    "corpus = data['terms'].fillna('')"
   ]
  },
  {
   "cell_type": "code",
   "execution_count": 173,
   "metadata": {},
   "outputs": [],
   "source": [
    "result = []\n",
    "for i in corpus:\n",
    "    song = ' '.join([j for j in i.split() if j not in stop_words])\n",
    "    result.append(song)"
   ]
  },
  {
   "cell_type": "code",
   "execution_count": 174,
   "metadata": {},
   "outputs": [],
   "source": [
    "vectorizer = TfidfVectorizer()\n",
    "X = vectorizer.fit_transform(corpus)"
   ]
  },
  {
   "cell_type": "code",
   "execution_count": 175,
   "metadata": {},
   "outputs": [
    {
     "data": {
      "text/plain": [
       "'hip hop'"
      ]
     },
     "execution_count": 175,
     "metadata": {},
     "output_type": "execute_result"
    }
   ],
   "source": [
    "data.terms[0]"
   ]
  },
  {
   "cell_type": "code",
   "execution_count": 176,
   "metadata": {},
   "outputs": [
    {
     "name": "stdout",
     "output_type": "stream",
     "text": [
      "  (0, 175)\t0.712195928590824\n",
      "  (0, 177)\t0.7019807399769983\n",
      "175\n",
      "177\n",
      "(10000, 381)\n"
     ]
    }
   ],
   "source": [
    "# as an example \n",
    "print(X[0,:])\n",
    "# 0 indicates the 0th song, 175, and 177 indicates the respective words\n",
    "print(vectorizer.vocabulary_['hip'])\n",
    "print(vectorizer.vocabulary_['hop'])\n",
    "print(X.shape)"
   ]
  },
  {
   "cell_type": "code",
   "execution_count": 177,
   "metadata": {},
   "outputs": [],
   "source": [
    "# ready for further investigation\n",
    "my_terms = X.toarray()"
   ]
  }
 ],
 "metadata": {
  "kernelspec": {
   "display_name": "Python 3",
   "language": "python",
   "name": "python3"
  },
  "language_info": {
   "codemirror_mode": {
    "name": "ipython",
    "version": 3
   },
   "file_extension": ".py",
   "mimetype": "text/x-python",
   "name": "python",
   "nbconvert_exporter": "python",
   "pygments_lexer": "ipython3",
   "version": "3.6.4"
  }
 },
 "nbformat": 4,
 "nbformat_minor": 2
}
